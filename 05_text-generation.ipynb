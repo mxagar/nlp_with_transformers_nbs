{
  "cells": [
    {
      "cell_type": "code",
      "execution_count": 1,
      "metadata": {
        "id": "Wz0HNH3vy2aH",
        "outputId": "1ea4bf09-1b57-4e9d-f2a5-b062a3e25180",
        "colab": {
          "base_uri": "https://localhost:8080/"
        }
      },
      "outputs": [
        {
          "output_type": "stream",
          "name": "stdout",
          "text": [
            "Cloning into 'nlp_with_transformers_nbs'...\n",
            "remote: Enumerating objects: 626, done.\u001b[K\n",
            "remote: Counting objects: 100% (308/308), done.\u001b[K\n",
            "remote: Compressing objects: 100% (115/115), done.\u001b[K\n",
            "remote: Total 626 (delta 235), reused 235 (delta 193), pack-reused 318 (from 1)\u001b[K\n",
            "Receiving objects: 100% (626/626), 34.64 MiB | 33.05 MiB/s, done.\n",
            "Resolving deltas: 100% (304/304), done.\n",
            "/content/nlp_with_transformers_nbs\n",
            "⏳ Installing base requirements ...\n",
            "✅ Base requirements installed!\n",
            "⏳ Installing Git LFS ...\n",
            "✅ Git LFS installed!\n"
          ]
        }
      ],
      "source": [
        "# Uncomment and run this cell if you're on Colab or Kaggle\n",
        "!git clone https://github.com/mxagar/nlp_with_transformers_nbs.git\n",
        "%cd nlp_with_transformers_nbs\n",
        "from install import *\n",
        "install_requirements(is_chapter2=False) # or other chapters..."
      ]
    },
    {
      "cell_type": "code",
      "source": [
        "# Log in to HF with HF_TOKEN\n",
        "from huggingface_hub import notebook_login\n",
        "notebook_login()"
      ],
      "metadata": {
        "id": "bq786k96zS57",
        "outputId": "1a7855a9-c9f5-4bf1-f745-b0c7e0079627",
        "colab": {
          "base_uri": "https://localhost:8080/",
          "height": 331,
          "referenced_widgets": [
            "c82273fd08c541cc9fcd739b2c47367d",
            "c01cd18d0b71466dafbd21f60955b19f",
            "6f9bced80b1e4ef4a75bfbcccc1b1c43",
            "8b8bc381ce3743acbcac3a968bebc52c",
            "167b2bd333a1451a81bfcd64dffdcb94",
            "d50f2348a92944db927a673388ba3da1",
            "f2b8169af4cf4d4bb3152c2c240f4a77",
            "46e1afef25e24f4b952bb18c093f180c",
            "8c8a5a5bbb374805a2d637d42d52ce5d",
            "13cad2a99d704363948aeadad8941b10",
            "8682134d2b0c438ab64942b6704ddab6",
            "7494b135d7fd4768a935bd168cb62f6f",
            "88a80898cb664772a8b1b969d8a176a9",
            "9cf14a90049a45c7a03c3f0760089b7c",
            "eda0b4b1359c4aeca992fdf7e0fbae71",
            "ac956857434c4cf0a6cb738ab23b1fba",
            "f663d64b986e45c996f5507578a5aae7"
          ]
        }
      },
      "execution_count": 2,
      "outputs": [
        {
          "output_type": "display_data",
          "data": {
            "text/plain": [
              "VBox(children=(HTML(value='<center> <img\\nsrc=https://huggingface.co/front/assets/huggingface_logo-noborder.sv…"
            ],
            "application/vnd.jupyter.widget-view+json": {
              "version_major": 2,
              "version_minor": 0,
              "model_id": "c82273fd08c541cc9fcd739b2c47367d"
            }
          },
          "metadata": {}
        }
      ]
    },
    {
      "cell_type": "code",
      "execution_count": 3,
      "metadata": {
        "id": "rTwWLoIOy2aJ",
        "outputId": "ca2979ff-8a53-47c3-f058-e9bb43524db9",
        "colab": {
          "base_uri": "https://localhost:8080/"
        }
      },
      "outputs": [
        {
          "output_type": "stream",
          "name": "stdout",
          "text": [
            "No GPU was detected! This notebook can be *very* slow without a GPU 🐢\n",
            "Go to Runtime > Change runtime type and select a GPU hardware accelerator.\n",
            "Using transformers v4.16.2\n",
            "Using datasets v1.16.1\n"
          ]
        }
      ],
      "source": [
        "# hide\n",
        "from utils import *\n",
        "setup_chapter()"
      ]
    },
    {
      "cell_type": "markdown",
      "metadata": {
        "id": "SCw0R9evy2aK"
      },
      "source": [
        "# Text Generation"
      ]
    },
    {
      "cell_type": "markdown",
      "metadata": {
        "id": "41fkORXWy2aL"
      },
      "source": [
        "<img alt=\"LM Meta Learning\" width=\"800\" caption=\"During pretraining, language models are exposed to sequences of tasks that can be adapted during inference (courtesy of Tom B. Brown)\" src=\"https://github.com/mxagar/nlp_with_transformers_nbs/blob/main/images/chapter05_lm-meta-learning.png?raw=1\" id=\"lm-meta-learning\"/>"
      ]
    },
    {
      "cell_type": "markdown",
      "metadata": {
        "id": "9npXzxujy2aL"
      },
      "source": [
        "<img alt=\"Meena\" width=\"300\" caption=\"Meena on the left telling a corny joke to a human on the right (courtesy of Daniel Adiwardana and Thang Luong)\" src=\"https://github.com/mxagar/nlp_with_transformers_nbs/blob/main/images/chapter05_meena.png?raw=1\" id=\"meena\"/>"
      ]
    },
    {
      "cell_type": "markdown",
      "metadata": {
        "id": "RLpZNcTMy2aL"
      },
      "source": [
        "## The Challenge with Generating Coherent Text"
      ]
    },
    {
      "cell_type": "markdown",
      "metadata": {
        "id": "rKzsvndMy2aM"
      },
      "source": [
        "<img alt=\"Text generation\" width=\"700\" caption=\"Generating text from an input sequence by adding a new word to the input at each step\" src=\"https://github.com/mxagar/nlp_with_transformers_nbs/blob/main/images/chapter05_text-generation.png?raw=1\" id=\"text-generation\"/>"
      ]
    },
    {
      "cell_type": "markdown",
      "metadata": {
        "id": "JedKwpUxy2aM"
      },
      "source": [
        "## Greedy Search Decoding"
      ]
    },
    {
      "cell_type": "code",
      "execution_count": 4,
      "metadata": {
        "id": "xllFkGgGy2aN",
        "outputId": "d06c1d20-cbbf-4a27-8de2-c0503c3c8440",
        "colab": {
          "base_uri": "https://localhost:8080/",
          "height": 265,
          "referenced_widgets": [
            "4266c2ce45da4ffe84316076ee631587",
            "9dc0320acc65480584b0dfea0c1e01ce",
            "4c2dba35454445408f61bfb111aa7279",
            "6de9f97d762046398d04fd57d8ab84a5",
            "b44c254c95974131a00623c4ada8f12d",
            "552ac9db8cf9437782525a09eda67ddb",
            "2dfd430f621e456787b6f994b274135f",
            "b05b3f82e7ce40568e1c2bac19b978e1",
            "5266495a28a7421482f804928d521682",
            "a31c940616d0486fb66b86ac211bdb14",
            "42e3acf943b849a594dd2eb3b10e65f2",
            "e685992688f6481f9cbc1944770f5340",
            "06ceb6c57ead444fba68513980b42330",
            "2f9d07c26b2243ce98babe43e9130988",
            "7004e809283e427b8580379c7e978184",
            "5b70fe09fa2041008d20860de0fc78c7",
            "5868606889c3403e94ef4efa9cf26782",
            "c4d91fb59dbc46d18ba43b4d869edba7",
            "ff10a7b2b4724cfba279de93991d5c6e",
            "b36dbbfadb0449fd89f9639094737132",
            "32bdd28cdb4f4430997ee4a77c5b9c21",
            "9b5c45925cf54fcc8e825630a357312d",
            "52b1eee44d5b45398b36ffa165805ac3",
            "e5107ae5d3f64b02b51681c7bb1751f2",
            "52b3855af88c46e784fc6ab982b05eb0",
            "f6c3ffb5496c485ba625ee6a5cc983c8",
            "0622a08b7ecb430a80bbd6367c6caa62",
            "903b48c6a37545648f50d7206e7c4247",
            "884ff4c9e515448c99ec7eb1848ac470",
            "caa2d714a197462e89c939a3a1f0d72f",
            "c66a863e9db34b9e8d344bad08b958ae",
            "c6dc89591f7c44ce9ae3a138bad080b9",
            "bf2209601c3648a88b8044abb4736326",
            "92fd43596882490e9a223a94ede90ec7",
            "51d98231ec4e40c4875b98e899dbacbe",
            "a3dd11433ec7491d956548d959875baf",
            "88cee9181bd64a78af27ebc05a1d9354",
            "96233cb7c5ea414a9bcfe5d4528435b5",
            "cf049633e798444592febe9eb6a1ef88",
            "d67f6b5f0c4f4b2f8086b861f7a463fd",
            "17f2cb05a0bc49f4b25e7f1045eea2de",
            "0126c401532f4c2887d6a75fc9ff0678",
            "acb132a2a41942f6a302165a72b79646",
            "45a54fccc94f4581930c08e69718b8d5",
            "48d1f8c52d81474d8833dfca619439ed",
            "b6fadcd90c2841eebd1293d0727ecdbc",
            "f92f49202ed54c729af29d92a7999aa4",
            "0fdbd2b43f7e4e8db3b5612908dde5cc",
            "4c446a5a53294ea88d26f9c58475e400",
            "74c1164721d245baa8ddeda9096c76bf",
            "f048718a550845e6abb3159c3610f8cc",
            "59659266765d4355b76a16e709b293ef",
            "7870018333b94bc08581df095b89e0df",
            "901bde994544474588b7950826377d9c",
            "02a12dbe9c444d68910bd7822b6f1204",
            "f193a283aae14df39270af5329e171e2",
            "312fc2c1769745c4ab0b9f356ec7bfb0",
            "04ea5971c8e14858b2b293ccc748837c",
            "4dc9e2fcf2c6422393a6c530283dd524",
            "cd2040e186bb4ca2aad3afa4a7df0c81",
            "d7e73a85d13347cf8d7013c9f060c4d4",
            "f67160e94ee74e9c8bdbf0d9fdd14fb1",
            "1d1daa80277542a6b2a3911a6cbb98a8",
            "c57b51fee4b9447096755efc29a979f4",
            "1862085e328848669d6521c6038de945",
            "6f22b67f54f141fabd8d50c006fc3052"
          ]
        }
      },
      "outputs": [
        {
          "output_type": "display_data",
          "data": {
            "text/plain": [
              "Downloading:   0%|          | 0.00/26.0 [00:00<?, ?B/s]"
            ],
            "application/vnd.jupyter.widget-view+json": {
              "version_major": 2,
              "version_minor": 0,
              "model_id": "4266c2ce45da4ffe84316076ee631587"
            }
          },
          "metadata": {}
        },
        {
          "output_type": "display_data",
          "data": {
            "text/plain": [
              "Downloading:   0%|          | 0.00/689 [00:00<?, ?B/s]"
            ],
            "application/vnd.jupyter.widget-view+json": {
              "version_major": 2,
              "version_minor": 0,
              "model_id": "e685992688f6481f9cbc1944770f5340"
            }
          },
          "metadata": {}
        },
        {
          "output_type": "display_data",
          "data": {
            "text/plain": [
              "Downloading:   0%|          | 0.00/0.99M [00:00<?, ?B/s]"
            ],
            "application/vnd.jupyter.widget-view+json": {
              "version_major": 2,
              "version_minor": 0,
              "model_id": "52b1eee44d5b45398b36ffa165805ac3"
            }
          },
          "metadata": {}
        },
        {
          "output_type": "display_data",
          "data": {
            "text/plain": [
              "Downloading:   0%|          | 0.00/446k [00:00<?, ?B/s]"
            ],
            "application/vnd.jupyter.widget-view+json": {
              "version_major": 2,
              "version_minor": 0,
              "model_id": "92fd43596882490e9a223a94ede90ec7"
            }
          },
          "metadata": {}
        },
        {
          "output_type": "display_data",
          "data": {
            "text/plain": [
              "Downloading:   0%|          | 0.00/1.29M [00:00<?, ?B/s]"
            ],
            "application/vnd.jupyter.widget-view+json": {
              "version_major": 2,
              "version_minor": 0,
              "model_id": "48d1f8c52d81474d8833dfca619439ed"
            }
          },
          "metadata": {}
        },
        {
          "output_type": "display_data",
          "data": {
            "text/plain": [
              "Downloading:   0%|          | 0.00/5.99G [00:00<?, ?B/s]"
            ],
            "application/vnd.jupyter.widget-view+json": {
              "version_major": 2,
              "version_minor": 0,
              "model_id": "f193a283aae14df39270af5329e171e2"
            }
          },
          "metadata": {}
        },
        {
          "output_type": "stream",
          "name": "stderr",
          "text": [
            "/usr/local/lib/python3.10/dist-packages/transformers/modeling_utils.py:1435: FutureWarning: You are using `torch.load` with `weights_only=False` (the current default value), which uses the default pickle module implicitly. It is possible to construct malicious pickle data which will execute arbitrary code during unpickling (See https://github.com/pytorch/pytorch/blob/main/SECURITY.md#untrusted-models for more details). In a future release, the default value for `weights_only` will be flipped to `True`. This limits the functions that could be executed during unpickling. Arbitrary objects will no longer be allowed to be loaded via this mode unless they are explicitly allowlisted by the user via `torch.serialization.add_safe_globals`. We recommend you start setting `weights_only=True` for any use case where you don't have full control of the loaded file. Please open an issue on GitHub for any issues related to this experimental feature.\n",
            "  state_dict = torch.load(resolved_archive_file, map_location=\"cpu\")\n"
          ]
        }
      ],
      "source": [
        "# hide_output\n",
        "import torch\n",
        "from transformers import AutoTokenizer, AutoModelForCausalLM\n",
        "\n",
        "device = \"cuda\" if torch.cuda.is_available() else \"cpu\"\n",
        "model_name = \"gpt2-xl\"\n",
        "tokenizer = AutoTokenizer.from_pretrained(model_name)\n",
        "model = AutoModelForCausalLM.from_pretrained(model_name).to(device)"
      ]
    },
    {
      "cell_type": "code",
      "execution_count": 5,
      "metadata": {
        "id": "Ye_BEIDTy2aO",
        "outputId": "4bf8448c-07fb-4df1-88bb-3d7735d1c35a",
        "colab": {
          "base_uri": "https://localhost:8080/",
          "height": 300
        }
      },
      "outputs": [
        {
          "output_type": "execute_result",
          "data": {
            "text/plain": [
              "                                               Input           Choice 1  \\\n",
              "0                               Transformers are the       most (8.53%)   \n",
              "1                          Transformers are the most   popular (16.78%)   \n",
              "2                  Transformers are the most popular       toy (10.63%)   \n",
              "3              Transformers are the most popular toy      line (34.38%)   \n",
              "4         Transformers are the most popular toy line        in (46.28%)   \n",
              "5      Transformers are the most popular toy line in       the (65.99%)   \n",
              "6  Transformers are the most popular toy line in the     world (69.27%)   \n",
              "7  Transformers are the most popular toy line in ...         , (39.73%)   \n",
              "\n",
              "            Choice 2               Choice 3               Choice 4  \\\n",
              "0       only (4.96%)           best (4.65%)   Transformers (4.37%)   \n",
              "1   powerful (5.37%)         common (4.96%)         famous (3.72%)   \n",
              "2       toys (7.23%)   Transformers (6.60%)             of (5.46%)   \n",
              "3        in (18.20%)            of (11.71%)          brand (6.10%)   \n",
              "4        of (15.09%)              , (4.94%)             on (4.40%)   \n",
              "5   history (12.42%)        America (6.91%)          Japan (2.44%)   \n",
              "6     United (4.55%)        history (4.29%)             US (4.23%)   \n",
              "7         . (30.64%)            and (9.87%)           with (2.32%)   \n",
              "\n",
              "              Choice 5  \n",
              "0     ultimate (2.16%)  \n",
              "1   successful (3.20%)  \n",
              "2          and (3.76%)  \n",
              "3         line (2.69%)  \n",
              "4         ever (2.72%)  \n",
              "5        North (1.40%)  \n",
              "6            U (2.30%)  \n",
              "7        today (1.74%)  "
            ],
            "text/html": [
              "\n",
              "  <div id=\"df-7cf8e83c-2e1f-4b20-8a41-a682b44d5156\" class=\"colab-df-container\">\n",
              "    <div>\n",
              "<style scoped>\n",
              "    .dataframe tbody tr th:only-of-type {\n",
              "        vertical-align: middle;\n",
              "    }\n",
              "\n",
              "    .dataframe tbody tr th {\n",
              "        vertical-align: top;\n",
              "    }\n",
              "\n",
              "    .dataframe thead th {\n",
              "        text-align: right;\n",
              "    }\n",
              "</style>\n",
              "<table border=\"1\" class=\"dataframe\">\n",
              "  <thead>\n",
              "    <tr style=\"text-align: right;\">\n",
              "      <th></th>\n",
              "      <th>Input</th>\n",
              "      <th>Choice 1</th>\n",
              "      <th>Choice 2</th>\n",
              "      <th>Choice 3</th>\n",
              "      <th>Choice 4</th>\n",
              "      <th>Choice 5</th>\n",
              "    </tr>\n",
              "  </thead>\n",
              "  <tbody>\n",
              "    <tr>\n",
              "      <th>0</th>\n",
              "      <td>Transformers are the</td>\n",
              "      <td>most (8.53%)</td>\n",
              "      <td>only (4.96%)</td>\n",
              "      <td>best (4.65%)</td>\n",
              "      <td>Transformers (4.37%)</td>\n",
              "      <td>ultimate (2.16%)</td>\n",
              "    </tr>\n",
              "    <tr>\n",
              "      <th>1</th>\n",
              "      <td>Transformers are the most</td>\n",
              "      <td>popular (16.78%)</td>\n",
              "      <td>powerful (5.37%)</td>\n",
              "      <td>common (4.96%)</td>\n",
              "      <td>famous (3.72%)</td>\n",
              "      <td>successful (3.20%)</td>\n",
              "    </tr>\n",
              "    <tr>\n",
              "      <th>2</th>\n",
              "      <td>Transformers are the most popular</td>\n",
              "      <td>toy (10.63%)</td>\n",
              "      <td>toys (7.23%)</td>\n",
              "      <td>Transformers (6.60%)</td>\n",
              "      <td>of (5.46%)</td>\n",
              "      <td>and (3.76%)</td>\n",
              "    </tr>\n",
              "    <tr>\n",
              "      <th>3</th>\n",
              "      <td>Transformers are the most popular toy</td>\n",
              "      <td>line (34.38%)</td>\n",
              "      <td>in (18.20%)</td>\n",
              "      <td>of (11.71%)</td>\n",
              "      <td>brand (6.10%)</td>\n",
              "      <td>line (2.69%)</td>\n",
              "    </tr>\n",
              "    <tr>\n",
              "      <th>4</th>\n",
              "      <td>Transformers are the most popular toy line</td>\n",
              "      <td>in (46.28%)</td>\n",
              "      <td>of (15.09%)</td>\n",
              "      <td>, (4.94%)</td>\n",
              "      <td>on (4.40%)</td>\n",
              "      <td>ever (2.72%)</td>\n",
              "    </tr>\n",
              "    <tr>\n",
              "      <th>5</th>\n",
              "      <td>Transformers are the most popular toy line in</td>\n",
              "      <td>the (65.99%)</td>\n",
              "      <td>history (12.42%)</td>\n",
              "      <td>America (6.91%)</td>\n",
              "      <td>Japan (2.44%)</td>\n",
              "      <td>North (1.40%)</td>\n",
              "    </tr>\n",
              "    <tr>\n",
              "      <th>6</th>\n",
              "      <td>Transformers are the most popular toy line in the</td>\n",
              "      <td>world (69.27%)</td>\n",
              "      <td>United (4.55%)</td>\n",
              "      <td>history (4.29%)</td>\n",
              "      <td>US (4.23%)</td>\n",
              "      <td>U (2.30%)</td>\n",
              "    </tr>\n",
              "    <tr>\n",
              "      <th>7</th>\n",
              "      <td>Transformers are the most popular toy line in ...</td>\n",
              "      <td>, (39.73%)</td>\n",
              "      <td>. (30.64%)</td>\n",
              "      <td>and (9.87%)</td>\n",
              "      <td>with (2.32%)</td>\n",
              "      <td>today (1.74%)</td>\n",
              "    </tr>\n",
              "  </tbody>\n",
              "</table>\n",
              "</div>\n",
              "    <div class=\"colab-df-buttons\">\n",
              "\n",
              "  <div class=\"colab-df-container\">\n",
              "    <button class=\"colab-df-convert\" onclick=\"convertToInteractive('df-7cf8e83c-2e1f-4b20-8a41-a682b44d5156')\"\n",
              "            title=\"Convert this dataframe to an interactive table.\"\n",
              "            style=\"display:none;\">\n",
              "\n",
              "  <svg xmlns=\"http://www.w3.org/2000/svg\" height=\"24px\" viewBox=\"0 -960 960 960\">\n",
              "    <path d=\"M120-120v-720h720v720H120Zm60-500h600v-160H180v160Zm220 220h160v-160H400v160Zm0 220h160v-160H400v160ZM180-400h160v-160H180v160Zm440 0h160v-160H620v160ZM180-180h160v-160H180v160Zm440 0h160v-160H620v160Z\"/>\n",
              "  </svg>\n",
              "    </button>\n",
              "\n",
              "  <style>\n",
              "    .colab-df-container {\n",
              "      display:flex;\n",
              "      gap: 12px;\n",
              "    }\n",
              "\n",
              "    .colab-df-convert {\n",
              "      background-color: #E8F0FE;\n",
              "      border: none;\n",
              "      border-radius: 50%;\n",
              "      cursor: pointer;\n",
              "      display: none;\n",
              "      fill: #1967D2;\n",
              "      height: 32px;\n",
              "      padding: 0 0 0 0;\n",
              "      width: 32px;\n",
              "    }\n",
              "\n",
              "    .colab-df-convert:hover {\n",
              "      background-color: #E2EBFA;\n",
              "      box-shadow: 0px 1px 2px rgba(60, 64, 67, 0.3), 0px 1px 3px 1px rgba(60, 64, 67, 0.15);\n",
              "      fill: #174EA6;\n",
              "    }\n",
              "\n",
              "    .colab-df-buttons div {\n",
              "      margin-bottom: 4px;\n",
              "    }\n",
              "\n",
              "    [theme=dark] .colab-df-convert {\n",
              "      background-color: #3B4455;\n",
              "      fill: #D2E3FC;\n",
              "    }\n",
              "\n",
              "    [theme=dark] .colab-df-convert:hover {\n",
              "      background-color: #434B5C;\n",
              "      box-shadow: 0px 1px 3px 1px rgba(0, 0, 0, 0.15);\n",
              "      filter: drop-shadow(0px 1px 2px rgba(0, 0, 0, 0.3));\n",
              "      fill: #FFFFFF;\n",
              "    }\n",
              "  </style>\n",
              "\n",
              "    <script>\n",
              "      const buttonEl =\n",
              "        document.querySelector('#df-7cf8e83c-2e1f-4b20-8a41-a682b44d5156 button.colab-df-convert');\n",
              "      buttonEl.style.display =\n",
              "        google.colab.kernel.accessAllowed ? 'block' : 'none';\n",
              "\n",
              "      async function convertToInteractive(key) {\n",
              "        const element = document.querySelector('#df-7cf8e83c-2e1f-4b20-8a41-a682b44d5156');\n",
              "        const dataTable =\n",
              "          await google.colab.kernel.invokeFunction('convertToInteractive',\n",
              "                                                    [key], {});\n",
              "        if (!dataTable) return;\n",
              "\n",
              "        const docLinkHtml = 'Like what you see? Visit the ' +\n",
              "          '<a target=\"_blank\" href=https://colab.research.google.com/notebooks/data_table.ipynb>data table notebook</a>'\n",
              "          + ' to learn more about interactive tables.';\n",
              "        element.innerHTML = '';\n",
              "        dataTable['output_type'] = 'display_data';\n",
              "        await google.colab.output.renderOutput(dataTable, element);\n",
              "        const docLink = document.createElement('div');\n",
              "        docLink.innerHTML = docLinkHtml;\n",
              "        element.appendChild(docLink);\n",
              "      }\n",
              "    </script>\n",
              "  </div>\n",
              "\n",
              "\n",
              "<div id=\"df-ebd6019a-248b-410f-b8fb-f84983f78a1e\">\n",
              "  <button class=\"colab-df-quickchart\" onclick=\"quickchart('df-ebd6019a-248b-410f-b8fb-f84983f78a1e')\"\n",
              "            title=\"Suggest charts\"\n",
              "            style=\"display:none;\">\n",
              "\n",
              "<svg xmlns=\"http://www.w3.org/2000/svg\" height=\"24px\"viewBox=\"0 0 24 24\"\n",
              "     width=\"24px\">\n",
              "    <g>\n",
              "        <path d=\"M19 3H5c-1.1 0-2 .9-2 2v14c0 1.1.9 2 2 2h14c1.1 0 2-.9 2-2V5c0-1.1-.9-2-2-2zM9 17H7v-7h2v7zm4 0h-2V7h2v10zm4 0h-2v-4h2v4z\"/>\n",
              "    </g>\n",
              "</svg>\n",
              "  </button>\n",
              "\n",
              "<style>\n",
              "  .colab-df-quickchart {\n",
              "      --bg-color: #E8F0FE;\n",
              "      --fill-color: #1967D2;\n",
              "      --hover-bg-color: #E2EBFA;\n",
              "      --hover-fill-color: #174EA6;\n",
              "      --disabled-fill-color: #AAA;\n",
              "      --disabled-bg-color: #DDD;\n",
              "  }\n",
              "\n",
              "  [theme=dark] .colab-df-quickchart {\n",
              "      --bg-color: #3B4455;\n",
              "      --fill-color: #D2E3FC;\n",
              "      --hover-bg-color: #434B5C;\n",
              "      --hover-fill-color: #FFFFFF;\n",
              "      --disabled-bg-color: #3B4455;\n",
              "      --disabled-fill-color: #666;\n",
              "  }\n",
              "\n",
              "  .colab-df-quickchart {\n",
              "    background-color: var(--bg-color);\n",
              "    border: none;\n",
              "    border-radius: 50%;\n",
              "    cursor: pointer;\n",
              "    display: none;\n",
              "    fill: var(--fill-color);\n",
              "    height: 32px;\n",
              "    padding: 0;\n",
              "    width: 32px;\n",
              "  }\n",
              "\n",
              "  .colab-df-quickchart:hover {\n",
              "    background-color: var(--hover-bg-color);\n",
              "    box-shadow: 0 1px 2px rgba(60, 64, 67, 0.3), 0 1px 3px 1px rgba(60, 64, 67, 0.15);\n",
              "    fill: var(--button-hover-fill-color);\n",
              "  }\n",
              "\n",
              "  .colab-df-quickchart-complete:disabled,\n",
              "  .colab-df-quickchart-complete:disabled:hover {\n",
              "    background-color: var(--disabled-bg-color);\n",
              "    fill: var(--disabled-fill-color);\n",
              "    box-shadow: none;\n",
              "  }\n",
              "\n",
              "  .colab-df-spinner {\n",
              "    border: 2px solid var(--fill-color);\n",
              "    border-color: transparent;\n",
              "    border-bottom-color: var(--fill-color);\n",
              "    animation:\n",
              "      spin 1s steps(1) infinite;\n",
              "  }\n",
              "\n",
              "  @keyframes spin {\n",
              "    0% {\n",
              "      border-color: transparent;\n",
              "      border-bottom-color: var(--fill-color);\n",
              "      border-left-color: var(--fill-color);\n",
              "    }\n",
              "    20% {\n",
              "      border-color: transparent;\n",
              "      border-left-color: var(--fill-color);\n",
              "      border-top-color: var(--fill-color);\n",
              "    }\n",
              "    30% {\n",
              "      border-color: transparent;\n",
              "      border-left-color: var(--fill-color);\n",
              "      border-top-color: var(--fill-color);\n",
              "      border-right-color: var(--fill-color);\n",
              "    }\n",
              "    40% {\n",
              "      border-color: transparent;\n",
              "      border-right-color: var(--fill-color);\n",
              "      border-top-color: var(--fill-color);\n",
              "    }\n",
              "    60% {\n",
              "      border-color: transparent;\n",
              "      border-right-color: var(--fill-color);\n",
              "    }\n",
              "    80% {\n",
              "      border-color: transparent;\n",
              "      border-right-color: var(--fill-color);\n",
              "      border-bottom-color: var(--fill-color);\n",
              "    }\n",
              "    90% {\n",
              "      border-color: transparent;\n",
              "      border-bottom-color: var(--fill-color);\n",
              "    }\n",
              "  }\n",
              "</style>\n",
              "\n",
              "  <script>\n",
              "    async function quickchart(key) {\n",
              "      const quickchartButtonEl =\n",
              "        document.querySelector('#' + key + ' button');\n",
              "      quickchartButtonEl.disabled = true;  // To prevent multiple clicks.\n",
              "      quickchartButtonEl.classList.add('colab-df-spinner');\n",
              "      try {\n",
              "        const charts = await google.colab.kernel.invokeFunction(\n",
              "            'suggestCharts', [key], {});\n",
              "      } catch (error) {\n",
              "        console.error('Error during call to suggestCharts:', error);\n",
              "      }\n",
              "      quickchartButtonEl.classList.remove('colab-df-spinner');\n",
              "      quickchartButtonEl.classList.add('colab-df-quickchart-complete');\n",
              "    }\n",
              "    (() => {\n",
              "      let quickchartButtonEl =\n",
              "        document.querySelector('#df-ebd6019a-248b-410f-b8fb-f84983f78a1e button');\n",
              "      quickchartButtonEl.style.display =\n",
              "        google.colab.kernel.accessAllowed ? 'block' : 'none';\n",
              "    })();\n",
              "  </script>\n",
              "</div>\n",
              "\n",
              "    </div>\n",
              "  </div>\n"
            ],
            "application/vnd.google.colaboratory.intrinsic+json": {
              "type": "dataframe",
              "summary": "{\n  \"name\": \"pd\",\n  \"rows\": 8,\n  \"fields\": [\n    {\n      \"column\": \"Input\",\n      \"properties\": {\n        \"dtype\": \"string\",\n        \"num_unique_values\": 8,\n        \"samples\": [\n          \"Transformers are the most\",\n          \"Transformers are the most popular toy line in\",\n          \"Transformers are the\"\n        ],\n        \"semantic_type\": \"\",\n        \"description\": \"\"\n      }\n    },\n    {\n      \"column\": \"Choice 1\",\n      \"properties\": {\n        \"dtype\": \"string\",\n        \"num_unique_values\": 8,\n        \"samples\": [\n          \" popular (16.78%)\",\n          \" the (65.99%)\",\n          \" most (8.53%)\"\n        ],\n        \"semantic_type\": \"\",\n        \"description\": \"\"\n      }\n    },\n    {\n      \"column\": \"Choice 2\",\n      \"properties\": {\n        \"dtype\": \"string\",\n        \"num_unique_values\": 8,\n        \"samples\": [\n          \" powerful (5.37%)\",\n          \" history (12.42%)\",\n          \" only (4.96%)\"\n        ],\n        \"semantic_type\": \"\",\n        \"description\": \"\"\n      }\n    },\n    {\n      \"column\": \"Choice 3\",\n      \"properties\": {\n        \"dtype\": \"string\",\n        \"num_unique_values\": 8,\n        \"samples\": [\n          \" common (4.96%)\",\n          \" America (6.91%)\",\n          \" best (4.65%)\"\n        ],\n        \"semantic_type\": \"\",\n        \"description\": \"\"\n      }\n    },\n    {\n      \"column\": \"Choice 4\",\n      \"properties\": {\n        \"dtype\": \"string\",\n        \"num_unique_values\": 8,\n        \"samples\": [\n          \" famous (3.72%)\",\n          \" Japan (2.44%)\",\n          \" Transformers (4.37%)\"\n        ],\n        \"semantic_type\": \"\",\n        \"description\": \"\"\n      }\n    },\n    {\n      \"column\": \"Choice 5\",\n      \"properties\": {\n        \"dtype\": \"string\",\n        \"num_unique_values\": 8,\n        \"samples\": [\n          \" successful (3.20%)\",\n          \" North (1.40%)\",\n          \" ultimate (2.16%)\"\n        ],\n        \"semantic_type\": \"\",\n        \"description\": \"\"\n      }\n    }\n  ]\n}"
            }
          },
          "metadata": {},
          "execution_count": 5
        }
      ],
      "source": [
        "# hide_output\n",
        "import pandas as pd\n",
        "\n",
        "input_txt = \"Transformers are the\"\n",
        "input_ids = tokenizer(input_txt, return_tensors=\"pt\")[\"input_ids\"].to(device)\n",
        "iterations = []\n",
        "n_steps = 8\n",
        "choices_per_step = 5\n",
        "\n",
        "with torch.no_grad():\n",
        "    for _ in range(n_steps):\n",
        "        iteration = dict()\n",
        "        iteration[\"Input\"] = tokenizer.decode(input_ids[0])\n",
        "        output = model(input_ids=input_ids)\n",
        "        # Select logits of the first batch and the last token and apply softmax\n",
        "        next_token_logits = output.logits[0, -1, :]\n",
        "        next_token_probs = torch.softmax(next_token_logits, dim=-1)\n",
        "        sorted_ids = torch.argsort(next_token_probs, dim=-1, descending=True)\n",
        "        # Store tokens with highest probabilities\n",
        "        for choice_idx in range(choices_per_step):\n",
        "            token_id = sorted_ids[choice_idx]\n",
        "            token_prob = next_token_probs[token_id].cpu().numpy()\n",
        "            token_choice = (\n",
        "                f\"{tokenizer.decode(token_id)} ({100 * token_prob:.2f}%)\"\n",
        "            )\n",
        "            iteration[f\"Choice {choice_idx+1}\"] = token_choice\n",
        "        # Append predicted next token to input\n",
        "        input_ids = torch.cat([input_ids, sorted_ids[None, 0, None]], dim=-1)\n",
        "        iterations.append(iteration)\n",
        "\n",
        "pd.DataFrame(iterations)"
      ]
    },
    {
      "cell_type": "code",
      "execution_count": 6,
      "metadata": {
        "id": "CF3astNiy2aP",
        "outputId": "fc5584f1-5f12-4ec4-e543-1edec6a432ad",
        "colab": {
          "base_uri": "https://localhost:8080/"
        }
      },
      "outputs": [
        {
          "output_type": "stream",
          "name": "stdout",
          "text": [
            "Transformers are the most popular toy line in the world,\n"
          ]
        }
      ],
      "source": [
        "input_ids = tokenizer(input_txt, return_tensors=\"pt\")[\"input_ids\"].to(device)\n",
        "output = model.generate(input_ids, max_new_tokens=n_steps, do_sample=False)\n",
        "print(tokenizer.decode(output[0]))"
      ]
    },
    {
      "cell_type": "code",
      "execution_count": 7,
      "metadata": {
        "id": "al-xy-hwy2aQ",
        "outputId": "a6b1c3c9-b910-4c76-8585-ef4b6d89dd13",
        "colab": {
          "base_uri": "https://localhost:8080/"
        }
      },
      "outputs": [
        {
          "output_type": "stream",
          "name": "stdout",
          "text": [
            "In a shocking finding, scientist discovered a herd of unicorns living in a\n",
            "remote, previously unexplored valley, in the Andes Mountains. Even more\n",
            "surprising to the researchers was the fact that the unicorns spoke perfect\n",
            "English.\n",
            "\n",
            "\n",
            "The researchers, from the University of California, Davis, and the University of\n",
            "Colorado, Boulder, were conducting a study on the Andean cloud forest, which is\n",
            "home to the rare species of cloud forest trees.\n",
            "\n",
            "\n",
            "The researchers were surprised to find that the unicorns were able to\n",
            "communicate with each other, and even with humans.\n",
            "\n",
            "\n",
            "The researchers were surprised to find that the unicorns were able\n"
          ]
        }
      ],
      "source": [
        "max_length = 128\n",
        "input_txt = \"\"\"In a shocking finding, scientist discovered \\\n",
        "a herd of unicorns living in a remote, previously unexplored \\\n",
        "valley, in the Andes Mountains. Even more surprising to the \\\n",
        "researchers was the fact that the unicorns spoke perfect English.\\n\\n\n",
        "\"\"\"\n",
        "input_ids = tokenizer(input_txt, return_tensors=\"pt\")[\"input_ids\"].to(device)\n",
        "output_greedy = model.generate(input_ids, max_length=max_length,\n",
        "                               do_sample=False)\n",
        "print(tokenizer.decode(output_greedy[0]))"
      ]
    },
    {
      "cell_type": "markdown",
      "metadata": {
        "id": "nOfvFVruy2aR"
      },
      "source": [
        "## Beam Search Decoding"
      ]
    },
    {
      "cell_type": "markdown",
      "metadata": {
        "id": "qcQOTf9qy2aR"
      },
      "source": [
        "<img alt=\"Beam search\" width=\"700\" caption=\"Beam search with two beams—the most probable sequences at each timestep are highlighted in blue\" src=\"https://github.com/mxagar/nlp_with_transformers_nbs/blob/main/images/chapter05_beam-search.png?raw=1\" id=\"beam-search\"/>"
      ]
    },
    {
      "cell_type": "code",
      "execution_count": 8,
      "metadata": {
        "id": "1shjPK-Hy2aR",
        "outputId": "45a10154-7ac1-45b6-d312-184224814c07",
        "colab": {
          "base_uri": "https://localhost:8080/"
        }
      },
      "outputs": [
        {
          "output_type": "execute_result",
          "data": {
            "text/plain": [
              "5.562684646268003e-309"
            ]
          },
          "metadata": {},
          "execution_count": 8
        }
      ],
      "source": [
        "0.5 ** 1024"
      ]
    },
    {
      "cell_type": "code",
      "execution_count": 9,
      "metadata": {
        "id": "hbdfSEzHy2aS",
        "outputId": "6981aac2-695b-49a8-c362-12ab3126886c",
        "colab": {
          "base_uri": "https://localhost:8080/"
        }
      },
      "outputs": [
        {
          "output_type": "execute_result",
          "data": {
            "text/plain": [
              "-709.7827128933695"
            ]
          },
          "metadata": {},
          "execution_count": 9
        }
      ],
      "source": [
        "import numpy as np\n",
        "\n",
        "sum([np.log(0.5)] * 1024)"
      ]
    },
    {
      "cell_type": "code",
      "execution_count": 10,
      "metadata": {
        "id": "bbz1l6Hpy2aS"
      },
      "outputs": [],
      "source": [
        "import torch.nn.functional as F\n",
        "\n",
        "def log_probs_from_logits(logits, labels):\n",
        "    logp = F.log_softmax(logits, dim=-1)\n",
        "    logp_label = torch.gather(logp, 2, labels.unsqueeze(2)).squeeze(-1)\n",
        "    return logp_label"
      ]
    },
    {
      "cell_type": "code",
      "execution_count": 11,
      "metadata": {
        "id": "fAK2jWFay2aS"
      },
      "outputs": [],
      "source": [
        "def sequence_logprob(model, labels, input_len=0):\n",
        "    with torch.no_grad():\n",
        "        output = model(labels)\n",
        "        log_probs = log_probs_from_logits(\n",
        "            output.logits[:, :-1, :], labels[:, 1:])\n",
        "        seq_log_prob = torch.sum(log_probs[:, input_len:])\n",
        "    return seq_log_prob.cpu().numpy()"
      ]
    },
    {
      "cell_type": "code",
      "execution_count": 12,
      "metadata": {
        "id": "DShocV65y2aT",
        "outputId": "4ba94d87-091d-4794-94d6-373927189386",
        "colab": {
          "base_uri": "https://localhost:8080/"
        }
      },
      "outputs": [
        {
          "output_type": "stream",
          "name": "stdout",
          "text": [
            "In a shocking finding, scientist discovered a herd of unicorns living in a\n",
            "remote, previously unexplored valley, in the Andes Mountains. Even more\n",
            "surprising to the researchers was the fact that the unicorns spoke perfect\n",
            "English.\n",
            "\n",
            "\n",
            "The researchers, from the University of California, Davis, and the University of\n",
            "Colorado, Boulder, were conducting a study on the Andean cloud forest, which is\n",
            "home to the rare species of cloud forest trees.\n",
            "\n",
            "\n",
            "The researchers were surprised to find that the unicorns were able to\n",
            "communicate with each other, and even with humans.\n",
            "\n",
            "\n",
            "The researchers were surprised to find that the unicorns were able\n",
            "\n",
            "log-prob: -87.43\n"
          ]
        }
      ],
      "source": [
        "logp = sequence_logprob(model, output_greedy, input_len=len(input_ids[0]))\n",
        "print(tokenizer.decode(output_greedy[0]))\n",
        "print(f\"\\nlog-prob: {logp:.2f}\")"
      ]
    },
    {
      "cell_type": "code",
      "execution_count": 13,
      "metadata": {
        "id": "DJu8qr_ry2aT",
        "outputId": "f86d6567-fc63-43a2-829e-c2189f72fabd",
        "colab": {
          "base_uri": "https://localhost:8080/"
        }
      },
      "outputs": [
        {
          "output_type": "stream",
          "name": "stdout",
          "text": [
            "In a shocking finding, scientist discovered a herd of unicorns living in a\n",
            "remote, previously unexplored valley, in the Andes Mountains. Even more\n",
            "surprising to the researchers was the fact that the unicorns spoke perfect\n",
            "English.\n",
            "\n",
            "\n",
            "The discovery of the unicorns was made by a team of scientists from the\n",
            "University of California, Santa Cruz, and the National Geographic Society.\n",
            "\n",
            "\n",
            "The scientists were conducting a study of the Andes Mountains when they\n",
            "discovered a herd of unicorns living in a remote, previously unexplored valley,\n",
            "in the Andes Mountains. Even more surprising to the researchers was the fact\n",
            "that the unicorns spoke perfect English\n",
            "\n",
            "log-prob: -55.23\n"
          ]
        }
      ],
      "source": [
        "output_beam = model.generate(input_ids, max_length=max_length, num_beams=5,\n",
        "                             do_sample=False)\n",
        "logp = sequence_logprob(model, output_beam, input_len=len(input_ids[0]))\n",
        "print(tokenizer.decode(output_beam[0]))\n",
        "print(f\"\\nlog-prob: {logp:.2f}\")"
      ]
    },
    {
      "cell_type": "code",
      "execution_count": 14,
      "metadata": {
        "id": "OaVJNTzKy2aT",
        "outputId": "4d7e6057-5791-414a-f694-c990b0d644da",
        "colab": {
          "base_uri": "https://localhost:8080/"
        }
      },
      "outputs": [
        {
          "output_type": "stream",
          "name": "stdout",
          "text": [
            "In a shocking finding, scientist discovered a herd of unicorns living in a\n",
            "remote, previously unexplored valley, in the Andes Mountains. Even more\n",
            "surprising to the researchers was the fact that the unicorns spoke perfect\n",
            "English.\n",
            "\n",
            "\n",
            "The discovery was made by a team of scientists from the University of\n",
            "California, Santa Cruz, and the National Geographic Society.\n",
            "\n",
            "According to a press release, the scientists were conducting a survey of the\n",
            "area when they came across the herd. They were surprised to find that they were\n",
            "able to converse with the animals in English, even though they had never seen a\n",
            "unicorn in person before. The researchers were\n",
            "\n",
            "log-prob: -93.12\n"
          ]
        }
      ],
      "source": [
        "output_beam = model.generate(input_ids, max_length=max_length, num_beams=5,\n",
        "                             do_sample=False, no_repeat_ngram_size=2)\n",
        "logp = sequence_logprob(model, output_beam, input_len=len(input_ids[0]))\n",
        "print(tokenizer.decode(output_beam[0]))\n",
        "print(f\"\\nlog-prob: {logp:.2f}\")"
      ]
    },
    {
      "cell_type": "markdown",
      "metadata": {
        "id": "9LurVKKdy2aU"
      },
      "source": [
        "## Sampling Methods"
      ]
    },
    {
      "cell_type": "code",
      "execution_count": 15,
      "metadata": {
        "id": "AQ4j6GF5y2aU",
        "outputId": "b2458b7b-693d-4079-a271-4a638300ba74",
        "colab": {
          "base_uri": "https://localhost:8080/",
          "height": 381
        }
      },
      "outputs": [
        {
          "output_type": "display_data",
          "data": {
            "text/plain": [
              "<Figure size 600x400 with 1 Axes>"
            ],
            "image/svg+xml": "<?xml version=\"1.0\" encoding=\"utf-8\" standalone=\"no\"?>\n<!DOCTYPE svg PUBLIC \"-//W3C//DTD SVG 1.1//EN\"\n  \"http://www.w3.org/Graphics/SVG/1.1/DTD/svg11.dtd\">\n<svg xmlns:xlink=\"http://www.w3.org/1999/xlink\" width=\"406.523986pt\" height=\"270.3875pt\" viewBox=\"0 0 406.523986 270.3875\" xmlns=\"http://www.w3.org/2000/svg\" version=\"1.1\">\n <metadata>\n  <rdf:RDF xmlns:dc=\"http://purl.org/dc/elements/1.1/\" xmlns:cc=\"http://creativecommons.org/ns#\" xmlns:rdf=\"http://www.w3.org/1999/02/22-rdf-syntax-ns#\">\n   <cc:Work>\n    <dc:type rdf:resource=\"http://purl.org/dc/dcmitype/StillImage\"/>\n    <dc:date>2024-09-10T13:02:13.714948</dc:date>\n    <dc:format>image/svg+xml</dc:format>\n    <dc:creator>\n     <cc:Agent>\n      <dc:title>Matplotlib v3.7.1, https://matplotlib.org/</dc:title>\n     </cc:Agent>\n    </dc:creator>\n   </cc:Work>\n  </rdf:RDF>\n </metadata>\n <defs>\n  <style type=\"text/css\">*{stroke-linejoin: round; stroke-linecap: butt}</style>\n </defs>\n <g id=\"figure_1\">\n  <g id=\"patch_1\">\n   <path d=\"M 0 270.3875 \nL 406.523986 270.3875 \nL 406.523986 0 \nL 0 0 \nz\n\" style=\"fill: #ffffff\"/>\n  </g>\n  <g id=\"axes_1\">\n   <g id=\"patch_2\">\n    <path d=\"M 64.1675 228.96 \nL 398.9675 228.96 \nL 398.9675 7.2 \nL 64.1675 7.2 \nz\n\" style=\"fill: #ffffff\"/>\n   </g>\n   <g id=\"matplotlib.axis_1\">\n    <g id=\"xtick_1\">\n     <g id=\"line2d_1\">\n      <defs>\n       <path id=\"m7531ced8fd\" d=\"M 0 0 \nL 0 3.5 \n\" style=\"stroke: #000000; stroke-width: 0.8\"/>\n      </defs>\n      <g>\n       <use xlink:href=\"#m7531ced8fd\" x=\"79.385682\" y=\"228.96\" style=\"stroke: #000000; stroke-width: 0.8\"/>\n      </g>\n     </g>\n     <g id=\"text_1\">\n      <!-- 0 -->\n      <g transform=\"translate(75.568182 245.078125) scale(0.12 -0.12)\">\n       <defs>\n        <path id=\"DejaVuSans-30\" d=\"M 2034 4250 \nQ 1547 4250 1301 3770 \nQ 1056 3291 1056 2328 \nQ 1056 1369 1301 889 \nQ 1547 409 2034 409 \nQ 2525 409 2770 889 \nQ 3016 1369 3016 2328 \nQ 3016 3291 2770 3770 \nQ 2525 4250 2034 4250 \nz\nM 2034 4750 \nQ 2819 4750 3233 4129 \nQ 3647 3509 3647 2328 \nQ 3647 1150 3233 529 \nQ 2819 -91 2034 -91 \nQ 1250 -91 836 529 \nQ 422 1150 422 2328 \nQ 422 3509 836 4129 \nQ 1250 4750 2034 4750 \nz\n\" transform=\"scale(0.015625)\"/>\n       </defs>\n       <use xlink:href=\"#DejaVuSans-30\"/>\n      </g>\n     </g>\n    </g>\n    <g id=\"xtick_2\">\n     <g id=\"line2d_2\">\n      <g>\n       <use xlink:href=\"#m7531ced8fd\" x=\"140.319343\" y=\"228.96\" style=\"stroke: #000000; stroke-width: 0.8\"/>\n      </g>\n     </g>\n     <g id=\"text_2\">\n      <!-- 200 -->\n      <g transform=\"translate(128.866843 245.078125) scale(0.12 -0.12)\">\n       <defs>\n        <path id=\"DejaVuSans-32\" d=\"M 1228 531 \nL 3431 531 \nL 3431 0 \nL 469 0 \nL 469 531 \nQ 828 903 1448 1529 \nQ 2069 2156 2228 2338 \nQ 2531 2678 2651 2914 \nQ 2772 3150 2772 3378 \nQ 2772 3750 2511 3984 \nQ 2250 4219 1831 4219 \nQ 1534 4219 1204 4116 \nQ 875 4013 500 3803 \nL 500 4441 \nQ 881 4594 1212 4672 \nQ 1544 4750 1819 4750 \nQ 2544 4750 2975 4387 \nQ 3406 4025 3406 3419 \nQ 3406 3131 3298 2873 \nQ 3191 2616 2906 2266 \nQ 2828 2175 2409 1742 \nQ 1991 1309 1228 531 \nz\n\" transform=\"scale(0.015625)\"/>\n       </defs>\n       <use xlink:href=\"#DejaVuSans-32\"/>\n       <use xlink:href=\"#DejaVuSans-30\" x=\"63.623047\"/>\n       <use xlink:href=\"#DejaVuSans-30\" x=\"127.246094\"/>\n      </g>\n     </g>\n    </g>\n    <g id=\"xtick_3\">\n     <g id=\"line2d_3\">\n      <g>\n       <use xlink:href=\"#m7531ced8fd\" x=\"201.253004\" y=\"228.96\" style=\"stroke: #000000; stroke-width: 0.8\"/>\n      </g>\n     </g>\n     <g id=\"text_3\">\n      <!-- 400 -->\n      <g transform=\"translate(189.800504 245.078125) scale(0.12 -0.12)\">\n       <defs>\n        <path id=\"DejaVuSans-34\" d=\"M 2419 4116 \nL 825 1625 \nL 2419 1625 \nL 2419 4116 \nz\nM 2253 4666 \nL 3047 4666 \nL 3047 1625 \nL 3713 1625 \nL 3713 1100 \nL 3047 1100 \nL 3047 0 \nL 2419 0 \nL 2419 1100 \nL 313 1100 \nL 313 1709 \nL 2253 4666 \nz\n\" transform=\"scale(0.015625)\"/>\n       </defs>\n       <use xlink:href=\"#DejaVuSans-34\"/>\n       <use xlink:href=\"#DejaVuSans-30\" x=\"63.623047\"/>\n       <use xlink:href=\"#DejaVuSans-30\" x=\"127.246094\"/>\n      </g>\n     </g>\n    </g>\n    <g id=\"xtick_4\">\n     <g id=\"line2d_4\">\n      <g>\n       <use xlink:href=\"#m7531ced8fd\" x=\"262.186665\" y=\"228.96\" style=\"stroke: #000000; stroke-width: 0.8\"/>\n      </g>\n     </g>\n     <g id=\"text_4\">\n      <!-- 600 -->\n      <g transform=\"translate(250.734165 245.078125) scale(0.12 -0.12)\">\n       <defs>\n        <path id=\"DejaVuSans-36\" d=\"M 2113 2584 \nQ 1688 2584 1439 2293 \nQ 1191 2003 1191 1497 \nQ 1191 994 1439 701 \nQ 1688 409 2113 409 \nQ 2538 409 2786 701 \nQ 3034 994 3034 1497 \nQ 3034 2003 2786 2293 \nQ 2538 2584 2113 2584 \nz\nM 3366 4563 \nL 3366 3988 \nQ 3128 4100 2886 4159 \nQ 2644 4219 2406 4219 \nQ 1781 4219 1451 3797 \nQ 1122 3375 1075 2522 \nQ 1259 2794 1537 2939 \nQ 1816 3084 2150 3084 \nQ 2853 3084 3261 2657 \nQ 3669 2231 3669 1497 \nQ 3669 778 3244 343 \nQ 2819 -91 2113 -91 \nQ 1303 -91 875 529 \nQ 447 1150 447 2328 \nQ 447 3434 972 4092 \nQ 1497 4750 2381 4750 \nQ 2619 4750 2861 4703 \nQ 3103 4656 3366 4563 \nz\n\" transform=\"scale(0.015625)\"/>\n       </defs>\n       <use xlink:href=\"#DejaVuSans-36\"/>\n       <use xlink:href=\"#DejaVuSans-30\" x=\"63.623047\"/>\n       <use xlink:href=\"#DejaVuSans-30\" x=\"127.246094\"/>\n      </g>\n     </g>\n    </g>\n    <g id=\"xtick_5\">\n     <g id=\"line2d_5\">\n      <g>\n       <use xlink:href=\"#m7531ced8fd\" x=\"323.120326\" y=\"228.96\" style=\"stroke: #000000; stroke-width: 0.8\"/>\n      </g>\n     </g>\n     <g id=\"text_5\">\n      <!-- 800 -->\n      <g transform=\"translate(311.667826 245.078125) scale(0.12 -0.12)\">\n       <defs>\n        <path id=\"DejaVuSans-38\" d=\"M 2034 2216 \nQ 1584 2216 1326 1975 \nQ 1069 1734 1069 1313 \nQ 1069 891 1326 650 \nQ 1584 409 2034 409 \nQ 2484 409 2743 651 \nQ 3003 894 3003 1313 \nQ 3003 1734 2745 1975 \nQ 2488 2216 2034 2216 \nz\nM 1403 2484 \nQ 997 2584 770 2862 \nQ 544 3141 544 3541 \nQ 544 4100 942 4425 \nQ 1341 4750 2034 4750 \nQ 2731 4750 3128 4425 \nQ 3525 4100 3525 3541 \nQ 3525 3141 3298 2862 \nQ 3072 2584 2669 2484 \nQ 3125 2378 3379 2068 \nQ 3634 1759 3634 1313 \nQ 3634 634 3220 271 \nQ 2806 -91 2034 -91 \nQ 1263 -91 848 271 \nQ 434 634 434 1313 \nQ 434 1759 690 2068 \nQ 947 2378 1403 2484 \nz\nM 1172 3481 \nQ 1172 3119 1398 2916 \nQ 1625 2713 2034 2713 \nQ 2441 2713 2670 2916 \nQ 2900 3119 2900 3481 \nQ 2900 3844 2670 4047 \nQ 2441 4250 2034 4250 \nQ 1625 4250 1398 4047 \nQ 1172 3844 1172 3481 \nz\n\" transform=\"scale(0.015625)\"/>\n       </defs>\n       <use xlink:href=\"#DejaVuSans-38\"/>\n       <use xlink:href=\"#DejaVuSans-30\" x=\"63.623047\"/>\n       <use xlink:href=\"#DejaVuSans-30\" x=\"127.246094\"/>\n      </g>\n     </g>\n    </g>\n    <g id=\"xtick_6\">\n     <g id=\"line2d_6\">\n      <g>\n       <use xlink:href=\"#m7531ced8fd\" x=\"384.053986\" y=\"228.96\" style=\"stroke: #000000; stroke-width: 0.8\"/>\n      </g>\n     </g>\n     <g id=\"text_6\">\n      <!-- 1000 -->\n      <g transform=\"translate(368.783986 245.078125) scale(0.12 -0.12)\">\n       <defs>\n        <path id=\"DejaVuSans-31\" d=\"M 794 531 \nL 1825 531 \nL 1825 4091 \nL 703 3866 \nL 703 4441 \nL 1819 4666 \nL 2450 4666 \nL 2450 531 \nL 3481 531 \nL 3481 0 \nL 794 0 \nL 794 531 \nz\n\" transform=\"scale(0.015625)\"/>\n       </defs>\n       <use xlink:href=\"#DejaVuSans-31\"/>\n       <use xlink:href=\"#DejaVuSans-30\" x=\"63.623047\"/>\n       <use xlink:href=\"#DejaVuSans-30\" x=\"127.246094\"/>\n       <use xlink:href=\"#DejaVuSans-30\" x=\"190.869141\"/>\n      </g>\n     </g>\n    </g>\n    <g id=\"text_7\">\n     <!-- Sorted token probabilities -->\n     <g transform=\"translate(154.235 260.691875) scale(0.12 -0.12)\">\n      <defs>\n       <path id=\"DejaVuSans-53\" d=\"M 3425 4513 \nL 3425 3897 \nQ 3066 4069 2747 4153 \nQ 2428 4238 2131 4238 \nQ 1616 4238 1336 4038 \nQ 1056 3838 1056 3469 \nQ 1056 3159 1242 3001 \nQ 1428 2844 1947 2747 \nL 2328 2669 \nQ 3034 2534 3370 2195 \nQ 3706 1856 3706 1288 \nQ 3706 609 3251 259 \nQ 2797 -91 1919 -91 \nQ 1588 -91 1214 -16 \nQ 841 59 441 206 \nL 441 856 \nQ 825 641 1194 531 \nQ 1563 422 1919 422 \nQ 2459 422 2753 634 \nQ 3047 847 3047 1241 \nQ 3047 1584 2836 1778 \nQ 2625 1972 2144 2069 \nL 1759 2144 \nQ 1053 2284 737 2584 \nQ 422 2884 422 3419 \nQ 422 4038 858 4394 \nQ 1294 4750 2059 4750 \nQ 2388 4750 2728 4690 \nQ 3069 4631 3425 4513 \nz\n\" transform=\"scale(0.015625)\"/>\n       <path id=\"DejaVuSans-6f\" d=\"M 1959 3097 \nQ 1497 3097 1228 2736 \nQ 959 2375 959 1747 \nQ 959 1119 1226 758 \nQ 1494 397 1959 397 \nQ 2419 397 2687 759 \nQ 2956 1122 2956 1747 \nQ 2956 2369 2687 2733 \nQ 2419 3097 1959 3097 \nz\nM 1959 3584 \nQ 2709 3584 3137 3096 \nQ 3566 2609 3566 1747 \nQ 3566 888 3137 398 \nQ 2709 -91 1959 -91 \nQ 1206 -91 779 398 \nQ 353 888 353 1747 \nQ 353 2609 779 3096 \nQ 1206 3584 1959 3584 \nz\n\" transform=\"scale(0.015625)\"/>\n       <path id=\"DejaVuSans-72\" d=\"M 2631 2963 \nQ 2534 3019 2420 3045 \nQ 2306 3072 2169 3072 \nQ 1681 3072 1420 2755 \nQ 1159 2438 1159 1844 \nL 1159 0 \nL 581 0 \nL 581 3500 \nL 1159 3500 \nL 1159 2956 \nQ 1341 3275 1631 3429 \nQ 1922 3584 2338 3584 \nQ 2397 3584 2469 3576 \nQ 2541 3569 2628 3553 \nL 2631 2963 \nz\n\" transform=\"scale(0.015625)\"/>\n       <path id=\"DejaVuSans-74\" d=\"M 1172 4494 \nL 1172 3500 \nL 2356 3500 \nL 2356 3053 \nL 1172 3053 \nL 1172 1153 \nQ 1172 725 1289 603 \nQ 1406 481 1766 481 \nL 2356 481 \nL 2356 0 \nL 1766 0 \nQ 1100 0 847 248 \nQ 594 497 594 1153 \nL 594 3053 \nL 172 3053 \nL 172 3500 \nL 594 3500 \nL 594 4494 \nL 1172 4494 \nz\n\" transform=\"scale(0.015625)\"/>\n       <path id=\"DejaVuSans-65\" d=\"M 3597 1894 \nL 3597 1613 \nL 953 1613 \nQ 991 1019 1311 708 \nQ 1631 397 2203 397 \nQ 2534 397 2845 478 \nQ 3156 559 3463 722 \nL 3463 178 \nQ 3153 47 2828 -22 \nQ 2503 -91 2169 -91 \nQ 1331 -91 842 396 \nQ 353 884 353 1716 \nQ 353 2575 817 3079 \nQ 1281 3584 2069 3584 \nQ 2775 3584 3186 3129 \nQ 3597 2675 3597 1894 \nz\nM 3022 2063 \nQ 3016 2534 2758 2815 \nQ 2500 3097 2075 3097 \nQ 1594 3097 1305 2825 \nQ 1016 2553 972 2059 \nL 3022 2063 \nz\n\" transform=\"scale(0.015625)\"/>\n       <path id=\"DejaVuSans-64\" d=\"M 2906 2969 \nL 2906 4863 \nL 3481 4863 \nL 3481 0 \nL 2906 0 \nL 2906 525 \nQ 2725 213 2448 61 \nQ 2172 -91 1784 -91 \nQ 1150 -91 751 415 \nQ 353 922 353 1747 \nQ 353 2572 751 3078 \nQ 1150 3584 1784 3584 \nQ 2172 3584 2448 3432 \nQ 2725 3281 2906 2969 \nz\nM 947 1747 \nQ 947 1113 1208 752 \nQ 1469 391 1925 391 \nQ 2381 391 2643 752 \nQ 2906 1113 2906 1747 \nQ 2906 2381 2643 2742 \nQ 2381 3103 1925 3103 \nQ 1469 3103 1208 2742 \nQ 947 2381 947 1747 \nz\n\" transform=\"scale(0.015625)\"/>\n       <path id=\"DejaVuSans-20\" transform=\"scale(0.015625)\"/>\n       <path id=\"DejaVuSans-6b\" d=\"M 581 4863 \nL 1159 4863 \nL 1159 1991 \nL 2875 3500 \nL 3609 3500 \nL 1753 1863 \nL 3688 0 \nL 2938 0 \nL 1159 1709 \nL 1159 0 \nL 581 0 \nL 581 4863 \nz\n\" transform=\"scale(0.015625)\"/>\n       <path id=\"DejaVuSans-6e\" d=\"M 3513 2113 \nL 3513 0 \nL 2938 0 \nL 2938 2094 \nQ 2938 2591 2744 2837 \nQ 2550 3084 2163 3084 \nQ 1697 3084 1428 2787 \nQ 1159 2491 1159 1978 \nL 1159 0 \nL 581 0 \nL 581 3500 \nL 1159 3500 \nL 1159 2956 \nQ 1366 3272 1645 3428 \nQ 1925 3584 2291 3584 \nQ 2894 3584 3203 3211 \nQ 3513 2838 3513 2113 \nz\n\" transform=\"scale(0.015625)\"/>\n       <path id=\"DejaVuSans-70\" d=\"M 1159 525 \nL 1159 -1331 \nL 581 -1331 \nL 581 3500 \nL 1159 3500 \nL 1159 2969 \nQ 1341 3281 1617 3432 \nQ 1894 3584 2278 3584 \nQ 2916 3584 3314 3078 \nQ 3713 2572 3713 1747 \nQ 3713 922 3314 415 \nQ 2916 -91 2278 -91 \nQ 1894 -91 1617 61 \nQ 1341 213 1159 525 \nz\nM 3116 1747 \nQ 3116 2381 2855 2742 \nQ 2594 3103 2138 3103 \nQ 1681 3103 1420 2742 \nQ 1159 2381 1159 1747 \nQ 1159 1113 1420 752 \nQ 1681 391 2138 391 \nQ 2594 391 2855 752 \nQ 3116 1113 3116 1747 \nz\n\" transform=\"scale(0.015625)\"/>\n       <path id=\"DejaVuSans-62\" d=\"M 3116 1747 \nQ 3116 2381 2855 2742 \nQ 2594 3103 2138 3103 \nQ 1681 3103 1420 2742 \nQ 1159 2381 1159 1747 \nQ 1159 1113 1420 752 \nQ 1681 391 2138 391 \nQ 2594 391 2855 752 \nQ 3116 1113 3116 1747 \nz\nM 1159 2969 \nQ 1341 3281 1617 3432 \nQ 1894 3584 2278 3584 \nQ 2916 3584 3314 3078 \nQ 3713 2572 3713 1747 \nQ 3713 922 3314 415 \nQ 2916 -91 2278 -91 \nQ 1894 -91 1617 61 \nQ 1341 213 1159 525 \nL 1159 0 \nL 581 0 \nL 581 4863 \nL 1159 4863 \nL 1159 2969 \nz\n\" transform=\"scale(0.015625)\"/>\n       <path id=\"DejaVuSans-61\" d=\"M 2194 1759 \nQ 1497 1759 1228 1600 \nQ 959 1441 959 1056 \nQ 959 750 1161 570 \nQ 1363 391 1709 391 \nQ 2188 391 2477 730 \nQ 2766 1069 2766 1631 \nL 2766 1759 \nL 2194 1759 \nz\nM 3341 1997 \nL 3341 0 \nL 2766 0 \nL 2766 531 \nQ 2569 213 2275 61 \nQ 1981 -91 1556 -91 \nQ 1019 -91 701 211 \nQ 384 513 384 1019 \nQ 384 1609 779 1909 \nQ 1175 2209 1959 2209 \nL 2766 2209 \nL 2766 2266 \nQ 2766 2663 2505 2880 \nQ 2244 3097 1772 3097 \nQ 1472 3097 1187 3025 \nQ 903 2953 641 2809 \nL 641 3341 \nQ 956 3463 1253 3523 \nQ 1550 3584 1831 3584 \nQ 2591 3584 2966 3190 \nQ 3341 2797 3341 1997 \nz\n\" transform=\"scale(0.015625)\"/>\n       <path id=\"DejaVuSans-69\" d=\"M 603 3500 \nL 1178 3500 \nL 1178 0 \nL 603 0 \nL 603 3500 \nz\nM 603 4863 \nL 1178 4863 \nL 1178 4134 \nL 603 4134 \nL 603 4863 \nz\n\" transform=\"scale(0.015625)\"/>\n       <path id=\"DejaVuSans-6c\" d=\"M 603 4863 \nL 1178 4863 \nL 1178 0 \nL 603 0 \nL 603 4863 \nz\n\" transform=\"scale(0.015625)\"/>\n       <path id=\"DejaVuSans-73\" d=\"M 2834 3397 \nL 2834 2853 \nQ 2591 2978 2328 3040 \nQ 2066 3103 1784 3103 \nQ 1356 3103 1142 2972 \nQ 928 2841 928 2578 \nQ 928 2378 1081 2264 \nQ 1234 2150 1697 2047 \nL 1894 2003 \nQ 2506 1872 2764 1633 \nQ 3022 1394 3022 966 \nQ 3022 478 2636 193 \nQ 2250 -91 1575 -91 \nQ 1294 -91 989 -36 \nQ 684 19 347 128 \nL 347 722 \nQ 666 556 975 473 \nQ 1284 391 1588 391 \nQ 1994 391 2212 530 \nQ 2431 669 2431 922 \nQ 2431 1156 2273 1281 \nQ 2116 1406 1581 1522 \nL 1381 1569 \nQ 847 1681 609 1914 \nQ 372 2147 372 2553 \nQ 372 3047 722 3315 \nQ 1072 3584 1716 3584 \nQ 2034 3584 2315 3537 \nQ 2597 3491 2834 3397 \nz\n\" transform=\"scale(0.015625)\"/>\n      </defs>\n      <use xlink:href=\"#DejaVuSans-53\"/>\n      <use xlink:href=\"#DejaVuSans-6f\" x=\"63.476562\"/>\n      <use xlink:href=\"#DejaVuSans-72\" x=\"124.658203\"/>\n      <use xlink:href=\"#DejaVuSans-74\" x=\"165.771484\"/>\n      <use xlink:href=\"#DejaVuSans-65\" x=\"204.980469\"/>\n      <use xlink:href=\"#DejaVuSans-64\" x=\"266.503906\"/>\n      <use xlink:href=\"#DejaVuSans-20\" x=\"329.980469\"/>\n      <use xlink:href=\"#DejaVuSans-74\" x=\"361.767578\"/>\n      <use xlink:href=\"#DejaVuSans-6f\" x=\"400.976562\"/>\n      <use xlink:href=\"#DejaVuSans-6b\" x=\"462.158203\"/>\n      <use xlink:href=\"#DejaVuSans-65\" x=\"516.443359\"/>\n      <use xlink:href=\"#DejaVuSans-6e\" x=\"577.966797\"/>\n      <use xlink:href=\"#DejaVuSans-20\" x=\"641.345703\"/>\n      <use xlink:href=\"#DejaVuSans-70\" x=\"673.132812\"/>\n      <use xlink:href=\"#DejaVuSans-72\" x=\"736.609375\"/>\n      <use xlink:href=\"#DejaVuSans-6f\" x=\"775.472656\"/>\n      <use xlink:href=\"#DejaVuSans-62\" x=\"836.654297\"/>\n      <use xlink:href=\"#DejaVuSans-61\" x=\"900.130859\"/>\n      <use xlink:href=\"#DejaVuSans-62\" x=\"961.410156\"/>\n      <use xlink:href=\"#DejaVuSans-69\" x=\"1024.886719\"/>\n      <use xlink:href=\"#DejaVuSans-6c\" x=\"1052.669922\"/>\n      <use xlink:href=\"#DejaVuSans-69\" x=\"1080.453125\"/>\n      <use xlink:href=\"#DejaVuSans-74\" x=\"1108.236328\"/>\n      <use xlink:href=\"#DejaVuSans-69\" x=\"1147.445312\"/>\n      <use xlink:href=\"#DejaVuSans-65\" x=\"1175.228516\"/>\n      <use xlink:href=\"#DejaVuSans-73\" x=\"1236.751953\"/>\n     </g>\n    </g>\n   </g>\n   <g id=\"matplotlib.axis_2\">\n    <g id=\"ytick_1\">\n     <g id=\"line2d_7\">\n      <defs>\n       <path id=\"m9696fffae1\" d=\"M 0 0 \nL -3.5 0 \n\" style=\"stroke: #000000; stroke-width: 0.8\"/>\n      </defs>\n      <g>\n       <use xlink:href=\"#m9696fffae1\" x=\"64.1675\" y=\"225.64419\" style=\"stroke: #000000; stroke-width: 0.8\"/>\n      </g>\n     </g>\n     <g id=\"text_8\">\n      <!-- 0.000 -->\n      <g transform=\"translate(22.81375 230.203253) scale(0.12 -0.12)\">\n       <defs>\n        <path id=\"DejaVuSans-2e\" d=\"M 684 794 \nL 1344 794 \nL 1344 0 \nL 684 0 \nL 684 794 \nz\n\" transform=\"scale(0.015625)\"/>\n       </defs>\n       <use xlink:href=\"#DejaVuSans-30\"/>\n       <use xlink:href=\"#DejaVuSans-2e\" x=\"63.623047\"/>\n       <use xlink:href=\"#DejaVuSans-30\" x=\"95.410156\"/>\n       <use xlink:href=\"#DejaVuSans-30\" x=\"159.033203\"/>\n       <use xlink:href=\"#DejaVuSans-30\" x=\"222.65625\"/>\n      </g>\n     </g>\n    </g>\n    <g id=\"ytick_2\">\n     <g id=\"line2d_8\">\n      <g>\n       <use xlink:href=\"#m9696fffae1\" x=\"64.1675\" y=\"180.208803\" style=\"stroke: #000000; stroke-width: 0.8\"/>\n      </g>\n     </g>\n     <g id=\"text_9\">\n      <!-- 0.001 -->\n      <g transform=\"translate(22.81375 184.767866) scale(0.12 -0.12)\">\n       <use xlink:href=\"#DejaVuSans-30\"/>\n       <use xlink:href=\"#DejaVuSans-2e\" x=\"63.623047\"/>\n       <use xlink:href=\"#DejaVuSans-30\" x=\"95.410156\"/>\n       <use xlink:href=\"#DejaVuSans-30\" x=\"159.033203\"/>\n       <use xlink:href=\"#DejaVuSans-31\" x=\"222.65625\"/>\n      </g>\n     </g>\n    </g>\n    <g id=\"ytick_3\">\n     <g id=\"line2d_9\">\n      <g>\n       <use xlink:href=\"#m9696fffae1\" x=\"64.1675\" y=\"134.773416\" style=\"stroke: #000000; stroke-width: 0.8\"/>\n      </g>\n     </g>\n     <g id=\"text_10\">\n      <!-- 0.002 -->\n      <g transform=\"translate(22.81375 139.332478) scale(0.12 -0.12)\">\n       <use xlink:href=\"#DejaVuSans-30\"/>\n       <use xlink:href=\"#DejaVuSans-2e\" x=\"63.623047\"/>\n       <use xlink:href=\"#DejaVuSans-30\" x=\"95.410156\"/>\n       <use xlink:href=\"#DejaVuSans-30\" x=\"159.033203\"/>\n       <use xlink:href=\"#DejaVuSans-32\" x=\"222.65625\"/>\n      </g>\n     </g>\n    </g>\n    <g id=\"ytick_4\">\n     <g id=\"line2d_10\">\n      <g>\n       <use xlink:href=\"#m9696fffae1\" x=\"64.1675\" y=\"89.338029\" style=\"stroke: #000000; stroke-width: 0.8\"/>\n      </g>\n     </g>\n     <g id=\"text_11\">\n      <!-- 0.003 -->\n      <g transform=\"translate(22.81375 93.897091) scale(0.12 -0.12)\">\n       <defs>\n        <path id=\"DejaVuSans-33\" d=\"M 2597 2516 \nQ 3050 2419 3304 2112 \nQ 3559 1806 3559 1356 \nQ 3559 666 3084 287 \nQ 2609 -91 1734 -91 \nQ 1441 -91 1130 -33 \nQ 819 25 488 141 \nL 488 750 \nQ 750 597 1062 519 \nQ 1375 441 1716 441 \nQ 2309 441 2620 675 \nQ 2931 909 2931 1356 \nQ 2931 1769 2642 2001 \nQ 2353 2234 1838 2234 \nL 1294 2234 \nL 1294 2753 \nL 1863 2753 \nQ 2328 2753 2575 2939 \nQ 2822 3125 2822 3475 \nQ 2822 3834 2567 4026 \nQ 2313 4219 1838 4219 \nQ 1578 4219 1281 4162 \nQ 984 4106 628 3988 \nL 628 4550 \nQ 988 4650 1302 4700 \nQ 1616 4750 1894 4750 \nQ 2613 4750 3031 4423 \nQ 3450 4097 3450 3541 \nQ 3450 3153 3228 2886 \nQ 3006 2619 2597 2516 \nz\n\" transform=\"scale(0.015625)\"/>\n       </defs>\n       <use xlink:href=\"#DejaVuSans-30\"/>\n       <use xlink:href=\"#DejaVuSans-2e\" x=\"63.623047\"/>\n       <use xlink:href=\"#DejaVuSans-30\" x=\"95.410156\"/>\n       <use xlink:href=\"#DejaVuSans-30\" x=\"159.033203\"/>\n       <use xlink:href=\"#DejaVuSans-33\" x=\"222.65625\"/>\n      </g>\n     </g>\n    </g>\n    <g id=\"ytick_5\">\n     <g id=\"line2d_11\">\n      <g>\n       <use xlink:href=\"#m9696fffae1\" x=\"64.1675\" y=\"43.902642\" style=\"stroke: #000000; stroke-width: 0.8\"/>\n      </g>\n     </g>\n     <g id=\"text_12\">\n      <!-- 0.004 -->\n      <g transform=\"translate(22.81375 48.461704) scale(0.12 -0.12)\">\n       <use xlink:href=\"#DejaVuSans-30\"/>\n       <use xlink:href=\"#DejaVuSans-2e\" x=\"63.623047\"/>\n       <use xlink:href=\"#DejaVuSans-30\" x=\"95.410156\"/>\n       <use xlink:href=\"#DejaVuSans-30\" x=\"159.033203\"/>\n       <use xlink:href=\"#DejaVuSans-34\" x=\"222.65625\"/>\n      </g>\n     </g>\n    </g>\n    <g id=\"text_13\">\n     <!-- Probability -->\n     <g transform=\"translate(16.318125 149.794687) rotate(-90) scale(0.12 -0.12)\">\n      <defs>\n       <path id=\"DejaVuSans-50\" d=\"M 1259 4147 \nL 1259 2394 \nL 2053 2394 \nQ 2494 2394 2734 2622 \nQ 2975 2850 2975 3272 \nQ 2975 3691 2734 3919 \nQ 2494 4147 2053 4147 \nL 1259 4147 \nz\nM 628 4666 \nL 2053 4666 \nQ 2838 4666 3239 4311 \nQ 3641 3956 3641 3272 \nQ 3641 2581 3239 2228 \nQ 2838 1875 2053 1875 \nL 1259 1875 \nL 1259 0 \nL 628 0 \nL 628 4666 \nz\n\" transform=\"scale(0.015625)\"/>\n       <path id=\"DejaVuSans-79\" d=\"M 2059 -325 \nQ 1816 -950 1584 -1140 \nQ 1353 -1331 966 -1331 \nL 506 -1331 \nL 506 -850 \nL 844 -850 \nQ 1081 -850 1212 -737 \nQ 1344 -625 1503 -206 \nL 1606 56 \nL 191 3500 \nL 800 3500 \nL 1894 763 \nL 2988 3500 \nL 3597 3500 \nL 2059 -325 \nz\n\" transform=\"scale(0.015625)\"/>\n      </defs>\n      <use xlink:href=\"#DejaVuSans-50\"/>\n      <use xlink:href=\"#DejaVuSans-72\" x=\"58.552734\"/>\n      <use xlink:href=\"#DejaVuSans-6f\" x=\"97.416016\"/>\n      <use xlink:href=\"#DejaVuSans-62\" x=\"158.597656\"/>\n      <use xlink:href=\"#DejaVuSans-61\" x=\"222.074219\"/>\n      <use xlink:href=\"#DejaVuSans-62\" x=\"283.353516\"/>\n      <use xlink:href=\"#DejaVuSans-69\" x=\"346.830078\"/>\n      <use xlink:href=\"#DejaVuSans-6c\" x=\"374.613281\"/>\n      <use xlink:href=\"#DejaVuSans-69\" x=\"402.396484\"/>\n      <use xlink:href=\"#DejaVuSans-74\" x=\"430.179688\"/>\n      <use xlink:href=\"#DejaVuSans-79\" x=\"469.388672\"/>\n     </g>\n    </g>\n   </g>\n   <g id=\"line2d_12\">\n    <path d=\"M 79.385682 17.28 \nL 79.385682 17.472905 \nL 79.69035 17.472905 \nL 79.69035 17.766178 \nL 79.995018 17.766178 \nL 79.995018 18.825177 \nL 80.299687 18.825177 \nL 80.299687 21.087194 \nL 80.604355 21.087194 \nL 80.604355 25.548751 \nL 80.909023 25.548751 \nL 80.909023 25.757761 \nL 81.51836 25.761784 \nL 81.51836 25.991873 \nL 81.823028 25.991873 \nL 81.823028 26.228612 \nL 82.127697 26.228612 \nL 82.127697 26.432725 \nL 82.432365 26.432725 \nL 82.432365 27.430438 \nL 82.737033 27.430438 \nL 82.737033 28.824062 \nL 83.041701 28.824062 \nL 83.041701 29.222497 \nL 83.34637 29.222497 \nL 83.34637 29.656755 \nL 83.651038 29.656755 \nL 83.651038 30.645145 \nL 83.955706 30.645145 \nL 83.955706 31.281384 \nL 84.565043 31.39179 \nL 84.565043 31.411102 \nL 84.869711 31.411102 \nL 84.869711 34.804957 \nL 85.17438 34.804957 \nL 85.17438 35.183649 \nL 85.479048 35.183649 \nL 85.479048 36.969088 \nL 85.783716 36.969088 \nL 85.783716 38.324465 \nL 86.088385 38.324465 \nL 86.088385 38.519711 \nL 86.393053 38.519711 \nL 86.393053 40.25777 \nL 86.697721 40.25777 \nL 86.697721 49.886865 \nL 87.002389 49.886865 \nL 87.002389 50.631552 \nL 87.307058 50.631552 \nL 87.307058 51.389354 \nL 87.611726 51.389354 \nL 87.611726 51.827181 \nL 87.916394 51.827181 \nL 87.916394 52.245249 \nL 88.221063 52.245249 \nL 88.221063 53.914763 \nL 88.525731 53.914763 \nL 88.525731 54.302903 \nL 88.830399 54.302903 \nL 88.830399 54.52619 \nL 89.135068 54.52619 \nL 89.135068 56.92787 \nL 89.439736 56.92787 \nL 89.439736 58.688854 \nL 90.049072 58.721771 \nL 90.049072 59.227796 \nL 90.658409 59.314484 \nL 90.658409 60.761996 \nL 90.963077 60.761996 \nL 90.963077 61.668492 \nL 91.267746 61.668492 \nL 91.267746 61.974733 \nL 91.572414 61.974733 \nL 91.572414 63.062738 \nL 91.877082 63.062738 \nL 91.877082 63.316419 \nL 92.486419 63.351665 \nL 92.486419 64.14389 \nL 92.791087 64.14389 \nL 92.791087 64.765315 \nL 93.095756 64.765315 \nL 93.095756 65.004938 \nL 93.400424 65.004938 \nL 93.400424 65.201911 \nL 93.705092 65.201911 \nL 93.705092 65.362728 \nL 94.00976 65.362728 \nL 94.00976 65.698415 \nL 94.314429 65.698415 \nL 94.314429 65.834426 \nL 94.619097 65.834426 \nL 94.619097 66.635855 \nL 94.923765 66.635855 \nL 94.923765 67.494957 \nL 95.533102 67.566808 \nL 95.533102 68.308244 \nL 95.83777 68.308244 \nL 95.83777 69.279453 \nL 96.142439 69.279453 \nL 96.142439 69.560873 \nL 96.447107 69.560873 \nL 96.447107 69.922736 \nL 96.751775 69.922736 \nL 96.751775 71.302614 \nL 97.056443 71.302614 \nL 97.056443 72.21622 \nL 97.361112 72.21622 \nL 97.361112 73.134495 \nL 97.66578 73.134495 \nL 97.66578 74.279978 \nL 97.970448 74.279978 \nL 97.970448 74.975348 \nL 98.275117 74.975348 \nL 98.275117 75.391623 \nL 98.579785 75.391623 \nL 98.579785 75.968703 \nL 98.884453 75.968703 \nL 98.884453 76.197234 \nL 99.189122 76.197234 \nL 99.189122 79.515758 \nL 99.49379 79.515758 \nL 99.49379 79.737917 \nL 99.798458 79.737917 \nL 99.798458 80.315191 \nL 100.407795 80.411664 \nL 100.407795 81.871767 \nL 100.712463 81.871767 \nL 100.712463 83.085174 \nL 101.017131 83.085174 \nL 101.017131 83.502697 \nL 101.626468 83.595857 \nL 101.626468 84.619621 \nL 102.235805 84.684281 \nL 102.235805 86.267508 \nL 102.540473 86.267508 \nL 102.540473 86.930943 \nL 102.845141 86.930943 \nL 102.845141 88.446569 \nL 103.14981 88.446569 \nL 103.14981 89.661743 \nL 103.454478 89.661743 \nL 103.454478 91.382689 \nL 103.759146 91.382689 \nL 103.759146 92.055607 \nL 104.368483 92.084423 \nL 104.368483 92.368707 \nL 104.673151 92.368707 \nL 104.673151 92.750378 \nL 104.977819 92.750378 \nL 104.977819 93.396508 \nL 105.282488 93.396508 \nL 105.282488 94.068265 \nL 105.587156 94.068265 \nL 105.587156 94.282885 \nL 105.891824 94.282885 \nL 105.891824 94.460287 \nL 106.196493 94.460287 \nL 106.196493 95.133501 \nL 106.501161 95.133501 \nL 106.501161 95.497732 \nL 106.805829 95.497732 \nL 106.805829 95.906182 \nL 107.415166 95.929576 \nL 107.415166 96.427313 \nL 107.719834 96.427313 \nL 107.719834 96.848883 \nL 108.024502 96.848883 \nL 108.024502 97.503412 \nL 108.329171 97.503412 \nL 108.329171 98.824646 \nL 108.633839 98.824646 \nL 108.633839 99.044092 \nL 108.938507 99.044092 \nL 108.938507 99.65503 \nL 109.243176 99.65503 \nL 109.243176 99.809793 \nL 109.547844 99.809793 \nL 109.547844 100.031411 \nL 109.852512 100.031411 \nL 109.852512 100.405354 \nL 110.157181 100.405354 \nL 110.157181 100.702643 \nL 110.766517 100.736544 \nL 110.766517 101.025324 \nL 111.071186 101.025324 \nL 111.071186 102.299064 \nL 111.375854 102.299064 \nL 111.375854 102.893034 \nL 111.680522 102.893034 \nL 111.680522 103.307333 \nL 111.98519 103.307333 \nL 111.98519 105.500257 \nL 112.289859 105.500257 \nL 112.289859 105.612265 \nL 112.594527 105.612265 \nL 112.594527 105.734035 \nL 112.899195 105.734035 \nL 112.899195 107.335414 \nL 113.203864 107.335414 \nL 113.203864 107.94494 \nL 113.508532 107.94494 \nL 113.508532 108.290947 \nL 113.8132 108.290947 \nL 113.8132 108.490419 \nL 114.117869 108.490419 \nL 114.117869 108.959146 \nL 114.422537 108.959146 \nL 114.422537 110.025962 \nL 114.727205 110.025962 \nL 114.727205 110.163675 \nL 115.336542 110.233507 \nL 115.336542 110.460513 \nL 115.64121 110.460513 \nL 115.64121 111.330325 \nL 115.945878 111.330325 \nL 115.945878 112.105781 \nL 116.555215 112.211236 \nL 116.555215 115.496027 \nL 116.859883 115.496027 \nL 116.859883 116.552476 \nL 117.164552 116.552476 \nL 117.164552 117.203274 \nL 117.46922 117.203274 \nL 117.46922 118.891608 \nL 117.773888 118.891608 \nL 117.773888 120.924319 \nL 118.383225 120.952546 \nL 118.383225 122.229944 \nL 118.687893 122.229944 \nL 118.687893 122.967704 \nL 118.992561 122.967704 \nL 118.992561 125.154922 \nL 119.29723 125.154922 \nL 119.29723 126.405225 \nL 119.601898 126.405225 \nL 119.601898 127.057211 \nL 119.906566 127.057211 \nL 119.906566 127.396072 \nL 120.515903 127.439515 \nL 120.515903 128.064884 \nL 120.820571 128.064884 \nL 120.820571 128.690517 \nL 121.429908 128.709491 \nL 121.429908 129.874772 \nL 121.734576 129.874772 \nL 121.734576 130.485172 \nL 122.039244 130.485172 \nL 122.039244 130.94189 \nL 122.343913 130.94189 \nL 122.343913 131.582064 \nL 122.953249 131.589574 \nL 122.953249 131.830447 \nL 123.257918 131.830447 \nL 123.257918 132.305382 \nL 123.562586 132.305382 \nL 123.562586 132.793931 \nL 123.867254 132.793931 \nL 123.867254 133.556251 \nL 124.171923 133.556251 \nL 124.171923 133.66845 \nL 124.476591 133.66845 \nL 124.476591 134.969713 \nL 124.781259 134.969713 \nL 124.781259 135.832461 \nL 125.085928 135.832461 \nL 125.085928 136.376263 \nL 125.390596 136.376263 \nL 125.390596 136.594147 \nL 126.304601 136.662285 \nL 126.304601 137.082241 \nL 126.609269 137.082241 \nL 126.609269 137.933939 \nL 127.218606 137.937052 \nL 127.218606 138.281127 \nL 127.827942 138.293867 \nL 127.827942 138.629332 \nL 128.132611 138.629332 \nL 128.132611 139.225698 \nL 128.437279 139.225698 \nL 128.437279 139.353239 \nL 128.741947 139.353239 \nL 128.741947 140.783021 \nL 129.351284 140.790724 \nL 129.351284 140.977089 \nL 129.655952 140.977089 \nL 129.655952 141.437439 \nL 129.96062 141.437439 \nL 129.96062 142.271145 \nL 130.265289 142.271145 \nL 130.265289 142.643881 \nL 130.569957 142.643881 \nL 130.569957 142.958345 \nL 130.874625 142.958345 \nL 130.874625 143.315587 \nL 131.179294 143.315587 \nL 131.179294 143.986908 \nL 131.483962 143.986908 \nL 131.483962 144.114212 \nL 131.78863 144.114212 \nL 131.78863 144.31715 \nL 132.093299 144.31715 \nL 132.093299 144.539632 \nL 132.397967 144.539632 \nL 132.397967 144.756056 \nL 132.702635 144.756056 \nL 132.702635 145.011467 \nL 133.007303 145.011467 \nL 133.007303 145.734835 \nL 133.311972 145.734835 \nL 133.311972 145.903629 \nL 133.921308 145.946153 \nL 133.921308 146.426728 \nL 134.225977 146.426728 \nL 134.225977 146.679619 \nL 134.530645 146.679619 \nL 134.530645 147.092421 \nL 134.835313 147.092421 \nL 134.835313 147.413545 \nL 135.139982 147.413545 \nL 135.139982 148.651939 \nL 136.053986 148.72582 \nL 136.053986 149.019068 \nL 136.358655 149.019068 \nL 136.358655 149.246074 \nL 136.663323 149.246074 \nL 136.663323 149.572284 \nL 136.967991 149.572284 \nL 136.967991 149.868129 \nL 137.27266 149.868129 \nL 137.27266 150.270365 \nL 137.881996 150.281475 \nL 137.881996 150.517019 \nL 138.186665 150.517019 \nL 138.186665 150.828761 \nL 138.491333 150.828761 \nL 138.491333 151.358418 \nL 138.796001 151.358418 \nL 138.796001 151.587999 \nL 139.10067 151.587999 \nL 139.10067 151.816678 \nL 139.405338 151.816678 \nL 139.405338 151.98091 \nL 139.710006 151.98091 \nL 139.710006 152.827992 \nL 140.014674 152.827992 \nL 140.014674 153.117141 \nL 140.319343 153.117141 \nL 140.319343 153.244929 \nL 140.928679 153.293898 \nL 140.928679 153.953863 \nL 141.233348 153.953863 \nL 141.233348 154.289453 \nL 141.538016 154.289453 \nL 141.538016 154.404118 \nL 141.842684 154.404118 \nL 141.842684 154.577794 \nL 142.452021 154.666586 \nL 142.452021 154.866936 \nL 142.756689 154.866936 \nL 142.756689 155.512789 \nL 143.366026 155.546651 \nL 143.366026 155.87231 \nL 143.670694 155.87231 \nL 143.670694 156.389681 \nL 143.975362 156.389681 \nL 143.975362 156.664744 \nL 144.584699 156.732152 \nL 144.584699 157.675301 \nL 144.889367 157.675301 \nL 144.889367 158.118831 \nL 145.498704 158.124653 \nL 145.498704 158.929669 \nL 145.803372 158.929669 \nL 145.803372 159.138755 \nL 146.412709 159.179852 \nL 146.412709 159.617512 \nL 146.717377 159.617512 \nL 146.717377 159.741761 \nL 147.326714 159.753241 \nL 147.326714 160.228641 \nL 147.631382 160.228641 \nL 147.631382 160.485315 \nL 147.93605 160.485315 \nL 147.93605 160.625516 \nL 148.240719 160.625516 \nL 148.240719 161.117966 \nL 148.850055 161.18398 \nL 148.850055 161.832455 \nL 149.459392 161.896833 \nL 149.459392 162.120666 \nL 150.068729 162.121983 \nL 150.068729 162.416969 \nL 150.373397 162.416969 \nL 150.373397 162.554825 \nL 150.678065 162.554825 \nL 150.678065 162.672274 \nL 151.59207 162.675772 \nL 151.59207 163.026309 \nL 151.896738 163.026309 \nL 151.896738 163.462496 \nL 152.201407 163.462496 \nL 152.201407 163.687016 \nL 152.506075 163.687016 \nL 152.506075 164.574021 \nL 152.810743 164.574021 \nL 152.810743 164.930896 \nL 153.115412 164.930896 \nL 153.115412 165.088399 \nL 154.029416 165.181997 \nL 154.029416 165.412055 \nL 154.334085 165.412055 \nL 154.334085 165.667695 \nL 154.638753 165.667695 \nL 154.638753 165.877516 \nL 155.24809 165.92012 \nL 155.24809 166.185982 \nL 155.552758 166.185982 \nL 155.552758 166.406915 \nL 156.162095 166.476839 \nL 156.162095 166.872042 \nL 156.466763 166.872042 \nL 156.466763 167.049619 \nL 156.771431 167.049619 \nL 156.771431 167.647364 \nL 157.380768 167.748238 \nL 157.380768 167.917762 \nL 157.990104 167.998742 \nL 157.990104 168.13687 \nL 158.294773 168.13687 \nL 158.294773 168.339158 \nL 158.904109 168.404492 \nL 158.904109 168.512555 \nL 159.208778 168.512555 \nL 159.208778 168.916422 \nL 159.818114 168.961943 \nL 159.818114 169.377429 \nL 160.122783 169.377429 \nL 160.122783 169.517768 \nL 160.427451 169.517768 \nL 160.427451 170.114632 \nL 161.341456 170.193666 \nL 161.341456 170.380583 \nL 161.646124 170.380583 \nL 161.646124 171.279306 \nL 161.950792 171.279306 \nL 161.950792 171.404646 \nL 162.560129 171.417116 \nL 162.560129 171.536041 \nL 162.864797 171.536041 \nL 162.864797 172.158852 \nL 163.169466 172.158852 \nL 163.169466 172.711716 \nL 164.083471 172.8091 \nL 164.083471 172.892957 \nL 164.997475 173.000667 \nL 164.997475 173.192434 \nL 165.302144 173.192434 \nL 165.302144 173.307418 \nL 165.606812 173.307418 \nL 165.606812 173.72148 \nL 166.216149 173.759177 \nL 166.216149 174.166784 \nL 166.520817 174.166784 \nL 166.520817 174.376826 \nL 167.130154 174.472817 \nL 167.130154 174.602806 \nL 167.73949 174.675057 \nL 167.73949 175.188854 \nL 168.044158 175.188854 \nL 168.044158 175.463344 \nL 168.348827 175.463344 \nL 168.348827 175.840758 \nL 168.653495 175.840758 \nL 168.653495 176.044046 \nL 168.958163 176.044046 \nL 168.958163 176.173877 \nL 169.262832 176.173877 \nL 169.262832 176.733589 \nL 169.872168 176.773532 \nL 169.872168 176.849112 \nL 170.481505 176.861501 \nL 170.481505 177.280535 \nL 170.786173 177.280535 \nL 170.786173 177.402052 \nL 171.090842 177.402052 \nL 171.090842 177.803098 \nL 171.39551 177.803098 \nL 171.39551 178.109735 \nL 171.700178 178.109735 \nL 171.700178 178.283181 \nL 172.004846 178.283181 \nL 172.004846 178.571602 \nL 172.614183 178.643259 \nL 172.614183 178.719946 \nL 172.918851 178.719946 \nL 172.918851 178.874811 \nL 173.22352 178.874811 \nL 173.22352 179.348807 \nL 174.137525 179.423082 \nL 174.137525 179.467262 \nL 175.356198 179.566599 \nL 175.356198 179.747369 \nL 175.965534 179.784917 \nL 175.965534 180.135741 \nL 176.574871 180.162672 \nL 176.574871 180.296906 \nL 177.184208 180.406531 \nL 177.184208 180.462853 \nL 178.098213 180.506838 \nL 178.098213 180.636683 \nL 178.707549 180.734751 \nL 178.707549 180.837889 \nL 179.012217 180.837889 \nL 179.012217 181.209245 \nL 179.316886 181.209245 \nL 179.316886 181.434617 \nL 179.926222 181.484874 \nL 179.926222 181.577607 \nL 180.535559 181.641038 \nL 180.535559 181.956569 \nL 180.840227 181.956569 \nL 180.840227 182.164456 \nL 182.0589 182.272436 \nL 182.0589 182.397718 \nL 182.972905 182.427593 \nL 182.972905 182.578857 \nL 184.496247 182.653112 \nL 184.496247 183.122359 \nL 184.800915 183.122359 \nL 184.800915 183.451721 \nL 185.410252 183.552335 \nL 185.410252 184.024825 \nL 186.019588 184.045696 \nL 186.019588 184.220033 \nL 186.628925 184.225513 \nL 186.628925 184.485265 \nL 187.238262 184.567241 \nL 187.238262 184.631701 \nL 187.847598 184.74014 \nL 187.847598 184.78572 \nL 188.152267 184.78572 \nL 188.152267 185.005202 \nL 189.066271 185.073859 \nL 189.066271 185.283766 \nL 189.37094 185.283766 \nL 189.37094 185.400144 \nL 189.980276 185.489915 \nL 189.980276 185.91602 \nL 190.284945 185.91602 \nL 190.284945 186.085092 \nL 190.894281 186.19465 \nL 190.894281 186.493966 \nL 191.19895 186.493966 \nL 191.19895 186.640854 \nL 192.112955 186.7214 \nL 192.112955 186.867988 \nL 193.026959 186.897702 \nL 193.026959 187.251568 \nL 193.940964 187.325241 \nL 193.940964 187.49279 \nL 194.245633 187.49279 \nL 194.245633 187.639448 \nL 195.159638 187.715624 \nL 195.159638 188.024946 \nL 195.768974 188.056303 \nL 195.768974 188.347741 \nL 196.073643 188.347741 \nL 196.073643 188.525815 \nL 196.682979 188.573935 \nL 196.682979 188.72862 \nL 197.596984 188.750863 \nL 197.596984 188.97285 \nL 198.206321 189.077507 \nL 198.206321 189.116197 \nL 198.510989 189.116197 \nL 198.510989 189.233847 \nL 198.815657 189.233847 \nL 198.815657 189.720471 \nL 199.729662 189.819214 \nL 199.729662 190.02697 \nL 200.948335 190.120582 \nL 200.948335 190.166493 \nL 201.557672 190.239178 \nL 201.557672 190.309077 \nL 201.86234 190.309077 \nL 201.86234 190.441282 \nL 202.471677 190.466787 \nL 202.471677 190.71642 \nL 203.385682 190.806452 \nL 203.385682 191.175732 \nL 204.299687 191.238144 \nL 204.299687 191.365411 \nL 205.213692 191.410903 \nL 205.213692 191.586606 \nL 205.823028 191.60114 \nL 205.823028 191.714353 \nL 206.127697 191.714353 \nL 206.127697 192.346613 \nL 207.34637 192.444265 \nL 207.34637 192.625749 \nL 207.651038 192.625749 \nL 207.651038 192.783058 \nL 208.260375 192.852238 \nL 208.260375 192.935259 \nL 208.565043 192.935259 \nL 208.565043 193.098186 \nL 209.17438 193.141975 \nL 209.17438 193.220646 \nL 210.088385 193.247647 \nL 210.088385 193.54351 \nL 210.697721 193.576657 \nL 210.697721 193.683658 \nL 211.307058 193.732559 \nL 211.307058 194.237592 \nL 212.221063 194.309655 \nL 212.221063 194.373822 \nL 213.135068 194.444944 \nL 213.135068 194.673641 \nL 214.049072 194.768728 \nL 214.049072 194.82402 \nL 214.658409 194.859425 \nL 214.658409 194.984624 \nL 215.267746 194.989599 \nL 215.267746 195.148755 \nL 215.572414 195.148755 \nL 215.572414 195.288741 \nL 216.181751 195.371122 \nL 216.181751 195.417062 \nL 216.791087 195.519799 \nL 216.791087 195.615414 \nL 217.400424 195.713121 \nL 217.400424 195.891358 \nL 217.705092 195.891358 \nL 217.705092 196.003426 \nL 218.619097 196.041702 \nL 218.619097 196.384479 \nL 218.923765 196.384479 \nL 218.923765 196.540871 \nL 219.533102 196.585397 \nL 219.533102 196.961361 \nL 220.142439 197.023999 \nL 220.142439 197.100788 \nL 220.751775 197.105054 \nL 220.751775 197.391003 \nL 221.056443 197.391003 \nL 221.056443 197.521267 \nL 221.970448 197.566305 \nL 221.970448 197.706767 \nL 222.275117 197.706767 \nL 222.275117 197.893713 \nL 222.884453 197.935895 \nL 222.884453 198.069245 \nL 223.189122 198.069245 \nL 223.189122 198.199831 \nL 223.49379 198.199831 \nL 223.49379 198.397998 \nL 223.798458 198.397998 \nL 223.798458 198.547573 \nL 224.712463 198.576369 \nL 224.712463 198.674164 \nL 225.3218 198.748453 \nL 225.3218 198.793733 \nL 225.626468 198.793733 \nL 225.626468 198.922766 \nL 226.235805 198.999095 \nL 226.235805 199.155858 \nL 227.454478 199.229225 \nL 227.454478 199.294527 \nL 228.368483 199.39881 \nL 228.368483 199.487879 \nL 228.673151 199.487879 \nL 228.673151 199.656702 \nL 229.587156 199.736595 \nL 229.587156 200.064544 \nL 229.891824 200.064544 \nL 229.891824 200.234144 \nL 231.110498 200.34238 \nL 231.110498 200.702483 \nL 232.329171 200.805622 \nL 232.329171 201.007387 \nL 232.938507 201.108597 \nL 232.938507 201.207809 \nL 234.157181 201.313 \nL 234.157181 201.387044 \nL 234.766517 201.423585 \nL 234.766517 201.626291 \nL 235.375854 201.666792 \nL 235.375854 202.127987 \nL 235.98519 202.20392 \nL 235.98519 202.281437 \nL 236.594527 202.341385 \nL 236.594527 202.498333 \nL 237.508532 202.599887 \nL 237.508532 202.652861 \nL 237.8132 202.652861 \nL 237.8132 202.795177 \nL 238.117869 202.795177 \nL 238.117869 203.081051 \nL 239.031873 203.17265 \nL 239.031873 203.232629 \nL 239.336542 203.232629 \nL 239.336542 203.372559 \nL 239.64121 203.372559 \nL 239.64121 203.504274 \nL 240.555215 203.564855 \nL 240.555215 203.620896 \nL 241.46922 203.728186 \nL 241.46922 203.740962 \nL 242.078557 203.761035 \nL 242.078557 203.990954 \nL 242.687893 204.019389 \nL 242.687893 204.198993 \nL 244.515903 204.293852 \nL 244.515903 204.367287 \nL 244.820571 204.367287 \nL 244.820571 204.479565 \nL 246.039244 204.589094 \nL 246.039244 204.702844 \nL 247.562586 204.781744 \nL 247.562586 204.835284 \nL 248.476591 204.908851 \nL 248.476591 204.997852 \nL 249.085928 205.094016 \nL 249.085928 205.23727 \nL 250.304601 205.34514 \nL 250.304601 205.350508 \nL 250.913937 205.410613 \nL 250.913937 205.512331 \nL 252.132611 205.588536 \nL 252.132611 205.659388 \nL 253.655952 205.740012 \nL 253.655952 205.776862 \nL 254.265289 205.792839 \nL 254.265289 205.925017 \nL 255.78863 205.984451 \nL 255.78863 206.197037 \nL 257.311972 206.247319 \nL 257.311972 206.31921 \nL 257.61664 206.31921 \nL 257.61664 206.480067 \nL 258.835313 206.512568 \nL 258.835313 206.601137 \nL 260.053986 206.689918 \nL 260.053986 206.731235 \nL 260.967991 206.833513 \nL 260.967991 206.882302 \nL 262.491333 206.97599 \nL 262.491333 207.082398 \nL 262.796001 207.082398 \nL 262.796001 207.196352 \nL 263.10067 207.196352 \nL 263.10067 207.328283 \nL 265.233348 207.43831 \nL 265.233348 207.506286 \nL 265.842684 207.580574 \nL 265.842684 207.675584 \nL 267.061357 207.744688 \nL 267.061357 207.841884 \nL 268.280031 207.943115 \nL 268.280031 208.022559 \nL 269.194036 208.132736 \nL 269.194036 208.168801 \nL 270.412709 208.264725 \nL 270.412709 208.299873 \nL 270.717377 208.299873 \nL 270.717377 208.661374 \nL 271.93605 208.750919 \nL 271.93605 208.779803 \nL 272.240719 208.779803 \nL 272.240719 208.960544 \nL 273.76406 209.064479 \nL 273.76406 209.093276 \nL 274.982733 209.125481 \nL 274.982733 209.206036 \nL 275.287402 209.206036 \nL 275.287402 209.402375 \nL 275.896738 209.446236 \nL 275.896738 209.593611 \nL 277.724748 209.704579 \nL 277.724748 209.715412 \nL 278.638753 209.73587 \nL 278.638753 209.837217 \nL 279.552758 209.90815 \nL 279.552758 209.958558 \nL 281.0761 210.010849 \nL 281.0761 210.109237 \nL 281.685436 210.19876 \nL 281.685436 210.250673 \nL 282.294773 210.293475 \nL 282.294773 210.376001 \nL 282.904109 210.396144 \nL 282.904109 210.496266 \nL 283.513446 210.564963 \nL 283.513446 210.686435 \nL 285.341456 210.768114 \nL 285.341456 210.892905 \nL 286.255461 210.996945 \nL 286.255461 211.025417 \nL 287.169466 211.122335 \nL 287.169466 211.170049 \nL 287.778802 211.267843 \nL 287.778802 211.304502 \nL 288.997475 211.365734 \nL 288.997475 211.416621 \nL 290.825485 211.515207 \nL 290.825485 211.556573 \nL 292.348827 211.655318 \nL 292.348827 211.872843 \nL 293.262832 211.981229 \nL 293.262832 212.042739 \nL 294.786173 212.123627 \nL 294.786173 212.16281 \nL 296.614183 212.243094 \nL 296.614183 212.283536 \nL 298.746861 212.384465 \nL 298.746861 212.394654 \nL 299.660866 212.469718 \nL 299.660866 212.5295 \nL 300.879539 212.597243 \nL 300.879539 212.730887 \nL 301.793544 212.751668 \nL 301.793544 212.98332 \nL 303.316886 213.070583 \nL 303.316886 213.101307 \nL 305.449564 213.207667 \nL 305.449564 213.269525 \nL 306.363569 213.330094 \nL 306.363569 213.392265 \nL 307.88691 213.433761 \nL 307.88691 213.559301 \nL 309.105584 213.651489 \nL 309.105584 213.69938 \nL 310.324257 213.789595 \nL 310.324257 213.885234 \nL 311.238262 213.978976 \nL 311.238262 214.007432 \nL 312.152267 214.078307 \nL 312.152267 214.144407 \nL 313.37094 214.200969 \nL 313.37094 214.396572 \nL 314.589613 214.496263 \nL 314.589613 214.532061 \nL 316.417623 214.633477 \nL 316.417623 214.706568 \nL 318.245633 214.766952 \nL 318.245633 214.836925 \nL 319.768974 214.90206 \nL 319.768974 214.955936 \nL 322.510989 215.061197 \nL 322.510989 215.128579 \nL 323.729662 215.236394 \nL 323.729662 215.249482 \nL 326.471677 215.339829 \nL 326.471677 215.375394 \nL 328.299687 215.467027 \nL 328.299687 215.51666 \nL 330.432365 215.621283 \nL 330.432365 215.649622 \nL 332.260375 215.730668 \nL 332.260375 215.772577 \nL 334.393053 215.843849 \nL 334.393053 215.898646 \nL 335.307058 215.999384 \nL 335.307058 216.053147 \nL 338.049072 216.162365 \nL 338.049072 216.179744 \nL 338.963077 216.260943 \nL 338.963077 216.311441 \nL 340.486419 216.421311 \nL 340.486419 216.430456 \nL 342.314429 216.524135 \nL 342.314429 216.589696 \nL 344.142439 216.663058 \nL 344.142439 216.764196 \nL 346.275117 216.836225 \nL 346.275117 216.920591 \nL 347.798458 217.029056 \nL 347.798458 217.050292 \nL 351.14981 217.149194 \nL 351.14981 217.210689 \nL 355.110498 217.313574 \nL 355.110498 217.352536 \nL 356.633839 217.456307 \nL 356.633839 217.479524 \nL 358.766517 217.574231 \nL 358.766517 217.618866 \nL 360.594527 217.692731 \nL 360.594527 217.744219 \nL 361.8132 217.791167 \nL 361.8132 217.862362 \nL 364.859883 217.947733 \nL 364.859883 217.982438 \nL 366.687893 218.069801 \nL 366.687893 218.105234 \nL 369.429908 218.212891 \nL 369.429908 218.233086 \nL 371.867254 218.336179 \nL 371.867254 218.360871 \nL 374.304601 218.440339 \nL 374.304601 218.478766 \nL 376.437279 218.574729 \nL 376.437279 218.598456 \nL 380.397967 218.708974 \nL 380.397967 218.733275 \nL 382.835313 218.837609 \nL 382.835313 218.855494 \nL 383.749318 218.88 \nL 383.749318 218.88 \n\" clip-path=\"url(#p6fe173c466)\" style=\"fill: none; stroke: #0071bc; stroke-width: 1.5; stroke-linecap: square\"/>\n   </g>\n   <g id=\"line2d_13\">\n    <path d=\"M 79.385682 116.201798 \nL 79.385682 116.252471 \nL 79.995018 116.329554 \nL 79.995018 116.608352 \nL 80.299687 116.608352 \nL 80.299687 117.206264 \nL 80.604355 117.206264 \nL 80.604355 118.395343 \nL 81.51836 118.45245 \nL 81.51836 118.514163 \nL 82.127697 118.577697 \nL 82.127697 118.632506 \nL 82.432365 118.632506 \nL 82.432365 118.900816 \nL 82.737033 118.900816 \nL 82.737033 119.27673 \nL 83.34637 119.384447 \nL 83.34637 119.501974 \nL 83.651038 119.501974 \nL 83.651038 119.769957 \nL 83.955706 119.769957 \nL 83.955706 119.94282 \nL 84.869711 119.978099 \nL 84.869711 120.905324 \nL 85.479048 121.009295 \nL 85.479048 121.500891 \nL 85.783716 121.500891 \nL 85.783716 121.87563 \nL 86.393053 121.929724 \nL 86.393053 122.41251 \nL 86.697721 122.41251 \nL 86.697721 125.129219 \nL 87.002389 125.129219 \nL 87.002389 125.342387 \nL 87.307058 125.342387 \nL 87.307058 125.559775 \nL 87.611726 125.559775 \nL 87.611726 125.685588 \nL 87.916394 125.685588 \nL 87.916394 125.805872 \nL 88.221063 125.805872 \nL 88.221063 126.287665 \nL 88.525731 126.287665 \nL 88.525731 126.40001 \nL 89.135068 126.464697 \nL 89.135068 127.16316 \nL 89.439736 127.16316 \nL 89.439736 127.678458 \nL 90.049072 127.688116 \nL 90.049072 127.836706 \nL 90.658409 127.862184 \nL 90.658409 128.288595 \nL 90.963077 128.288595 \nL 90.963077 128.556587 \nL 91.572414 128.64729 \nL 91.572414 128.970224 \nL 92.486419 129.056163 \nL 92.486419 129.292197 \nL 92.791087 129.292197 \nL 92.791087 129.477749 \nL 93.400424 129.549393 \nL 93.400424 129.608326 \nL 94.00976 129.656468 \nL 94.00976 129.757038 \nL 94.619097 129.797815 \nL 94.619097 130.038447 \nL 94.923765 130.038447 \nL 94.923765 130.29707 \nL 95.533102 130.318732 \nL 95.533102 130.542549 \nL 95.83777 130.542549 \nL 95.83777 130.836526 \nL 96.447107 130.921881 \nL 96.447107 131.031746 \nL 96.751775 131.031746 \nL 96.751775 131.451868 \nL 97.056443 131.451868 \nL 97.056443 131.731062 \nL 97.361112 131.731062 \nL 97.361112 132.012522 \nL 97.66578 132.012522 \nL 97.66578 132.364813 \nL 97.970448 132.364813 \nL 97.970448 132.579323 \nL 98.275117 132.579323 \nL 98.275117 132.707974 \nL 98.579785 132.707974 \nL 98.579785 132.886617 \nL 99.189122 132.957458 \nL 99.189122 133.992306 \nL 99.798458 134.062002 \nL 99.798458 134.243352 \nL 100.407795 134.273695 \nL 100.407795 134.734154 \nL 100.712463 134.734154 \nL 100.712463 135.118597 \nL 101.017131 135.118597 \nL 101.017131 135.251258 \nL 101.626468 135.280885 \nL 101.626468 135.607105 \nL 102.235805 135.627748 \nL 102.235805 136.134697 \nL 102.540473 136.134697 \nL 102.540473 136.347985 \nL 102.845141 136.347985 \nL 102.845141 136.837164 \nL 103.14981 136.837164 \nL 103.14981 137.231326 \nL 103.454478 137.231326 \nL 103.454478 137.792568 \nL 103.759146 137.792568 \nL 103.759146 138.013001 \nL 104.673151 138.115754 \nL 104.673151 138.241175 \nL 104.977819 138.241175 \nL 104.977819 138.453911 \nL 105.282488 138.453911 \nL 105.282488 138.675636 \nL 105.891824 138.746594 \nL 105.891824 138.805291 \nL 106.196493 138.805291 \nL 106.196493 139.028399 \nL 106.501161 139.028399 \nL 106.501161 139.149348 \nL 106.805829 139.149348 \nL 106.805829 139.285182 \nL 107.415166 139.292968 \nL 107.415166 139.458799 \nL 107.719834 139.458799 \nL 107.719834 139.599504 \nL 108.024502 139.599504 \nL 108.024502 139.818419 \nL 108.329171 139.818419 \nL 108.329171 140.262032 \nL 108.938507 140.335935 \nL 108.938507 140.542022 \nL 109.547844 140.594307 \nL 109.547844 140.669234 \nL 109.852512 140.669234 \nL 109.852512 140.795812 \nL 110.461849 140.896577 \nL 110.461849 140.908075 \nL 111.071186 141.006085 \nL 111.071186 141.439742 \nL 111.375854 141.439742 \nL 111.375854 141.642731 \nL 111.680522 141.642731 \nL 111.680522 141.784608 \nL 111.98519 141.784608 \nL 111.98519 142.53961 \nL 112.899195 142.620503 \nL 112.899195 143.17675 \nL 113.203864 143.17675 \nL 113.203864 143.38946 \nL 113.508532 143.38946 \nL 113.508532 143.510453 \nL 114.117869 143.580286 \nL 114.117869 143.744618 \nL 114.422537 143.744618 \nL 114.422537 144.119869 \nL 115.336542 144.193074 \nL 115.336542 144.273218 \nL 115.64121 144.273218 \nL 115.64121 144.581038 \nL 115.945878 144.581038 \nL 115.945878 144.856454 \nL 116.555215 144.893981 \nL 116.555215 146.071752 \nL 116.859883 146.071752 \nL 116.859883 146.454267 \nL 117.164552 146.454267 \nL 117.164552 146.690829 \nL 117.46922 146.690829 \nL 117.46922 147.307859 \nL 117.773888 147.307859 \nL 117.773888 148.057257 \nL 118.383225 148.067715 \nL 118.383225 148.542443 \nL 118.687893 148.542443 \nL 118.687893 148.817958 \nL 118.992561 148.817958 \nL 118.992561 149.64064 \nL 119.29723 149.64064 \nL 119.29723 150.114944 \nL 119.601898 150.114944 \nL 119.601898 150.363461 \nL 119.906566 150.363461 \nL 119.906566 150.492949 \nL 120.515903 150.509566 \nL 120.515903 150.749177 \nL 120.820571 150.749177 \nL 120.820571 150.98966 \nL 121.429908 150.996965 \nL 121.429908 151.447 \nL 121.734576 151.447 \nL 121.734576 151.683831 \nL 122.039244 151.683831 \nL 122.039244 151.861532 \nL 122.343913 151.861532 \nL 122.343913 152.111335 \nL 123.257918 152.208485 \nL 123.257918 152.394606 \nL 123.562586 152.394606 \nL 123.562586 152.586557 \nL 123.867254 152.586557 \nL 123.867254 152.887085 \nL 124.476591 152.931422 \nL 124.476591 153.44762 \nL 124.781259 153.44762 \nL 124.781259 153.791908 \nL 125.085928 153.791908 \nL 125.085928 154.009768 \nL 125.695264 154.097244 \nL 125.695264 154.123237 \nL 126.304601 154.124622 \nL 126.304601 154.293592 \nL 126.609269 154.293592 \nL 126.609269 154.637509 \nL 127.218606 154.638769 \nL 127.218606 154.778183 \nL 127.827942 154.783351 \nL 127.827942 154.91955 \nL 128.132611 154.91955 \nL 128.132611 155.162327 \nL 128.741947 155.214357 \nL 128.741947 155.80028 \nL 129.655952 155.880189 \nL 129.655952 156.070107 \nL 129.96062 156.070107 \nL 129.96062 156.41538 \nL 130.265289 156.41538 \nL 130.265289 156.570304 \nL 130.569957 156.570304 \nL 130.569957 156.701278 \nL 130.874625 156.701278 \nL 130.874625 156.850373 \nL 131.179294 156.850373 \nL 131.179294 157.131425 \nL 131.78863 157.184852 \nL 131.78863 157.270106 \nL 132.397967 157.363694 \nL 132.397967 157.454857 \nL 133.007303 157.562599 \nL 133.007303 157.868672 \nL 133.921308 157.958346 \nL 133.921308 158.162726 \nL 134.530645 158.270525 \nL 134.530645 158.446859 \nL 134.835313 158.446859 \nL 134.835313 158.584354 \nL 135.139982 158.584354 \nL 135.139982 159.117251 \nL 136.053986 159.149178 \nL 136.053986 159.276053 \nL 136.663323 159.374436 \nL 136.663323 159.516069 \nL 136.967991 159.516069 \nL 136.967991 159.644781 \nL 137.27266 159.644781 \nL 137.27266 159.820184 \nL 138.186665 159.927973 \nL 138.186665 160.064461 \nL 138.491333 160.064461 \nL 138.491333 160.297009 \nL 139.10067 160.398065 \nL 139.10067 160.49888 \nL 139.710006 160.57138 \nL 139.710006 160.94661 \nL 140.014674 160.94661 \nL 140.014674 161.075193 \nL 140.928679 161.153922 \nL 140.928679 161.44873 \nL 141.233348 161.44873 \nL 141.233348 161.599159 \nL 141.842684 161.650639 \nL 141.842684 161.728692 \nL 142.452021 161.768633 \nL 142.452021 161.858848 \nL 142.756689 161.858848 \nL 142.756689 162.15054 \nL 143.366026 162.165871 \nL 143.366026 162.313496 \nL 143.670694 162.313496 \nL 143.670694 162.548737 \nL 143.975362 162.548737 \nL 143.975362 162.674162 \nL 144.584699 162.704937 \nL 144.584699 163.137123 \nL 144.889367 163.137123 \nL 144.889367 163.341402 \nL 145.498704 163.344087 \nL 145.498704 163.716594 \nL 146.108041 163.813712 \nL 146.108041 163.832819 \nL 146.412709 163.832819 \nL 146.412709 164.036666 \nL 147.326714 164.10002 \nL 147.326714 164.322441 \nL 147.631382 164.322441 \nL 147.631382 164.442865 \nL 148.240719 164.508743 \nL 148.240719 164.740703 \nL 148.850055 164.771864 \nL 148.850055 165.078829 \nL 149.459392 165.109388 \nL 149.459392 165.215758 \nL 150.068729 165.216384 \nL 150.068729 165.356855 \nL 150.678065 165.422615 \nL 150.678065 165.478696 \nL 151.59207 165.480367 \nL 151.59207 165.648063 \nL 151.896738 165.648063 \nL 151.896738 165.85739 \nL 152.506075 165.965424 \nL 152.506075 166.394157 \nL 152.810743 166.394157 \nL 152.810743 166.56753 \nL 153.42008 166.644208 \nL 153.42008 166.680478 \nL 154.029416 166.689823 \nL 154.029416 166.80209 \nL 154.334085 166.80209 \nL 154.334085 166.927093 \nL 154.943421 167.02989 \nL 154.943421 167.050785 \nL 155.24809 167.050785 \nL 155.24809 167.181345 \nL 155.857426 167.290064 \nL 155.857426 167.324514 \nL 156.162095 167.324514 \nL 156.162095 167.519611 \nL 156.771431 167.607488 \nL 156.771431 167.904274 \nL 157.380768 167.954509 \nL 157.380768 168.039031 \nL 158.294773 168.148459 \nL 158.294773 168.249672 \nL 159.208778 168.336572 \nL 159.208778 168.539486 \nL 159.818114 168.562402 \nL 159.818114 168.771995 \nL 160.427451 168.842963 \nL 160.427451 169.145791 \nL 161.341456 169.186011 \nL 161.341456 169.281249 \nL 161.646124 169.281249 \nL 161.646124 169.741428 \nL 162.560129 169.812327 \nL 162.560129 169.873582 \nL 162.864797 169.873582 \nL 162.864797 170.195485 \nL 163.169466 170.195485 \nL 163.169466 170.482809 \nL 164.388139 170.577326 \nL 164.388139 170.620989 \nL 164.997475 170.633574 \nL 164.997475 170.73386 \nL 165.606812 170.79408 \nL 165.606812 171.011484 \nL 166.216149 171.03132 \nL 166.216149 171.246262 \nL 166.825485 171.357354 \nL 166.825485 171.4082 \nL 167.73949 171.515482 \nL 167.73949 171.788997 \nL 168.044158 171.788997 \nL 168.044158 171.93569 \nL 168.348827 171.93569 \nL 168.348827 172.138044 \nL 168.958163 172.247356 \nL 168.958163 172.317287 \nL 169.262832 172.317287 \nL 169.262832 172.619818 \nL 170.481505 172.689198 \nL 170.481505 172.917126 \nL 171.090842 172.983407 \nL 171.090842 173.202754 \nL 171.39551 173.202754 \nL 171.39551 173.371086 \nL 172.004846 173.466541 \nL 172.004846 173.62566 \nL 172.918851 173.70769 \nL 172.918851 173.793465 \nL 173.22352 173.793465 \nL 173.22352 174.056881 \nL 175.051529 174.152511 \nL 175.051529 174.178368 \nL 175.660866 174.279421 \nL 175.660866 174.300436 \nL 175.965534 174.300436 \nL 175.965534 174.497204 \nL 176.879539 174.587851 \nL 176.879539 174.649601 \nL 178.098213 174.706169 \nL 178.098213 174.779487 \nL 178.707549 174.834932 \nL 178.707549 174.89331 \nL 179.012217 174.89331 \nL 179.012217 175.104059 \nL 179.316886 175.104059 \nL 179.316886 175.232391 \nL 180.230891 175.313982 \nL 180.230891 175.350219 \nL 180.535559 175.350219 \nL 180.535559 175.530863 \nL 180.840227 175.530863 \nL 180.840227 175.650237 \nL 182.0589 175.712355 \nL 182.0589 175.784523 \nL 183.277574 175.889051 \nL 183.277574 175.896397 \nL 184.496247 175.931965 \nL 184.496247 176.204013 \nL 184.800915 176.204013 \nL 184.800915 176.395861 \nL 185.410252 176.454615 \nL 185.410252 176.731476 \nL 186.019588 176.743742 \nL 186.019588 176.846319 \nL 186.628925 176.849547 \nL 186.628925 177.002792 \nL 187.54293 177.089398 \nL 187.54293 177.153631 \nL 188.152267 177.180655 \nL 188.152267 177.310998 \nL 189.066271 177.351843 \nL 189.066271 177.476935 \nL 189.675608 177.54643 \nL 189.675608 177.600105 \nL 189.980276 177.600105 \nL 189.980276 177.855699 \nL 190.589613 177.957495 \nL 190.589613 178.023574 \nL 190.894281 178.023574 \nL 190.894281 178.204575 \nL 191.503618 178.293653 \nL 191.503618 178.339016 \nL 193.026959 178.449818 \nL 193.026959 178.665822 \nL 193.940964 178.710918 \nL 193.940964 178.813638 \nL 194.550301 178.903735 \nL 194.550301 178.932072 \nL 195.159638 178.950602 \nL 195.159638 179.141394 \nL 195.768974 179.160779 \nL 195.768974 179.341334 \nL 196.378311 179.452005 \nL 196.378311 179.481956 \nL 197.596984 179.592248 \nL 197.596984 179.731004 \nL 198.510989 179.820829 \nL 198.510989 179.894683 \nL 198.815657 179.894683 \nL 198.815657 180.201432 \nL 199.729662 180.263929 \nL 199.729662 180.395705 \nL 201.253004 180.484418 \nL 201.253004 180.530702 \nL 201.86234 180.575257 \nL 201.86234 180.659648 \nL 202.471677 180.675947 \nL 202.471677 180.835787 \nL 203.385682 180.893575 \nL 203.385682 181.131385 \nL 204.299687 181.171703 \nL 204.299687 181.25403 \nL 205.213692 181.283495 \nL 205.213692 181.397483 \nL 206.127697 181.480544 \nL 206.127697 181.893959 \nL 207.34637 181.958159 \nL 207.34637 182.077726 \nL 207.955706 182.181631 \nL 207.955706 182.227404 \nL 208.565043 182.282399 \nL 208.565043 182.390529 \nL 210.088385 182.48996 \nL 210.088385 182.687466 \nL 211.002389 182.781341 \nL 211.002389 182.814144 \nL 211.307058 182.814144 \nL 211.307058 183.15441 \nL 212.830399 183.251518 \nL 212.830399 183.294905 \nL 213.135068 183.294905 \nL 213.135068 183.450405 \nL 214.353741 183.552967 \nL 214.353741 183.57715 \nL 215.267746 183.666185 \nL 215.267746 183.7753 \nL 215.877082 183.871507 \nL 215.877082 183.928229 \nL 216.791087 184.030793 \nL 216.791087 184.096886 \nL 217.400424 184.164534 \nL 217.400424 184.288222 \nL 218.619097 184.392842 \nL 218.619097 184.632369 \nL 219.228434 184.742119 \nL 219.228434 184.77342 \nL 219.533102 184.77342 \nL 219.533102 185.038675 \nL 220.751775 185.140513 \nL 220.751775 185.343939 \nL 221.66578 185.451928 \nL 221.66578 185.469158 \nL 222.275117 185.569773 \nL 222.275117 185.704079 \nL 222.884453 185.734447 \nL 222.884453 185.830598 \nL 223.49379 185.924982 \nL 223.49379 186.068642 \nL 224.103127 186.177421 \nL 224.103127 186.192023 \nL 225.017131 186.26972 \nL 225.017131 186.323986 \nL 225.626468 186.357099 \nL 225.626468 186.451612 \nL 226.235805 186.507628 \nL 226.235805 186.622925 \nL 227.759146 186.725199 \nL 227.759146 186.741313 \nL 228.368483 186.80229 \nL 228.368483 186.868254 \nL 228.673151 186.868254 \nL 228.673151 186.993595 \nL 229.587156 187.053052 \nL 229.587156 187.298081 \nL 229.891824 187.298081 \nL 229.891824 187.425415 \nL 231.110498 187.5069 \nL 231.110498 187.779263 \nL 232.329171 187.857634 \nL 232.329171 188.011418 \nL 232.938507 188.088797 \nL 232.938507 188.164803 \nL 234.157181 188.245559 \nL 234.157181 188.302507 \nL 234.766517 188.330643 \nL 234.766517 188.487113 \nL 235.375854 188.518455 \nL 235.375854 188.877237 \nL 235.98519 188.936645 \nL 235.98519 188.997391 \nL 236.594527 189.044439 \nL 236.594527 189.167899 \nL 237.508532 189.248008 \nL 237.508532 189.289866 \nL 237.8132 189.289866 \nL 237.8132 189.402557 \nL 238.117869 189.402557 \nL 238.117869 189.629988 \nL 239.031873 189.703165 \nL 239.031873 189.751163 \nL 239.336542 189.751163 \nL 239.336542 189.86339 \nL 240.250547 189.973407 \nL 240.250547 190.018193 \nL 241.164552 190.119767 \nL 241.164552 190.150208 \nL 242.078557 190.176819 \nL 242.078557 190.363633 \nL 242.687893 190.386805 \nL 242.687893 190.533525 \nL 244.515903 190.611264 \nL 244.515903 190.671564 \nL 245.429908 190.779939 \nL 245.429908 190.823413 \nL 246.039244 190.854332 \nL 246.039244 190.948436 \nL 247.867254 191.058324 \nL 247.867254 191.078678 \nL 248.476591 191.119515 \nL 248.476591 191.193689 \nL 249.085928 191.274012 \nL 249.085928 191.394017 \nL 250.609269 191.489177 \nL 250.609269 191.539794 \nL 251.523274 191.640055 \nL 251.523274 191.675429 \nL 252.741947 191.775297 \nL 252.741947 191.804911 \nL 254.265289 191.863457 \nL 254.265289 191.976107 \nL 255.78863 192.026884 \nL 255.78863 192.209134 \nL 257.61664 192.314325 \nL 257.61664 192.45333 \nL 259.139982 192.558338 \nL 259.139982 192.575436 \nL 260.358655 192.671549 \nL 260.358655 192.723612 \nL 261.27266 192.803497 \nL 261.27266 192.847886 \nL 262.491333 192.885595 \nL 262.491333 192.979091 \nL 263.10067 193.079513 \nL 263.10067 193.196166 \nL 265.233348 193.293774 \nL 265.233348 193.354225 \nL 265.842684 193.420417 \nL 265.842684 193.505273 \nL 267.061357 193.567134 \nL 267.061357 193.654343 \nL 268.280031 193.745426 \nL 268.280031 193.817089 \nL 269.194036 193.916742 \nL 269.194036 193.949431 \nL 270.412709 194.036538 \nL 270.412709 194.068515 \nL 270.717377 194.068515 \nL 270.717377 194.399308 \nL 272.240719 194.508442 \nL 272.240719 194.675737 \nL 273.76406 194.77235 \nL 273.76406 194.799172 \nL 275.287402 194.904424 \nL 275.287402 195.088555 \nL 275.896738 195.129841 \nL 275.896738 195.268974 \nL 277.724748 195.374157 \nL 277.724748 195.384445 \nL 278.638753 195.403883 \nL 278.638753 195.500363 \nL 279.552758 195.568073 \nL 279.552758 195.616284 \nL 281.0761 195.666378 \nL 281.0761 195.760859 \nL 281.685436 195.847087 \nL 281.685436 195.897204 \nL 282.294773 195.938589 \nL 282.294773 196.018546 \nL 282.904109 196.038095 \nL 282.904109 196.135455 \nL 283.513446 196.202443 \nL 283.513446 196.321268 \nL 285.341456 196.401439 \nL 285.341456 196.524351 \nL 286.255461 196.627223 \nL 286.255461 196.655439 \nL 287.169466 196.751692 \nL 287.169466 196.799197 \nL 287.778802 196.896808 \nL 287.778802 196.933483 \nL 288.997475 196.994847 \nL 288.997475 197.045944 \nL 290.825485 197.145199 \nL 290.825485 197.186948 \nL 292.348827 197.286857 \nL 292.348827 197.508198 \nL 293.262832 197.619137 \nL 293.262832 197.682291 \nL 294.786173 197.765561 \nL 294.786173 197.805986 \nL 296.614183 197.889 \nL 296.614183 197.930912 \nL 298.746861 198.035786 \nL 298.746861 198.046396 \nL 299.660866 198.124683 \nL 299.660866 198.187192 \nL 300.879539 198.258198 \nL 300.879539 198.39882 \nL 301.793544 198.420751 \nL 301.793544 198.666434 \nL 303.316886 198.759565 \nL 303.316886 198.792432 \nL 305.144896 198.901307 \nL 305.144896 198.906522 \nL 305.754232 198.973101 \nL 305.754232 199.028094 \nL 307.582242 199.118815 \nL 307.582242 199.15068 \nL 307.88691 199.15068 \nL 307.88691 199.287227 \nL 309.105584 199.38795 \nL 309.105584 199.440427 \nL 310.324257 199.539569 \nL 310.324257 199.645083 \nL 311.238262 199.748923 \nL 311.238262 199.780526 \nL 312.152267 199.85941 \nL 312.152267 199.933196 \nL 313.37094 199.996504 \nL 313.37094 200.216651 \nL 314.284945 200.283107 \nL 314.284945 200.329589 \nL 316.112955 200.430861 \nL 316.112955 200.485863 \nL 317.026959 200.596565 \nL 317.026959 200.616291 \nL 318.550301 200.719375 \nL 318.550301 200.727995 \nL 319.768974 200.794599 \nL 319.768974 200.856993 \nL 321.901652 200.943427 \nL 321.901652 200.974925 \nL 322.815657 201.057997 \nL 322.815657 201.165071 \nL 325.86234 201.275981 \nL 325.86234 201.280082 \nL 327.081014 201.378311 \nL 327.081014 201.391257 \nL 328.299687 201.456889 \nL 328.299687 201.515941 \nL 330.127697 201.600554 \nL 330.127697 201.640894 \nL 331.955706 201.713756 \nL 331.955706 201.772233 \nL 333.479048 201.883281 \nL 333.479048 201.884768 \nL 334.697721 201.975344 \nL 334.697721 202.074142 \nL 336.221063 202.182908 \nL 336.221063 202.216004 \nL 338.353741 202.319191 \nL 338.353741 202.402279 \nL 339.267746 202.482043 \nL 339.267746 202.522524 \nL 340.791087 202.630202 \nL 340.791087 202.656694 \nL 342.314429 202.747497 \nL 342.314429 202.829944 \nL 344.142439 202.922555 \nL 344.142439 203.050854 \nL 346.275117 203.142671 \nL 346.275117 203.250694 \nL 347.49379 203.346249 \nL 347.49379 203.390345 \nL 350.540473 203.482197 \nL 350.540473 203.540297 \nL 351.759146 203.646942 \nL 351.759146 203.659303 \nL 355.110498 203.760901 \nL 355.110498 203.812134 \nL 355.719834 203.914831 \nL 355.719834 203.93048 \nL 357.243176 204.01764 \nL 357.243176 204.056937 \nL 359.071186 204.165622 \nL 359.071186 204.170075 \nL 360.594527 204.264695 \nL 360.594527 204.334026 \nL 361.8132 204.397442 \nL 361.8132 204.493971 \nL 364.250547 204.577378 \nL 364.250547 204.605903 \nL 365.164552 204.657784 \nL 365.164552 204.724416 \nL 366.992561 204.826639 \nL 366.992561 204.846546 \nL 369.12524 204.944518 \nL 369.12524 204.975812 \nL 370.953249 205.072138 \nL 370.953249 205.104545 \nL 373.085928 205.206765 \nL 373.085928 205.240435 \nL 374.609269 205.348913 \nL 374.609269 205.371644 \nL 376.132611 205.482158 \nL 376.132611 205.485273 \nL 378.569957 205.595834 \nL 378.569957 205.604998 \nL 380.702635 205.712606 \nL 380.702635 205.741091 \nL 382.530645 205.847683 \nL 382.530645 205.863631 \nL 383.749318 205.925324 \nL 383.749318 205.925324 \n\" clip-path=\"url(#p6fe173c466)\" style=\"fill: none; stroke: #f7931e; stroke-width: 1.5; stroke-linecap: square\"/>\n   </g>\n   <g id=\"line2d_14\">\n    <path d=\"M 79.385682 152.943027 \nL 79.385682 152.95986 \nL 79.995018 152.985473 \nL 79.995018 153.078187 \nL 80.299687 153.078187 \nL 80.299687 153.277423 \nL 80.604355 153.277423 \nL 80.604355 153.675287 \nL 82.432365 153.754904 \nL 82.432365 153.845085 \nL 82.737033 153.845085 \nL 82.737033 153.971622 \nL 83.651038 154.047549 \nL 83.651038 154.137989 \nL 84.869711 154.208311 \nL 84.869711 154.522429 \nL 85.479048 154.557738 \nL 85.479048 154.724923 \nL 85.783716 154.724923 \nL 85.783716 154.852633 \nL 86.393053 154.871087 \nL 86.393053 155.036002 \nL 86.697721 155.036002 \nL 86.697721 155.971281 \nL 87.307058 156.0452 \nL 87.307058 156.120663 \nL 88.221063 156.206191 \nL 88.221063 156.373938 \nL 89.135068 156.435678 \nL 89.135068 156.679806 \nL 89.439736 156.679806 \nL 89.439736 156.86047 \nL 90.658409 156.924998 \nL 90.658409 157.074999 \nL 91.267746 157.169439 \nL 91.267746 157.201433 \nL 91.572414 157.201433 \nL 91.572414 157.315462 \nL 92.486419 157.345839 \nL 92.486419 157.429341 \nL 93.400424 157.520446 \nL 93.400424 157.541339 \nL 94.619097 157.608559 \nL 94.619097 157.694018 \nL 95.533102 157.793695 \nL 95.533102 157.873396 \nL 96.142439 157.978223 \nL 96.142439 158.008689 \nL 96.751775 158.047925 \nL 96.751775 158.198171 \nL 97.361112 158.298203 \nL 97.361112 158.399197 \nL 97.66578 158.399197 \nL 97.66578 158.525822 \nL 98.275117 158.603041 \nL 98.275117 158.649395 \nL 99.189122 158.739378 \nL 99.189122 159.113923 \nL 100.407795 159.216131 \nL 100.407795 159.383724 \nL 100.712463 159.383724 \nL 100.712463 159.523975 \nL 101.626468 159.583269 \nL 101.626468 159.70262 \nL 102.235805 159.71018 \nL 102.235805 159.896104 \nL 102.845141 159.974484 \nL 102.845141 160.154606 \nL 103.14981 160.154606 \nL 103.14981 160.300102 \nL 103.454478 160.300102 \nL 103.454478 160.507834 \nL 104.368483 160.593112 \nL 104.368483 160.627755 \nL 104.977819 160.674353 \nL 104.977819 160.753468 \nL 105.891824 160.862474 \nL 105.891824 160.884356 \nL 106.501161 160.967601 \nL 106.501161 161.012773 \nL 107.415166 161.066454 \nL 107.415166 161.128492 \nL 108.024502 161.181178 \nL 108.024502 161.263233 \nL 108.329171 161.263233 \nL 108.329171 161.429834 \nL 109.243176 161.535208 \nL 109.243176 161.554904 \nL 110.157181 161.630871 \nL 110.157181 161.668894 \nL 111.071186 161.71024 \nL 111.071186 161.874239 \nL 111.680522 161.951149 \nL 111.680522 162.00496 \nL 111.98519 162.00496 \nL 111.98519 162.292085 \nL 112.899195 162.322926 \nL 112.899195 162.535404 \nL 113.508532 162.616845 \nL 113.508532 162.663218 \nL 114.422537 162.753062 \nL 114.422537 162.897306 \nL 115.64121 162.956348 \nL 115.64121 163.075032 \nL 116.250547 163.181413 \nL 116.250547 163.195922 \nL 116.555215 163.195922 \nL 116.555215 163.65301 \nL 116.859883 163.65301 \nL 116.859883 163.80219 \nL 117.46922 163.894628 \nL 117.46922 164.136391 \nL 117.773888 164.136391 \nL 117.773888 164.431303 \nL 118.383225 164.435429 \nL 118.383225 164.622999 \nL 118.992561 164.732123 \nL 118.992561 165.059135 \nL 119.29723 165.059135 \nL 119.29723 165.248473 \nL 119.906566 165.347916 \nL 119.906566 165.399795 \nL 120.820571 165.502584 \nL 120.820571 165.599217 \nL 121.429908 165.602155 \nL 121.429908 165.78342 \nL 122.039244 165.879032 \nL 122.039244 165.950872 \nL 122.953249 166.053198 \nL 122.953249 166.091388 \nL 123.562586 166.166903 \nL 123.562586 166.244885 \nL 123.867254 166.244885 \nL 123.867254 166.367182 \nL 124.476591 166.385246 \nL 124.476591 166.595964 \nL 124.781259 166.595964 \nL 124.781259 166.736926 \nL 125.390596 166.826299 \nL 125.390596 166.862222 \nL 126.609269 166.942936 \nL 126.609269 167.08458 \nL 127.827942 167.144749 \nL 127.827942 167.200996 \nL 128.437279 167.301391 \nL 128.437279 167.32293 \nL 128.741947 167.32293 \nL 128.741947 167.566031 \nL 129.655952 167.599264 \nL 129.655952 167.678326 \nL 129.96062 167.678326 \nL 129.96062 167.822337 \nL 130.569957 167.887072 \nL 130.569957 167.941856 \nL 131.179294 168.004283 \nL 131.179294 168.122145 \nL 132.397967 168.219732 \nL 132.397967 168.258079 \nL 133.007303 168.303434 \nL 133.007303 168.432471 \nL 133.921308 168.470333 \nL 133.921308 168.556717 \nL 134.530645 168.602333 \nL 134.530645 168.677029 \nL 135.139982 168.735339 \nL 135.139982 168.961906 \nL 136.663323 169.071576 \nL 136.663323 169.132062 \nL 137.27266 169.187086 \nL 137.27266 169.262158 \nL 138.491333 169.366874 \nL 138.491333 169.466743 \nL 139.405338 169.553582 \nL 139.405338 169.584802 \nL 139.710006 169.584802 \nL 139.710006 169.746664 \nL 140.928679 169.836293 \nL 140.928679 169.963998 \nL 141.842684 170.05163 \nL 141.842684 170.085543 \nL 142.756689 170.142141 \nL 142.756689 170.269193 \nL 143.670694 170.340298 \nL 143.670694 170.443107 \nL 144.584699 170.511477 \nL 144.584699 170.701094 \nL 145.498704 170.792129 \nL 145.498704 170.956361 \nL 146.412709 171.007704 \nL 146.412709 171.097871 \nL 147.326714 171.125925 \nL 147.326714 171.224529 \nL 148.240719 171.307258 \nL 148.240719 171.410438 \nL 148.850055 171.424314 \nL 148.850055 171.561196 \nL 150.068729 171.622647 \nL 150.068729 171.685473 \nL 151.59207 171.740775 \nL 151.59207 171.81595 \nL 152.201407 171.909936 \nL 152.201407 171.958506 \nL 152.506075 171.958506 \nL 152.506075 172.151693 \nL 153.115412 172.230014 \nL 153.115412 172.264689 \nL 154.334085 172.336158 \nL 154.334085 172.392811 \nL 155.24809 172.44893 \nL 155.24809 172.508229 \nL 156.162095 172.573331 \nL 156.162095 172.662174 \nL 156.771431 172.70224 \nL 156.771431 172.83778 \nL 157.990104 172.917945 \nL 157.990104 172.949559 \nL 159.208778 173.035832 \nL 159.208778 173.129052 \nL 160.122783 173.236072 \nL 160.122783 173.268781 \nL 160.427451 173.268781 \nL 160.427451 173.408584 \nL 161.646124 173.47124 \nL 161.646124 173.684661 \nL 162.864797 173.746114 \nL 162.864797 173.896106 \nL 163.169466 173.896106 \nL 163.169466 174.030354 \nL 164.997475 174.100937 \nL 164.997475 174.147941 \nL 165.606812 174.176187 \nL 165.606812 174.278287 \nL 166.520817 174.388776 \nL 166.520817 174.44114 \nL 167.73949 174.515767 \nL 167.73949 174.645108 \nL 168.348827 174.714611 \nL 168.348827 174.810644 \nL 169.262832 174.895861 \nL 169.262832 175.040016 \nL 170.481505 175.073134 \nL 170.481505 175.182085 \nL 171.090842 175.213812 \nL 171.090842 175.31895 \nL 171.700178 175.399784 \nL 171.700178 175.44568 \nL 172.614183 175.541366 \nL 172.614183 175.561816 \nL 173.22352 175.603189 \nL 173.22352 175.730462 \nL 175.660866 175.838239 \nL 175.660866 175.848429 \nL 176.574871 175.951292 \nL 176.574871 175.987999 \nL 178.402881 176.081277 \nL 178.402881 176.108297 \nL 179.012217 176.136763 \nL 179.012217 176.239663 \nL 180.230891 176.342372 \nL 180.230891 176.360124 \nL 180.840227 176.448712 \nL 180.840227 176.507341 \nL 182.972905 176.581853 \nL 182.972905 176.624841 \nL 184.496247 176.645985 \nL 184.496247 176.780239 \nL 185.105584 176.875137 \nL 185.105584 176.904237 \nL 185.410252 176.904237 \nL 185.410252 177.041596 \nL 186.628925 177.100293 \nL 186.628925 177.176581 \nL 188.152267 177.265276 \nL 188.152267 177.330378 \nL 189.37094 177.413384 \nL 189.37094 177.44819 \nL 189.980276 177.47509 \nL 189.980276 177.60339 \nL 190.894281 177.687845 \nL 190.894281 177.77907 \nL 192.112955 177.848737 \nL 192.112955 177.893802 \nL 193.026959 177.902952 \nL 193.026959 178.012331 \nL 194.245633 178.087326 \nL 194.245633 178.133096 \nL 195.159638 178.156921 \nL 195.159638 178.254038 \nL 196.073643 178.356025 \nL 196.073643 178.412572 \nL 197.596984 178.484326 \nL 197.596984 178.555427 \nL 198.815657 178.639437 \nL 198.815657 178.797284 \nL 200.03433 178.897529 \nL 200.03433 178.90861 \nL 201.86234 178.99037 \nL 201.86234 179.03407 \nL 203.081014 179.13753 \nL 203.081014 179.155418 \nL 203.385682 179.155418 \nL 203.385682 179.279106 \nL 205.213692 179.358394 \nL 205.213692 179.417899 \nL 206.127697 179.461308 \nL 206.127697 179.677975 \nL 207.651038 179.774614 \nL 207.651038 179.829346 \nL 208.869711 179.93958 \nL 208.869711 179.954961 \nL 210.088385 179.992143 \nL 210.088385 180.096732 \nL 211.307058 180.163941 \nL 211.307058 180.344961 \nL 213.135068 180.419915 \nL 213.135068 180.50302 \nL 214.658409 180.57087 \nL 214.658409 180.616768 \nL 215.572414 180.677151 \nL 215.572414 180.728844 \nL 216.791087 180.81456 \nL 216.791087 180.850175 \nL 217.705092 180.953438 \nL 217.705092 180.995581 \nL 218.619097 181.010002 \nL 218.619097 181.139775 \nL 219.533102 181.216373 \nL 219.533102 181.360777 \nL 220.751775 181.416344 \nL 220.751775 181.527548 \nL 221.970448 181.59614 \nL 221.970448 181.651332 \nL 222.884453 181.741813 \nL 222.884453 181.79473 \nL 223.49379 181.846736 \nL 223.49379 181.926013 \nL 224.712463 181.997742 \nL 224.712463 182.037218 \nL 225.931136 182.138057 \nL 225.931136 182.169159 \nL 227.454478 182.263336 \nL 227.454478 182.290172 \nL 228.673151 182.369924 \nL 228.673151 182.439921 \nL 229.587156 182.473165 \nL 229.587156 182.610437 \nL 230.805829 182.707864 \nL 230.805829 182.72777 \nL 231.110498 182.72777 \nL 231.110498 182.881292 \nL 232.329171 182.925569 \nL 232.329171 183.012586 \nL 233.547844 183.115846 \nL 233.547844 183.139383 \nL 234.766517 183.193785 \nL 234.766517 183.282884 \nL 235.375854 183.300754 \nL 235.375854 183.505853 \nL 236.594527 183.601777 \nL 236.594527 183.672747 \nL 237.8132 183.742976 \nL 237.8132 183.807969 \nL 238.117869 183.807969 \nL 238.117869 183.939445 \nL 239.336542 184.009665 \nL 239.336542 184.074805 \nL 240.555215 184.164827 \nL 240.555215 184.191172 \nL 242.078557 184.257274 \nL 242.078557 184.366414 \nL 243.29723 184.473668 \nL 243.29723 184.481787 \nL 244.820571 184.546947 \nL 244.820571 184.601272 \nL 246.648581 184.710339 \nL 246.648581 184.719363 \nL 248.476591 184.810994 \nL 248.476591 184.854881 \nL 249.085928 184.90246 \nL 249.085928 184.973649 \nL 250.913937 185.060292 \nL 250.913937 185.111394 \nL 253.046615 185.218343 \nL 253.046615 185.223956 \nL 255.179294 185.331781 \nL 255.179294 185.341257 \nL 255.78863 185.351151 \nL 255.78863 185.46052 \nL 257.61664 185.523781 \nL 257.61664 185.607531 \nL 260.053986 185.717587 \nL 260.053986 185.739363 \nL 261.577328 185.846211 \nL 261.577328 185.861306 \nL 262.796001 185.925898 \nL 262.796001 185.986998 \nL 264.319343 186.096212 \nL 264.319343 186.101377 \nL 265.842684 186.195121 \nL 265.842684 186.247096 \nL 267.366026 186.33857 \nL 267.366026 186.361806 \nL 268.889367 186.45693 \nL 268.889367 186.500106 \nL 270.717377 186.593844 \nL 270.717377 186.798932 \nL 272.240719 186.866831 \nL 272.240719 186.971149 \nL 274.982733 187.067087 \nL 274.982733 187.114204 \nL 275.287402 187.114204 \nL 275.287402 187.229775 \nL 275.896738 187.255736 \nL 275.896738 187.343353 \nL 278.638753 187.428503 \nL 278.638753 187.489515 \nL 281.0761 187.594726 \nL 281.0761 187.654734 \nL 281.990104 187.741498 \nL 281.990104 187.767873 \nL 282.904109 187.831364 \nL 282.904109 187.893589 \nL 283.513446 187.936463 \nL 283.513446 188.012633 \nL 285.341456 188.064111 \nL 285.341456 188.143172 \nL 286.864797 188.249839 \nL 286.864797 188.289846 \nL 287.778802 188.383772 \nL 287.778802 188.407548 \nL 289.302144 188.480548 \nL 289.302144 188.526949 \nL 292.348827 188.637413 \nL 292.348827 188.782123 \nL 293.262832 188.854867 \nL 293.262832 188.896343 \nL 295.700178 189.007092 \nL 295.700178 189.021189 \nL 298.746861 189.129366 \nL 298.746861 189.136382 \nL 299.965534 189.229628 \nL 299.965534 189.252007 \nL 300.879539 189.276743 \nL 300.879539 189.370234 \nL 301.793544 189.384836 \nL 301.793544 189.548822 \nL 304.535559 189.658409 \nL 304.535559 189.694381 \nL 306.363569 189.79856 \nL 306.363569 189.84389 \nL 307.88691 189.874241 \nL 307.88691 189.966539 \nL 309.410252 190.070378 \nL 309.410252 190.103784 \nL 310.628925 190.20957 \nL 310.628925 190.266879 \nL 312.152267 190.355927 \nL 312.152267 190.406454 \nL 313.37094 190.449863 \nL 313.37094 190.601234 \nL 315.19895 190.708796 \nL 315.19895 190.742514 \nL 316.722291 190.845226 \nL 316.722291 190.864008 \nL 319.159638 190.969998 \nL 319.159638 190.988127 \nL 321.596984 191.096915 \nL 321.596984 191.105668 \nL 322.815657 191.185861 \nL 322.815657 191.260977 \nL 326.471677 191.36024 \nL 326.471677 191.389861 \nL 328.299687 191.466534 \nL 328.299687 191.508281 \nL 330.432365 191.596785 \nL 330.432365 191.620878 \nL 332.869711 191.730402 \nL 332.869711 191.768555 \nL 334.697721 191.834817 \nL 334.697721 191.905454 \nL 336.525731 192.00714 \nL 336.525731 192.021627 \nL 338.353741 192.081297 \nL 338.353741 192.141129 \nL 339.572414 192.227908 \nL 339.572414 192.284209 \nL 342.314429 192.390875 \nL 342.314429 192.450798 \nL 344.142439 192.518239 \nL 344.142439 192.611895 \nL 346.275117 192.679083 \nL 346.275117 192.758306 \nL 347.798458 192.861009 \nL 347.798458 192.88123 \nL 351.14981 192.975902 \nL 351.14981 193.035184 \nL 355.110498 193.135096 \nL 355.110498 193.173173 \nL 356.633839 193.275249 \nL 356.633839 193.298219 \nL 358.766517 193.39243 \nL 358.766517 193.437119 \nL 360.594527 193.511484 \nL 360.594527 193.563628 \nL 361.8132 193.611397 \nL 361.8132 193.684247 \nL 364.859883 193.772265 \nL 364.859883 193.808255 \nL 366.687893 193.899397 \nL 366.687893 193.936589 \nL 369.12524 194.026488 \nL 369.12524 194.050397 \nL 371.562586 194.155299 \nL 371.562586 194.182258 \nL 373.999932 194.286992 \nL 373.999932 194.294967 \nL 375.218606 194.371958 \nL 375.218606 194.423675 \nL 378.569957 194.52789 \nL 378.569957 194.535002 \nL 381.007303 194.640819 \nL 381.007303 194.663042 \nL 383.44465 194.762283 \nL 383.44465 194.784644 \nL 383.749318 194.784644 \nL 383.749318 194.784644 \n\" clip-path=\"url(#p6fe173c466)\" style=\"fill: none; stroke: #c1272d; stroke-width: 1.5; stroke-linecap: square\"/>\n   </g>\n   <g id=\"patch_3\">\n    <path d=\"M 64.1675 228.96 \nL 64.1675 7.2 \n\" style=\"fill: none; stroke: #000000; stroke-width: 0.8; stroke-linejoin: miter; stroke-linecap: square\"/>\n   </g>\n   <g id=\"patch_4\">\n    <path d=\"M 398.9675 228.96 \nL 398.9675 7.2 \n\" style=\"fill: none; stroke: #000000; stroke-width: 0.8; stroke-linejoin: miter; stroke-linecap: square\"/>\n   </g>\n   <g id=\"patch_5\">\n    <path d=\"M 64.1675 228.96 \nL 398.9675 228.96 \n\" style=\"fill: none; stroke: #000000; stroke-width: 0.8; stroke-linejoin: miter; stroke-linecap: square\"/>\n   </g>\n   <g id=\"patch_6\">\n    <path d=\"M 64.1675 7.2 \nL 398.9675 7.2 \n\" style=\"fill: none; stroke: #000000; stroke-width: 0.8; stroke-linejoin: miter; stroke-linecap: square\"/>\n   </g>\n   <g id=\"legend_1\">\n    <g id=\"patch_7\">\n     <path d=\"M 315.69875 69.64125 \nL 390.5675 69.64125 \nQ 392.9675 69.64125 392.9675 67.24125 \nL 392.9675 15.6 \nQ 392.9675 13.2 390.5675 13.2 \nL 315.69875 13.2 \nQ 313.29875 13.2 313.29875 15.6 \nL 313.29875 67.24125 \nQ 313.29875 69.64125 315.69875 69.64125 \nz\n\" style=\"fill: #ffffff; opacity: 0.8; stroke: #cccccc; stroke-linejoin: miter\"/>\n    </g>\n    <g id=\"line2d_15\">\n     <path d=\"M 318.09875 22.918125 \nL 318.09875 22.918125 \nL 330.09875 22.918125 \nL 330.09875 22.918125 \nL 342.09875 22.918125 \n\" style=\"fill: none; stroke: #0071bc; stroke-width: 1.5; stroke-linecap: square\"/>\n    </g>\n    <g id=\"text_14\">\n     <!-- T=0.5 -->\n     <g transform=\"translate(351.69875 27.118125) scale(0.12 -0.12)\">\n      <defs>\n       <path id=\"DejaVuSans-54\" d=\"M -19 4666 \nL 3928 4666 \nL 3928 4134 \nL 2272 4134 \nL 2272 0 \nL 1638 0 \nL 1638 4134 \nL -19 4134 \nL -19 4666 \nz\n\" transform=\"scale(0.015625)\"/>\n       <path id=\"DejaVuSans-3d\" d=\"M 678 2906 \nL 4684 2906 \nL 4684 2381 \nL 678 2381 \nL 678 2906 \nz\nM 678 1631 \nL 4684 1631 \nL 4684 1100 \nL 678 1100 \nL 678 1631 \nz\n\" transform=\"scale(0.015625)\"/>\n       <path id=\"DejaVuSans-35\" d=\"M 691 4666 \nL 3169 4666 \nL 3169 4134 \nL 1269 4134 \nL 1269 2991 \nQ 1406 3038 1543 3061 \nQ 1681 3084 1819 3084 \nQ 2600 3084 3056 2656 \nQ 3513 2228 3513 1497 \nQ 3513 744 3044 326 \nQ 2575 -91 1722 -91 \nQ 1428 -91 1123 -41 \nQ 819 9 494 109 \nL 494 744 \nQ 775 591 1075 516 \nQ 1375 441 1709 441 \nQ 2250 441 2565 725 \nQ 2881 1009 2881 1497 \nQ 2881 1984 2565 2268 \nQ 2250 2553 1709 2553 \nQ 1456 2553 1204 2497 \nQ 953 2441 691 2322 \nL 691 4666 \nz\n\" transform=\"scale(0.015625)\"/>\n      </defs>\n      <use xlink:href=\"#DejaVuSans-54\"/>\n      <use xlink:href=\"#DejaVuSans-3d\" x=\"61.083984\"/>\n      <use xlink:href=\"#DejaVuSans-30\" x=\"144.873047\"/>\n      <use xlink:href=\"#DejaVuSans-2e\" x=\"208.496094\"/>\n      <use xlink:href=\"#DejaVuSans-35\" x=\"240.283203\"/>\n     </g>\n    </g>\n    <g id=\"line2d_16\">\n     <path d=\"M 318.09875 40.531875 \nL 318.09875 40.531875 \nL 330.09875 40.531875 \nL 330.09875 40.531875 \nL 342.09875 40.531875 \n\" style=\"fill: none; stroke: #f7931e; stroke-width: 1.5; stroke-linecap: square\"/>\n    </g>\n    <g id=\"text_15\">\n     <!-- T=1.0 -->\n     <g transform=\"translate(351.69875 44.731875) scale(0.12 -0.12)\">\n      <use xlink:href=\"#DejaVuSans-54\"/>\n      <use xlink:href=\"#DejaVuSans-3d\" x=\"61.083984\"/>\n      <use xlink:href=\"#DejaVuSans-31\" x=\"144.873047\"/>\n      <use xlink:href=\"#DejaVuSans-2e\" x=\"208.496094\"/>\n      <use xlink:href=\"#DejaVuSans-30\" x=\"240.283203\"/>\n     </g>\n    </g>\n    <g id=\"line2d_17\">\n     <path d=\"M 318.09875 58.145625 \nL 318.09875 58.145625 \nL 330.09875 58.145625 \nL 330.09875 58.145625 \nL 342.09875 58.145625 \n\" style=\"fill: none; stroke: #c1272d; stroke-width: 1.5; stroke-linecap: square\"/>\n    </g>\n    <g id=\"text_16\">\n     <!-- T=2.0 -->\n     <g transform=\"translate(351.69875 62.345625) scale(0.12 -0.12)\">\n      <use xlink:href=\"#DejaVuSans-54\"/>\n      <use xlink:href=\"#DejaVuSans-3d\" x=\"61.083984\"/>\n      <use xlink:href=\"#DejaVuSans-32\" x=\"144.873047\"/>\n      <use xlink:href=\"#DejaVuSans-2e\" x=\"208.496094\"/>\n      <use xlink:href=\"#DejaVuSans-30\" x=\"240.283203\"/>\n     </g>\n    </g>\n   </g>\n  </g>\n </g>\n <defs>\n  <clipPath id=\"p6fe173c466\">\n   <rect x=\"64.1675\" y=\"7.2\" width=\"334.8\" height=\"221.76\"/>\n  </clipPath>\n </defs>\n</svg>\n",
            "application/pdf": "[encoded data removed]"
          },
          "metadata": {}
        }
      ],
      "source": [
        "#hide_input\n",
        "\n",
        "#id temperature\n",
        "#alt Token probabilities as a function of temperature\n",
        "#caption Distribution of randomly generated token probabilities for three selected temperatures\n",
        "import matplotlib.pyplot as plt\n",
        "import numpy as np\n",
        "\n",
        "def softmax(logits, T=1):\n",
        "    e_x = np.exp(logits / T)\n",
        "    return e_x / e_x.sum()\n",
        "\n",
        "logits = np.exp(np.random.random(1000))\n",
        "sorted_logits = np.sort(logits)[::-1]\n",
        "x = np.arange(1000)\n",
        "\n",
        "for T in [0.5, 1.0, 2.0]:\n",
        "    plt.step(x, softmax(sorted_logits, T), label=f\"T={T}\")\n",
        "plt.legend(loc=\"best\")\n",
        "plt.xlabel(\"Sorted token probabilities\")\n",
        "plt.ylabel(\"Probability\")\n",
        "plt.show()"
      ]
    },
    {
      "cell_type": "code",
      "execution_count": 16,
      "metadata": {
        "id": "ZvkGrM0Iy2aU"
      },
      "outputs": [],
      "source": [
        "# hide\n",
        "torch.manual_seed(42);"
      ]
    },
    {
      "cell_type": "code",
      "execution_count": 17,
      "metadata": {
        "id": "X6cBE_yqy2aV",
        "outputId": "e73049e9-d6aa-48d8-d168-bff469128e15",
        "colab": {
          "base_uri": "https://localhost:8080/"
        }
      },
      "outputs": [
        {
          "output_type": "stream",
          "name": "stdout",
          "text": [
            "In a shocking finding, scientist discovered a herd of unicorns living in a\n",
            "remote, previously unexplored valley, in the Andes Mountains. Even more\n",
            "surprising to the researchers was the fact that the unicorns spoke perfect\n",
            "English.\n",
            "\n",
            "\n",
            "Feed Boost Year Hampe Eagle Rouse Symbol Steal Therefore inappropriate Sprite 69\n",
            "151 Hill-James Golfne Castle j Runningespantry Spy legislative Trueverlife cone\n",
            "Hermes mark Central Bombsaver democracy Civil|RosSkill livesvedesc Init scan\n",
            "buggy metroDunults micro brightly Byrne unusually BBs Radiustool toddlers CAP\n",
            "contriv itself turtle four 32 Democraticfanson idea cheeserrors Dargontonache\n",
            "Umb robot Palestrog carrotsinvest\n"
          ]
        }
      ],
      "source": [
        "output_temp = model.generate(input_ids, max_length=max_length, do_sample=True,\n",
        "                             temperature=2.0, top_k=0)\n",
        "print(tokenizer.decode(output_temp[0]))"
      ]
    },
    {
      "cell_type": "code",
      "execution_count": 18,
      "metadata": {
        "id": "wPsR0pzBy2aV"
      },
      "outputs": [],
      "source": [
        "# hide\n",
        "torch.manual_seed(42);"
      ]
    },
    {
      "cell_type": "code",
      "execution_count": 19,
      "metadata": {
        "id": "zIo3jlIjy2aV",
        "outputId": "162a81e3-9b9d-47af-b392-0139a087b4e5",
        "colab": {
          "base_uri": "https://localhost:8080/"
        }
      },
      "outputs": [
        {
          "output_type": "stream",
          "name": "stdout",
          "text": [
            "In a shocking finding, scientist discovered a herd of unicorns living in a\n",
            "remote, previously unexplored valley, in the Andes Mountains. Even more\n",
            "surprising to the researchers was the fact that the unicorns spoke perfect\n",
            "English.\n",
            "\n",
            "\n",
            "The researchers from the University of California, Davis, discovered the\n",
            "unicorns in the Tumbes-de-Luz region of the Cordillera Blanca, located in the\n",
            "Andes Mountains of northern Argentina.\n",
            "\n",
            "\n",
            "\"It's an amazing story, and one that we hope will inspire other people to look\n",
            "for these fascinating animals in other places,\" said Daniel M. Berger, a\n",
            "geologist at\n"
          ]
        }
      ],
      "source": [
        "output_temp = model.generate(input_ids, max_length=max_length, do_sample=True,\n",
        "                             temperature=0.5, top_k=0)\n",
        "print(tokenizer.decode(output_temp[0]))"
      ]
    },
    {
      "cell_type": "markdown",
      "metadata": {
        "id": "c0EaeAnDy2aW"
      },
      "source": [
        "## Top-k and Nucleus Sampling"
      ]
    },
    {
      "cell_type": "code",
      "execution_count": 20,
      "metadata": {
        "id": "HwbknEtXy2aW"
      },
      "outputs": [],
      "source": [
        "# hide\n",
        "torch.manual_seed(42);"
      ]
    },
    {
      "cell_type": "code",
      "execution_count": 21,
      "metadata": {
        "id": "_HtTA7pty2aW"
      },
      "outputs": [],
      "source": [
        "# hide\n",
        "input_txt = \"\"\"In a shocking finding, scientist discovered \\\n",
        "a herd of unicorns living in a remote, previously unexplored \\\n",
        "valley, in the Andes Mountains. Even more surprising to the \\\n",
        "researchers was the fact that the unicorns spoke perfect English.\\n\\n\n",
        "\"\"\"\n",
        "input_ids = tokenizer(input_txt, return_tensors=\"pt\")[\"input_ids\"].to(device)"
      ]
    },
    {
      "cell_type": "code",
      "execution_count": 22,
      "metadata": {
        "id": "TRdPsW3Ay2aW"
      },
      "outputs": [],
      "source": [
        "# hide\n",
        "import torch.nn.functional as F\n",
        "\n",
        "with torch.no_grad():\n",
        "    output = model(input_ids=input_ids)\n",
        "    next_token_logits = output.logits[:, -1, :]\n",
        "    probs = F.softmax(next_token_logits, dim=-1).detach().cpu().numpy()"
      ]
    },
    {
      "cell_type": "code",
      "execution_count": 23,
      "metadata": {
        "id": "8pt0h3oBy2aX",
        "outputId": "bb31da55-c058-48d4-8006-9bc88137caf7",
        "colab": {
          "base_uri": "https://localhost:8080/",
          "height": 336
        }
      },
      "outputs": [
        {
          "output_type": "display_data",
          "data": {
            "text/plain": [
              "<Figure size 1000x350 with 2 Axes>"
            ],
            "image/svg+xml": "<?xml version=\"1.0\" encoding=\"utf-8\" standalone=\"no\"?>\n<!DOCTYPE svg PUBLIC \"-//W3C//DTD SVG 1.1//EN\"\n  \"http://www.w3.org/Graphics/SVG/1.1/DTD/svg11.dtd\">\n<svg xmlns:xlink=\"http://www.w3.org/1999/xlink\" width=\"706.840143pt\" height=\"236.41725pt\" viewBox=\"0 0 706.840143 236.41725\" xmlns=\"http://www.w3.org/2000/svg\" version=\"1.1\">\n <metadata>\n  <rdf:RDF xmlns:dc=\"http://purl.org/dc/elements/1.1/\" xmlns:cc=\"http://creativecommons.org/ns#\" xmlns:rdf=\"http://www.w3.org/1999/02/22-rdf-syntax-ns#\">\n   <cc:Work>\n    <dc:type rdf:resource=\"http://purl.org/dc/dcmitype/StillImage\"/>\n    <dc:date>2024-09-10T13:02:47.673758</dc:date>\n    <dc:format>image/svg+xml</dc:format>\n    <dc:creator>\n     <cc:Agent>\n      <dc:title>Matplotlib v3.7.1, https://matplotlib.org/</dc:title>\n     </cc:Agent>\n    </dc:creator>\n   </cc:Work>\n  </rdf:RDF>\n </metadata>\n <defs>\n  <style type=\"text/css\">*{stroke-linejoin: round; stroke-linecap: butt}</style>\n </defs>\n <g id=\"figure_1\">\n  <g id=\"patch_1\">\n   <path d=\"M -0 236.41725 \nL 706.840143 236.41725 \nL 706.840143 0 \nL -0 0 \nz\n\" style=\"fill: #ffffff\"/>\n  </g>\n  <g id=\"axes_1\">\n   <g id=\"patch_2\">\n    <path d=\"M 50.93375 194.98975 \nL 332.670648 194.98975 \nL 332.670648 24.14175 \nL 50.93375 24.14175 \nz\n\" style=\"fill: #ffffff\"/>\n   </g>\n   <g id=\"patch_3\">\n    <path d=\"M 63.739973 45924.328468 \nL 66.327088 45924.328468 \nL 66.327088 105.245126 \nL 63.739973 105.245126 \nz\n\" clip-path=\"url(#p55a6c185e7)\" style=\"fill: #0071bc; stroke: #0071bc; stroke-linejoin: miter\"/>\n   </g>\n   <g id=\"patch_4\">\n    <path d=\"M 66.327088 45924.328468 \nL 68.914204 45924.328468 \nL 68.914204 92.631099 \nL 66.327088 92.631099 \nz\n\" clip-path=\"url(#p55a6c185e7)\" style=\"fill: #0071bc; stroke: #0071bc; stroke-linejoin: miter\"/>\n   </g>\n   <g id=\"patch_5\">\n    <path d=\"M 68.914204 45924.328468 \nL 71.50132 45924.328468 \nL 71.50132 88.369218 \nL 68.914204 88.369218 \nz\n\" clip-path=\"url(#p55a6c185e7)\" style=\"fill: #0071bc; stroke: #0071bc; stroke-linejoin: miter\"/>\n   </g>\n   <g id=\"patch_6\">\n    <path d=\"M 71.50132 45924.328468 \nL 74.088435 45924.328468 \nL 74.088435 81.202427 \nL 71.50132 81.202427 \nz\n\" clip-path=\"url(#p55a6c185e7)\" style=\"fill: #0071bc; stroke: #0071bc; stroke-linejoin: miter\"/>\n   </g>\n   <g id=\"patch_7\">\n    <path d=\"M 74.088435 45924.328468 \nL 76.675551 45924.328468 \nL 76.675551 75.800906 \nL 74.088435 75.800906 \nz\n\" clip-path=\"url(#p55a6c185e7)\" style=\"fill: #0071bc; stroke: #0071bc; stroke-linejoin: miter\"/>\n   </g>\n   <g id=\"patch_8\">\n    <path d=\"M 76.675551 45924.328468 \nL 79.262667 45924.328468 \nL 79.262667 68.767136 \nL 76.675551 68.767136 \nz\n\" clip-path=\"url(#p55a6c185e7)\" style=\"fill: #0071bc; stroke: #0071bc; stroke-linejoin: miter\"/>\n   </g>\n   <g id=\"patch_9\">\n    <path d=\"M 79.262667 45924.328468 \nL 81.849782 45924.328468 \nL 81.849782 61.073926 \nL 79.262667 61.073926 \nz\n\" clip-path=\"url(#p55a6c185e7)\" style=\"fill: #0071bc; stroke: #0071bc; stroke-linejoin: miter\"/>\n   </g>\n   <g id=\"patch_10\">\n    <path d=\"M 81.849782 45924.328468 \nL 84.436898 45924.328468 \nL 84.436898 58.236083 \nL 81.849782 58.236083 \nz\n\" clip-path=\"url(#p55a6c185e7)\" style=\"fill: #0071bc; stroke: #0071bc; stroke-linejoin: miter\"/>\n   </g>\n   <g id=\"patch_11\">\n    <path d=\"M 84.436898 45924.328468 \nL 87.024014 45924.328468 \nL 87.024014 53.19411 \nL 84.436898 53.19411 \nz\n\" clip-path=\"url(#p55a6c185e7)\" style=\"fill: #0071bc; stroke: #0071bc; stroke-linejoin: miter\"/>\n   </g>\n   <g id=\"patch_12\">\n    <path d=\"M 87.024014 45924.328468 \nL 89.61113 45924.328468 \nL 89.61113 47.60255 \nL 87.024014 47.60255 \nz\n\" clip-path=\"url(#p55a6c185e7)\" style=\"fill: #0071bc; stroke: #0071bc; stroke-linejoin: miter\"/>\n   </g>\n   <g id=\"patch_13\">\n    <path d=\"M 89.61113 45924.328468 \nL 92.198245 45924.328468 \nL 92.198245 44.140007 \nL 89.61113 44.140007 \nz\n\" clip-path=\"url(#p55a6c185e7)\" style=\"fill: #0071bc; stroke: #0071bc; stroke-linejoin: miter\"/>\n   </g>\n   <g id=\"patch_14\">\n    <path d=\"M 92.198245 45924.328468 \nL 94.785361 45924.328468 \nL 94.785361 40.738931 \nL 92.198245 40.738931 \nz\n\" clip-path=\"url(#p55a6c185e7)\" style=\"fill: #0071bc; stroke: #0071bc; stroke-linejoin: miter\"/>\n   </g>\n   <g id=\"patch_15\">\n    <path d=\"M 94.785361 45924.328468 \nL 97.372477 45924.328468 \nL 97.372477 38.348231 \nL 94.785361 38.348231 \nz\n\" clip-path=\"url(#p55a6c185e7)\" style=\"fill: #0071bc; stroke: #0071bc; stroke-linejoin: miter\"/>\n   </g>\n   <g id=\"patch_16\">\n    <path d=\"M 97.372477 45924.328468 \nL 99.959592 45924.328468 \nL 99.959592 35.370054 \nL 97.372477 35.370054 \nz\n\" clip-path=\"url(#p55a6c185e7)\" style=\"fill: #0071bc; stroke: #0071bc; stroke-linejoin: miter\"/>\n   </g>\n   <g id=\"patch_17\">\n    <path d=\"M 99.959592 45924.328468 \nL 102.546708 45924.328468 \nL 102.546708 33.746535 \nL 99.959592 33.746535 \nz\n\" clip-path=\"url(#p55a6c185e7)\" style=\"fill: #0071bc; stroke: #0071bc; stroke-linejoin: miter\"/>\n   </g>\n   <g id=\"patch_18\">\n    <path d=\"M 102.546708 45924.328468 \nL 105.133824 45924.328468 \nL 105.133824 32.540265 \nL 102.546708 32.540265 \nz\n\" clip-path=\"url(#p55a6c185e7)\" style=\"fill: #0071bc; stroke: #0071bc; stroke-linejoin: miter\"/>\n   </g>\n   <g id=\"patch_19\">\n    <path d=\"M 105.133824 45924.328468 \nL 107.720939 45924.328468 \nL 107.720939 31.907568 \nL 105.133824 31.907568 \nz\n\" clip-path=\"url(#p55a6c185e7)\" style=\"fill: #0071bc; stroke: #0071bc; stroke-linejoin: miter\"/>\n   </g>\n   <g id=\"patch_20\">\n    <path d=\"M 107.720939 45924.328468 \nL 110.308055 45924.328468 \nL 110.308055 33.134244 \nL 107.720939 33.134244 \nz\n\" clip-path=\"url(#p55a6c185e7)\" style=\"fill: #0071bc; stroke: #0071bc; stroke-linejoin: miter\"/>\n   </g>\n   <g id=\"patch_21\">\n    <path d=\"M 110.308055 45924.328468 \nL 112.895171 45924.328468 \nL 112.895171 32.392459 \nL 110.308055 32.392459 \nz\n\" clip-path=\"url(#p55a6c185e7)\" style=\"fill: #0071bc; stroke: #0071bc; stroke-linejoin: miter\"/>\n   </g>\n   <g id=\"patch_22\">\n    <path d=\"M 112.895171 45924.328468 \nL 115.482286 45924.328468 \nL 115.482286 33.024151 \nL 112.895171 33.024151 \nz\n\" clip-path=\"url(#p55a6c185e7)\" style=\"fill: #0071bc; stroke: #0071bc; stroke-linejoin: miter\"/>\n   </g>\n   <g id=\"patch_23\">\n    <path d=\"M 115.482286 45924.328468 \nL 118.069402 45924.328468 \nL 118.069402 34.414499 \nL 115.482286 34.414499 \nz\n\" clip-path=\"url(#p55a6c185e7)\" style=\"fill: #0071bc; stroke: #0071bc; stroke-linejoin: miter\"/>\n   </g>\n   <g id=\"patch_24\">\n    <path d=\"M 118.069402 45924.328468 \nL 120.656518 45924.328468 \nL 120.656518 35.256332 \nL 118.069402 35.256332 \nz\n\" clip-path=\"url(#p55a6c185e7)\" style=\"fill: #0071bc; stroke: #0071bc; stroke-linejoin: miter\"/>\n   </g>\n   <g id=\"patch_25\">\n    <path d=\"M 120.656518 45924.328468 \nL 123.243633 45924.328468 \nL 123.243633 36.962348 \nL 120.656518 36.962348 \nz\n\" clip-path=\"url(#p55a6c185e7)\" style=\"fill: #0071bc; stroke: #0071bc; stroke-linejoin: miter\"/>\n   </g>\n   <g id=\"patch_26\">\n    <path d=\"M 123.243633 45924.328468 \nL 125.830749 45924.328468 \nL 125.830749 39.495934 \nL 123.243633 39.495934 \nz\n\" clip-path=\"url(#p55a6c185e7)\" style=\"fill: #0071bc; stroke: #0071bc; stroke-linejoin: miter\"/>\n   </g>\n   <g id=\"patch_27\">\n    <path d=\"M 125.830749 45924.328468 \nL 128.417865 45924.328468 \nL 128.417865 43.00547 \nL 125.830749 43.00547 \nz\n\" clip-path=\"url(#p55a6c185e7)\" style=\"fill: #0071bc; stroke: #0071bc; stroke-linejoin: miter\"/>\n   </g>\n   <g id=\"patch_28\">\n    <path d=\"M 128.417865 45924.328468 \nL 131.004981 45924.328468 \nL 131.004981 44.437815 \nL 128.417865 44.437815 \nz\n\" clip-path=\"url(#p55a6c185e7)\" style=\"fill: #0071bc; stroke: #0071bc; stroke-linejoin: miter\"/>\n   </g>\n   <g id=\"patch_29\">\n    <path d=\"M 131.004981 45924.328468 \nL 133.592096 45924.328468 \nL 133.592096 46.540634 \nL 131.004981 46.540634 \nz\n\" clip-path=\"url(#p55a6c185e7)\" style=\"fill: #0071bc; stroke: #0071bc; stroke-linejoin: miter\"/>\n   </g>\n   <g id=\"patch_30\">\n    <path d=\"M 133.592096 45924.328468 \nL 136.179212 45924.328468 \nL 136.179212 48.483912 \nL 133.592096 48.483912 \nz\n\" clip-path=\"url(#p55a6c185e7)\" style=\"fill: #0071bc; stroke: #0071bc; stroke-linejoin: miter\"/>\n   </g>\n   <g id=\"patch_31\">\n    <path d=\"M 136.179212 45924.328468 \nL 138.766328 45924.328468 \nL 138.766328 51.86413 \nL 136.179212 51.86413 \nz\n\" clip-path=\"url(#p55a6c185e7)\" style=\"fill: #0071bc; stroke: #0071bc; stroke-linejoin: miter\"/>\n   </g>\n   <g id=\"patch_32\">\n    <path d=\"M 138.766328 45924.328468 \nL 141.353443 45924.328468 \nL 141.353443 53.101073 \nL 138.766328 53.101073 \nz\n\" clip-path=\"url(#p55a6c185e7)\" style=\"fill: #0071bc; stroke: #0071bc; stroke-linejoin: miter\"/>\n   </g>\n   <g id=\"patch_33\">\n    <path d=\"M 141.353443 45924.328468 \nL 143.940559 45924.328468 \nL 143.940559 56.074272 \nL 141.353443 56.074272 \nz\n\" clip-path=\"url(#p55a6c185e7)\" style=\"fill: #0071bc; stroke: #0071bc; stroke-linejoin: miter\"/>\n   </g>\n   <g id=\"patch_34\">\n    <path d=\"M 143.940559 45924.328468 \nL 146.527675 45924.328468 \nL 146.527675 58.508395 \nL 143.940559 58.508395 \nz\n\" clip-path=\"url(#p55a6c185e7)\" style=\"fill: #0071bc; stroke: #0071bc; stroke-linejoin: miter\"/>\n   </g>\n   <g id=\"patch_35\">\n    <path d=\"M 146.527675 45924.328468 \nL 149.11479 45924.328468 \nL 149.11479 61.248014 \nL 146.527675 61.248014 \nz\n\" clip-path=\"url(#p55a6c185e7)\" style=\"fill: #0071bc; stroke: #0071bc; stroke-linejoin: miter\"/>\n   </g>\n   <g id=\"patch_36\">\n    <path d=\"M 149.11479 45924.328468 \nL 151.701906 45924.328468 \nL 151.701906 63.900398 \nL 149.11479 63.900398 \nz\n\" clip-path=\"url(#p55a6c185e7)\" style=\"fill: #0071bc; stroke: #0071bc; stroke-linejoin: miter\"/>\n   </g>\n   <g id=\"patch_37\">\n    <path d=\"M 151.701906 45924.328468 \nL 154.289022 45924.328468 \nL 154.289022 65.697891 \nL 151.701906 65.697891 \nz\n\" clip-path=\"url(#p55a6c185e7)\" style=\"fill: #0071bc; stroke: #0071bc; stroke-linejoin: miter\"/>\n   </g>\n   <g id=\"patch_38\">\n    <path d=\"M 154.289022 45924.328468 \nL 156.876137 45924.328468 \nL 156.876137 67.481992 \nL 154.289022 67.481992 \nz\n\" clip-path=\"url(#p55a6c185e7)\" style=\"fill: #0071bc; stroke: #0071bc; stroke-linejoin: miter\"/>\n   </g>\n   <g id=\"patch_39\">\n    <path d=\"M 156.876137 45924.328468 \nL 159.463253 45924.328468 \nL 159.463253 69.075899 \nL 156.876137 69.075899 \nz\n\" clip-path=\"url(#p55a6c185e7)\" style=\"fill: #0071bc; stroke: #0071bc; stroke-linejoin: miter\"/>\n   </g>\n   <g id=\"patch_40\">\n    <path d=\"M 159.463253 45924.328468 \nL 162.050369 45924.328468 \nL 162.050369 71.914376 \nL 159.463253 71.914376 \nz\n\" clip-path=\"url(#p55a6c185e7)\" style=\"fill: #0071bc; stroke: #0071bc; stroke-linejoin: miter\"/>\n   </g>\n   <g id=\"patch_41\">\n    <path d=\"M 162.050369 45924.328468 \nL 164.637484 45924.328468 \nL 164.637484 75.369077 \nL 162.050369 75.369077 \nz\n\" clip-path=\"url(#p55a6c185e7)\" style=\"fill: #0071bc; stroke: #0071bc; stroke-linejoin: miter\"/>\n   </g>\n   <g id=\"patch_42\">\n    <path d=\"M 164.637484 45924.328468 \nL 167.2246 45924.328468 \nL 167.2246 76.020393 \nL 164.637484 76.020393 \nz\n\" clip-path=\"url(#p55a6c185e7)\" style=\"fill: #0071bc; stroke: #0071bc; stroke-linejoin: miter\"/>\n   </g>\n   <g id=\"patch_43\">\n    <path d=\"M 167.2246 45924.328468 \nL 169.811716 45924.328468 \nL 169.811716 76.846588 \nL 167.2246 76.846588 \nz\n\" clip-path=\"url(#p55a6c185e7)\" style=\"fill: #0071bc; stroke: #0071bc; stroke-linejoin: miter\"/>\n   </g>\n   <g id=\"patch_44\">\n    <path d=\"M 169.811716 45924.328468 \nL 172.398832 45924.328468 \nL 172.398832 78.442898 \nL 169.811716 78.442898 \nz\n\" clip-path=\"url(#p55a6c185e7)\" style=\"fill: #0071bc; stroke: #0071bc; stroke-linejoin: miter\"/>\n   </g>\n   <g id=\"patch_45\">\n    <path d=\"M 172.398832 45924.328468 \nL 174.985947 45924.328468 \nL 174.985947 80.917982 \nL 172.398832 80.917982 \nz\n\" clip-path=\"url(#p55a6c185e7)\" style=\"fill: #0071bc; stroke: #0071bc; stroke-linejoin: miter\"/>\n   </g>\n   <g id=\"patch_46\">\n    <path d=\"M 174.985947 45924.328468 \nL 177.573063 45924.328468 \nL 177.573063 82.484379 \nL 174.985947 82.484379 \nz\n\" clip-path=\"url(#p55a6c185e7)\" style=\"fill: #0071bc; stroke: #0071bc; stroke-linejoin: miter\"/>\n   </g>\n   <g id=\"patch_47\">\n    <path d=\"M 177.573063 45924.328468 \nL 180.160179 45924.328468 \nL 180.160179 80.917982 \nL 177.573063 80.917982 \nz\n\" clip-path=\"url(#p55a6c185e7)\" style=\"fill: #0071bc; stroke: #0071bc; stroke-linejoin: miter\"/>\n   </g>\n   <g id=\"patch_48\">\n    <path d=\"M 180.160179 45924.328468 \nL 182.747294 45924.328468 \nL 182.747294 84.520684 \nL 180.160179 84.520684 \nz\n\" clip-path=\"url(#p55a6c185e7)\" style=\"fill: #0071bc; stroke: #0071bc; stroke-linejoin: miter\"/>\n   </g>\n   <g id=\"patch_49\">\n    <path d=\"M 182.747294 45924.328468 \nL 185.33441 45924.328468 \nL 185.33441 82.689158 \nL 182.747294 82.689158 \nz\n\" clip-path=\"url(#p55a6c185e7)\" style=\"fill: #0071bc; stroke: #0071bc; stroke-linejoin: miter\"/>\n   </g>\n   <g id=\"patch_50\">\n    <path d=\"M 185.33441 45924.328468 \nL 187.921526 45924.328468 \nL 187.921526 82.484379 \nL 185.33441 82.484379 \nz\n\" clip-path=\"url(#p55a6c185e7)\" style=\"fill: #0071bc; stroke: #0071bc; stroke-linejoin: miter\"/>\n   </g>\n   <g id=\"patch_51\">\n    <path d=\"M 187.921526 45924.328468 \nL 190.508641 45924.328468 \nL 190.508641 84.977334 \nL 187.921526 84.977334 \nz\n\" clip-path=\"url(#p55a6c185e7)\" style=\"fill: #0071bc; stroke: #0071bc; stroke-linejoin: miter\"/>\n   </g>\n   <g id=\"patch_52\">\n    <path d=\"M 190.508641 45924.328468 \nL 193.095757 45924.328468 \nL 193.095757 83.637722 \nL 190.508641 83.637722 \nz\n\" clip-path=\"url(#p55a6c185e7)\" style=\"fill: #0071bc; stroke: #0071bc; stroke-linejoin: miter\"/>\n   </g>\n   <g id=\"patch_53\">\n    <path d=\"M 193.095757 45924.328468 \nL 195.682873 45924.328468 \nL 195.682873 83.637722 \nL 193.095757 83.637722 \nz\n\" clip-path=\"url(#p55a6c185e7)\" style=\"fill: #0071bc; stroke: #0071bc; stroke-linejoin: miter\"/>\n   </g>\n   <g id=\"patch_54\">\n    <path d=\"M 195.682873 45924.328468 \nL 198.269988 45924.328468 \nL 198.269988 84.296237 \nL 195.682873 84.296237 \nz\n\" clip-path=\"url(#p55a6c185e7)\" style=\"fill: #0071bc; stroke: #0071bc; stroke-linejoin: miter\"/>\n   </g>\n   <g id=\"patch_55\">\n    <path d=\"M 198.269988 45924.328468 \nL 200.857104 45924.328468 \nL 200.857104 86.167113 \nL 198.269988 86.167113 \nz\n\" clip-path=\"url(#p55a6c185e7)\" style=\"fill: #0071bc; stroke: #0071bc; stroke-linejoin: miter\"/>\n   </g>\n   <g id=\"patch_56\">\n    <path d=\"M 200.857104 45924.328468 \nL 203.44422 45924.328468 \nL 203.44422 82.484379 \nL 200.857104 82.484379 \nz\n\" clip-path=\"url(#p55a6c185e7)\" style=\"fill: #0071bc; stroke: #0071bc; stroke-linejoin: miter\"/>\n   </g>\n   <g id=\"patch_57\">\n    <path d=\"M 203.44422 45924.328468 \nL 206.031335 45924.328468 \nL 206.031335 85.563316 \nL 203.44422 85.563316 \nz\n\" clip-path=\"url(#p55a6c185e7)\" style=\"fill: #0071bc; stroke: #0071bc; stroke-linejoin: miter\"/>\n   </g>\n   <g id=\"patch_58\">\n    <path d=\"M 206.031335 45924.328468 \nL 208.618451 45924.328468 \nL 208.618451 82.28169 \nL 206.031335 82.28169 \nz\n\" clip-path=\"url(#p55a6c185e7)\" style=\"fill: #0071bc; stroke: #0071bc; stroke-linejoin: miter\"/>\n   </g>\n   <g id=\"patch_59\">\n    <path d=\"M 208.618451 45924.328468 \nL 211.205567 45924.328468 \nL 211.205567 83.316475 \nL 208.618451 83.316475 \nz\n\" clip-path=\"url(#p55a6c185e7)\" style=\"fill: #0071bc; stroke: #0071bc; stroke-linejoin: miter\"/>\n   </g>\n   <g id=\"patch_60\">\n    <path d=\"M 211.205567 45924.328468 \nL 213.792683 45924.328468 \nL 213.792683 85.682616 \nL 211.205567 85.682616 \nz\n\" clip-path=\"url(#p55a6c185e7)\" style=\"fill: #0071bc; stroke: #0071bc; stroke-linejoin: miter\"/>\n   </g>\n   <g id=\"patch_61\">\n    <path d=\"M 213.792683 45924.328468 \nL 216.379798 45924.328468 \nL 216.379798 84.074297 \nL 213.792683 84.074297 \nz\n\" clip-path=\"url(#p55a6c185e7)\" style=\"fill: #0071bc; stroke: #0071bc; stroke-linejoin: miter\"/>\n   </g>\n   <g id=\"patch_62\">\n    <path d=\"M 216.379798 45924.328468 \nL 218.966914 45924.328468 \nL 218.966914 87.432724 \nL 216.379798 87.432724 \nz\n\" clip-path=\"url(#p55a6c185e7)\" style=\"fill: #0071bc; stroke: #0071bc; stroke-linejoin: miter\"/>\n   </g>\n   <g id=\"patch_63\">\n    <path d=\"M 218.966914 45924.328468 \nL 221.55403 45924.328468 \nL 221.55403 86.167113 \nL 218.966914 86.167113 \nz\n\" clip-path=\"url(#p55a6c185e7)\" style=\"fill: #0071bc; stroke: #0071bc; stroke-linejoin: miter\"/>\n   </g>\n   <g id=\"patch_64\">\n    <path d=\"M 221.55403 45924.328468 \nL 224.141145 45924.328468 \nL 224.141145 89.352058 \nL 221.55403 89.352058 \nz\n\" clip-path=\"url(#p55a6c185e7)\" style=\"fill: #0071bc; stroke: #0071bc; stroke-linejoin: miter\"/>\n   </g>\n   <g id=\"patch_65\">\n    <path d=\"M 224.141145 45924.328468 \nL 226.728261 45924.328468 \nL 226.728261 89.788634 \nL 224.141145 89.788634 \nz\n\" clip-path=\"url(#p55a6c185e7)\" style=\"fill: #0071bc; stroke: #0071bc; stroke-linejoin: miter\"/>\n   </g>\n   <g id=\"patch_66\">\n    <path d=\"M 226.728261 45924.328468 \nL 229.315377 45924.328468 \nL 229.315377 89.64204 \nL 226.728261 89.64204 \nz\n\" clip-path=\"url(#p55a6c185e7)\" style=\"fill: #0071bc; stroke: #0071bc; stroke-linejoin: miter\"/>\n   </g>\n   <g id=\"patch_67\">\n    <path d=\"M 229.315377 45924.328468 \nL 231.902492 45924.328468 \nL 231.902492 93.14706 \nL 229.315377 93.14706 \nz\n\" clip-path=\"url(#p55a6c185e7)\" style=\"fill: #0071bc; stroke: #0071bc; stroke-linejoin: miter\"/>\n   </g>\n   <g id=\"patch_68\">\n    <path d=\"M 231.902492 45924.328468 \nL 234.489608 45924.328468 \nL 234.489608 93.14706 \nL 231.902492 93.14706 \nz\n\" clip-path=\"url(#p55a6c185e7)\" style=\"fill: #0071bc; stroke: #0071bc; stroke-linejoin: miter\"/>\n   </g>\n   <g id=\"patch_69\">\n    <path d=\"M 234.489608 45924.328468 \nL 237.076724 45924.328468 \nL 237.076724 101.730685 \nL 234.489608 101.730685 \nz\n\" clip-path=\"url(#p55a6c185e7)\" style=\"fill: #0071bc; stroke: #0071bc; stroke-linejoin: miter\"/>\n   </g>\n   <g id=\"patch_70\">\n    <path d=\"M 237.076724 45924.328468 \nL 239.663839 45924.328468 \nL 239.663839 99.212969 \nL 237.076724 99.212969 \nz\n\" clip-path=\"url(#p55a6c185e7)\" style=\"fill: #0071bc; stroke: #0071bc; stroke-linejoin: miter\"/>\n   </g>\n   <g id=\"patch_71\">\n    <path d=\"M 239.663839 45924.328468 \nL 242.250955 45924.328468 \nL 242.250955 107.624782 \nL 239.663839 107.624782 \nz\n\" clip-path=\"url(#p55a6c185e7)\" style=\"fill: #0071bc; stroke: #0071bc; stroke-linejoin: miter\"/>\n   </g>\n   <g id=\"patch_72\">\n    <path d=\"M 242.250955 45924.328468 \nL 244.838071 45924.328468 \nL 244.838071 106.230288 \nL 242.250955 106.230288 \nz\n\" clip-path=\"url(#p55a6c185e7)\" style=\"fill: #0071bc; stroke: #0071bc; stroke-linejoin: miter\"/>\n   </g>\n   <g id=\"patch_73\">\n    <path d=\"M 244.838071 45924.328468 \nL 247.425186 45924.328468 \nL 247.425186 108.360546 \nL 244.838071 108.360546 \nz\n\" clip-path=\"url(#p55a6c185e7)\" style=\"fill: #0071bc; stroke: #0071bc; stroke-linejoin: miter\"/>\n   </g>\n   <g id=\"patch_74\">\n    <path d=\"M 247.425186 45924.328468 \nL 250.012302 45924.328468 \nL 250.012302 109.517963 \nL 247.425186 109.517963 \nz\n\" clip-path=\"url(#p55a6c185e7)\" style=\"fill: #0071bc; stroke: #0071bc; stroke-linejoin: miter\"/>\n   </g>\n   <g id=\"patch_75\">\n    <path d=\"M 250.012302 45924.328468 \nL 252.599418 45924.328468 \nL 252.599418 113.459868 \nL 250.012302 113.459868 \nz\n\" clip-path=\"url(#p55a6c185e7)\" style=\"fill: #0071bc; stroke: #0071bc; stroke-linejoin: miter\"/>\n   </g>\n   <g id=\"patch_76\">\n    <path d=\"M 252.599418 45924.328468 \nL 255.186534 45924.328468 \nL 255.186534 120.338082 \nL 252.599418 120.338082 \nz\n\" clip-path=\"url(#p55a6c185e7)\" style=\"fill: #0071bc; stroke: #0071bc; stroke-linejoin: miter\"/>\n   </g>\n   <g id=\"patch_77\">\n    <path d=\"M 255.186534 45924.328468 \nL 257.773649 45924.328468 \nL 257.773649 122.507148 \nL 255.186534 122.507148 \nz\n\" clip-path=\"url(#p55a6c185e7)\" style=\"fill: #0071bc; stroke: #0071bc; stroke-linejoin: miter\"/>\n   </g>\n   <g id=\"patch_78\">\n    <path d=\"M 257.773649 45924.328468 \nL 260.360765 45924.328468 \nL 260.360765 117.771501 \nL 257.773649 117.771501 \nz\n\" clip-path=\"url(#p55a6c185e7)\" style=\"fill: #0071bc; stroke: #0071bc; stroke-linejoin: miter\"/>\n   </g>\n   <g id=\"patch_79\">\n    <path d=\"M 260.360765 45924.328468 \nL 262.947881 45924.328468 \nL 262.947881 139.593646 \nL 260.360765 139.593646 \nz\n\" clip-path=\"url(#p55a6c185e7)\" style=\"fill: #0071bc; stroke: #0071bc; stroke-linejoin: miter\"/>\n   </g>\n   <g id=\"patch_80\">\n    <path d=\"M 262.947881 45924.328468 \nL 265.534996 45924.328468 \nL 265.534996 136.275388 \nL 262.947881 136.275388 \nz\n\" clip-path=\"url(#p55a6c185e7)\" style=\"fill: #0071bc; stroke: #0071bc; stroke-linejoin: miter\"/>\n   </g>\n   <g id=\"patch_81\">\n    <path d=\"M 265.534996 45924.328468 \nL 268.122112 45924.328468 \nL 268.122112 141.486827 \nL 265.534996 141.486827 \nz\n\" clip-path=\"url(#p55a6c185e7)\" style=\"fill: #0071bc; stroke: #0071bc; stroke-linejoin: miter\"/>\n   </g>\n   <g id=\"patch_82\">\n    <path d=\"M 268.122112 45924.328468 \nL 270.709228 45924.328468 \nL 270.709228 133.432923 \nL 268.122112 133.432923 \nz\n\" clip-path=\"url(#p55a6c185e7)\" style=\"fill: #0071bc; stroke: #0071bc; stroke-linejoin: miter\"/>\n   </g>\n   <g id=\"patch_83\">\n    <path d=\"M 270.709228 45924.328468 \nL 273.296343 45924.328468 \nL 273.296343 141.486827 \nL 270.709228 141.486827 \nz\n\" clip-path=\"url(#p55a6c185e7)\" style=\"fill: #0071bc; stroke: #0071bc; stroke-linejoin: miter\"/>\n   </g>\n   <g id=\"patch_84\">\n    <path d=\"M 273.296343 45924.328468 \nL 275.883459 45924.328468 \nL 275.883459 139.593646 \nL 273.296343 139.593646 \nz\n\" clip-path=\"url(#p55a6c185e7)\" style=\"fill: #0071bc; stroke: #0071bc; stroke-linejoin: miter\"/>\n   </g>\n   <g id=\"patch_85\">\n    <path d=\"M 275.883459 45924.328468 \nL 278.470575 45924.328468 \nL 278.470575 148.571594 \nL 275.883459 148.571594 \nz\n\" clip-path=\"url(#p55a6c185e7)\" style=\"fill: #0071bc; stroke: #0071bc; stroke-linejoin: miter\"/>\n   </g>\n   <g id=\"patch_86\">\n    <path d=\"M 278.470575 45924.328468 \nL 281.05769 45924.328468 \nL 281.05769 143.579642 \nL 278.470575 143.579642 \nz\n\" clip-path=\"url(#p55a6c185e7)\" style=\"fill: #0071bc; stroke: #0071bc; stroke-linejoin: miter\"/>\n   </g>\n   <g id=\"patch_87\">\n    <path d=\"M 281.05769 45924.328468 \nL 283.644806 45924.328468 \nL 283.644806 155.255068 \nL 281.05769 155.255068 \nz\n\" clip-path=\"url(#p55a6c185e7)\" style=\"fill: #0071bc; stroke: #0071bc; stroke-linejoin: miter\"/>\n   </g>\n   <g id=\"patch_88\">\n    <path d=\"M 283.644806 45924.328468 \nL 286.231922 45924.328468 \nL 286.231922 159.687451 \nL 283.644806 159.687451 \nz\n\" clip-path=\"url(#p55a6c185e7)\" style=\"fill: #0071bc; stroke: #0071bc; stroke-linejoin: miter\"/>\n   </g>\n   <g id=\"patch_89\">\n    <path d=\"M 286.231922 45924.328468 \nL 288.819037 45924.328468 \nL 288.819037 165.401787 \nL 286.231922 165.401787 \nz\n\" clip-path=\"url(#p55a6c185e7)\" style=\"fill: #0071bc; stroke: #0071bc; stroke-linejoin: miter\"/>\n   </g>\n   <g id=\"patch_90\">\n    <path d=\"M 288.819037 45924.328468 \nL 291.406153 45924.328468 \nL 291.406153 165.401787 \nL 288.819037 165.401787 \nz\n\" clip-path=\"url(#p55a6c185e7)\" style=\"fill: #0071bc; stroke: #0071bc; stroke-linejoin: miter\"/>\n   </g>\n   <g id=\"patch_91\">\n    <path d=\"M 291.406153 45924.328468 \nL 293.993269 45924.328468 \nL 293.993269 187.223932 \nL 291.406153 187.223932 \nz\n\" clip-path=\"url(#p55a6c185e7)\" style=\"fill: #0071bc; stroke: #0071bc; stroke-linejoin: miter\"/>\n   </g>\n   <g id=\"patch_92\">\n    <path d=\"M 293.993269 45924.328468 \nL 296.580385 45924.328468 \nL 296.580385 187.223932 \nL 293.993269 187.223932 \nz\n\" clip-path=\"url(#p55a6c185e7)\" style=\"fill: #0071bc; stroke: #0071bc; stroke-linejoin: miter\"/>\n   </g>\n   <g id=\"patch_93\">\n    <path d=\"M 296.580385 45924.328468 \nL 299.1675 45924.328468 \nL 299.1675 173.455691 \nL 296.580385 173.455691 \nz\n\" clip-path=\"url(#p55a6c185e7)\" style=\"fill: #0071bc; stroke: #0071bc; stroke-linejoin: miter\"/>\n   </g>\n   <g id=\"patch_94\">\n    <path d=\"M 299.1675 45924.328468 \nL 301.754616 45924.328468 \nL 301.754616 173.455691 \nL 299.1675 173.455691 \nz\n\" clip-path=\"url(#p55a6c185e7)\" style=\"fill: #0071bc; stroke: #0071bc; stroke-linejoin: miter\"/>\n   </g>\n   <g id=\"patch_95\">\n    <path d=\"M 301.754616 45924.328468 \nL 304.341732 45924.328468 \nL 304.341732 187.223932 \nL 301.754616 187.223932 \nz\n\" clip-path=\"url(#p55a6c185e7)\" style=\"fill: #0071bc; stroke: #0071bc; stroke-linejoin: miter\"/>\n   </g>\n   <g id=\"patch_96\">\n    <path d=\"M 304.341732 45924.328468 \nL 306.928847 45924.328468 \nL 306.928847 45924.328468 \nL 304.341732 45924.328468 \nz\n\" clip-path=\"url(#p55a6c185e7)\" style=\"fill: #0071bc; stroke: #0071bc; stroke-linejoin: miter\"/>\n   </g>\n   <g id=\"patch_97\">\n    <path d=\"M 306.928847 45924.328468 \nL 309.515963 45924.328468 \nL 309.515963 187.223932 \nL 306.928847 187.223932 \nz\n\" clip-path=\"url(#p55a6c185e7)\" style=\"fill: #0071bc; stroke: #0071bc; stroke-linejoin: miter\"/>\n   </g>\n   <g id=\"patch_98\">\n    <path d=\"M 309.515963 45924.328468 \nL 312.103079 45924.328468 \nL 312.103079 45924.328468 \nL 309.515963 45924.328468 \nz\n\" clip-path=\"url(#p55a6c185e7)\" style=\"fill: #0071bc; stroke: #0071bc; stroke-linejoin: miter\"/>\n   </g>\n   <g id=\"patch_99\">\n    <path d=\"M 312.103079 45924.328468 \nL 314.690194 45924.328468 \nL 314.690194 45924.328468 \nL 312.103079 45924.328468 \nz\n\" clip-path=\"url(#p55a6c185e7)\" style=\"fill: #0071bc; stroke: #0071bc; stroke-linejoin: miter\"/>\n   </g>\n   <g id=\"patch_100\">\n    <path d=\"M 314.690194 45924.328468 \nL 317.27731 45924.328468 \nL 317.27731 187.223932 \nL 314.690194 187.223932 \nz\n\" clip-path=\"url(#p55a6c185e7)\" style=\"fill: #0071bc; stroke: #0071bc; stroke-linejoin: miter\"/>\n   </g>\n   <g id=\"patch_101\">\n    <path d=\"M 317.27731 45924.328468 \nL 319.864426 45924.328468 \nL 319.864426 45924.328468 \nL 317.27731 45924.328468 \nz\n\" clip-path=\"url(#p55a6c185e7)\" style=\"fill: #0071bc; stroke: #0071bc; stroke-linejoin: miter\"/>\n   </g>\n   <g id=\"matplotlib.axis_1\">\n    <g id=\"xtick_1\">\n     <g id=\"line2d_1\">\n      <defs>\n       <path id=\"md76c636cbf\" d=\"M 0 0 \nL 0 3.5 \n\" style=\"stroke: #000000; stroke-width: 0.8\"/>\n      </defs>\n      <g>\n       <use xlink:href=\"#md76c636cbf\" x=\"92.198245\" y=\"194.98975\" style=\"stroke: #000000; stroke-width: 0.8\"/>\n      </g>\n     </g>\n     <g id=\"text_1\">\n      <!-- $\\mathdefault{10^{-9}}$ -->\n      <g transform=\"translate(78.098245 211.107875) scale(0.12 -0.12)\">\n       <defs>\n        <path id=\"DejaVuSans-31\" d=\"M 794 531 \nL 1825 531 \nL 1825 4091 \nL 703 3866 \nL 703 4441 \nL 1819 4666 \nL 2450 4666 \nL 2450 531 \nL 3481 531 \nL 3481 0 \nL 794 0 \nL 794 531 \nz\n\" transform=\"scale(0.015625)\"/>\n        <path id=\"DejaVuSans-30\" d=\"M 2034 4250 \nQ 1547 4250 1301 3770 \nQ 1056 3291 1056 2328 \nQ 1056 1369 1301 889 \nQ 1547 409 2034 409 \nQ 2525 409 2770 889 \nQ 3016 1369 3016 2328 \nQ 3016 3291 2770 3770 \nQ 2525 4250 2034 4250 \nz\nM 2034 4750 \nQ 2819 4750 3233 4129 \nQ 3647 3509 3647 2328 \nQ 3647 1150 3233 529 \nQ 2819 -91 2034 -91 \nQ 1250 -91 836 529 \nQ 422 1150 422 2328 \nQ 422 3509 836 4129 \nQ 1250 4750 2034 4750 \nz\n\" transform=\"scale(0.015625)\"/>\n        <path id=\"DejaVuSans-2212\" d=\"M 678 2272 \nL 4684 2272 \nL 4684 1741 \nL 678 1741 \nL 678 2272 \nz\n\" transform=\"scale(0.015625)\"/>\n        <path id=\"DejaVuSans-39\" d=\"M 703 97 \nL 703 672 \nQ 941 559 1184 500 \nQ 1428 441 1663 441 \nQ 2288 441 2617 861 \nQ 2947 1281 2994 2138 \nQ 2813 1869 2534 1725 \nQ 2256 1581 1919 1581 \nQ 1219 1581 811 2004 \nQ 403 2428 403 3163 \nQ 403 3881 828 4315 \nQ 1253 4750 1959 4750 \nQ 2769 4750 3195 4129 \nQ 3622 3509 3622 2328 \nQ 3622 1225 3098 567 \nQ 2575 -91 1691 -91 \nQ 1453 -91 1209 -44 \nQ 966 3 703 97 \nz\nM 1959 2075 \nQ 2384 2075 2632 2365 \nQ 2881 2656 2881 3163 \nQ 2881 3666 2632 3958 \nQ 2384 4250 1959 4250 \nQ 1534 4250 1286 3958 \nQ 1038 3666 1038 3163 \nQ 1038 2656 1286 2365 \nQ 1534 2075 1959 2075 \nz\n\" transform=\"scale(0.015625)\"/>\n       </defs>\n       <use xlink:href=\"#DejaVuSans-31\" transform=\"translate(0 0.765625)\"/>\n       <use xlink:href=\"#DejaVuSans-30\" transform=\"translate(63.623047 0.765625)\"/>\n       <use xlink:href=\"#DejaVuSans-2212\" transform=\"translate(128.203125 39.046875) scale(0.7)\"/>\n       <use xlink:href=\"#DejaVuSans-39\" transform=\"translate(186.855469 39.046875) scale(0.7)\"/>\n      </g>\n     </g>\n    </g>\n    <g id=\"xtick_2\">\n     <g id=\"line2d_2\">\n      <g>\n       <use xlink:href=\"#md76c636cbf\" x=\"149.11479\" y=\"194.98975\" style=\"stroke: #000000; stroke-width: 0.8\"/>\n      </g>\n     </g>\n     <g id=\"text_2\">\n      <!-- $\\mathdefault{10^{-7}}$ -->\n      <g transform=\"translate(135.01479 211.107875) scale(0.12 -0.12)\">\n       <defs>\n        <path id=\"DejaVuSans-37\" d=\"M 525 4666 \nL 3525 4666 \nL 3525 4397 \nL 1831 0 \nL 1172 0 \nL 2766 4134 \nL 525 4134 \nL 525 4666 \nz\n\" transform=\"scale(0.015625)\"/>\n       </defs>\n       <use xlink:href=\"#DejaVuSans-31\" transform=\"translate(0 0.684375)\"/>\n       <use xlink:href=\"#DejaVuSans-30\" transform=\"translate(63.623047 0.684375)\"/>\n       <use xlink:href=\"#DejaVuSans-2212\" transform=\"translate(128.203125 38.965625) scale(0.7)\"/>\n       <use xlink:href=\"#DejaVuSans-37\" transform=\"translate(186.855469 38.965625) scale(0.7)\"/>\n      </g>\n     </g>\n    </g>\n    <g id=\"xtick_3\">\n     <g id=\"line2d_3\">\n      <g>\n       <use xlink:href=\"#md76c636cbf\" x=\"206.031335\" y=\"194.98975\" style=\"stroke: #000000; stroke-width: 0.8\"/>\n      </g>\n     </g>\n     <g id=\"text_3\">\n      <!-- $\\mathdefault{10^{-5}}$ -->\n      <g transform=\"translate(191.931335 211.107875) scale(0.12 -0.12)\">\n       <defs>\n        <path id=\"DejaVuSans-35\" d=\"M 691 4666 \nL 3169 4666 \nL 3169 4134 \nL 1269 4134 \nL 1269 2991 \nQ 1406 3038 1543 3061 \nQ 1681 3084 1819 3084 \nQ 2600 3084 3056 2656 \nQ 3513 2228 3513 1497 \nQ 3513 744 3044 326 \nQ 2575 -91 1722 -91 \nQ 1428 -91 1123 -41 \nQ 819 9 494 109 \nL 494 744 \nQ 775 591 1075 516 \nQ 1375 441 1709 441 \nQ 2250 441 2565 725 \nQ 2881 1009 2881 1497 \nQ 2881 1984 2565 2268 \nQ 2250 2553 1709 2553 \nQ 1456 2553 1204 2497 \nQ 953 2441 691 2322 \nL 691 4666 \nz\n\" transform=\"scale(0.015625)\"/>\n       </defs>\n       <use xlink:href=\"#DejaVuSans-31\" transform=\"translate(0 0.684375)\"/>\n       <use xlink:href=\"#DejaVuSans-30\" transform=\"translate(63.623047 0.684375)\"/>\n       <use xlink:href=\"#DejaVuSans-2212\" transform=\"translate(128.203125 38.965625) scale(0.7)\"/>\n       <use xlink:href=\"#DejaVuSans-35\" transform=\"translate(186.855469 38.965625) scale(0.7)\"/>\n      </g>\n     </g>\n    </g>\n    <g id=\"xtick_4\">\n     <g id=\"line2d_4\">\n      <g>\n       <use xlink:href=\"#md76c636cbf\" x=\"262.947881\" y=\"194.98975\" style=\"stroke: #000000; stroke-width: 0.8\"/>\n      </g>\n     </g>\n     <g id=\"text_4\">\n      <!-- $\\mathdefault{10^{-3}}$ -->\n      <g transform=\"translate(248.847881 211.107875) scale(0.12 -0.12)\">\n       <defs>\n        <path id=\"DejaVuSans-33\" d=\"M 2597 2516 \nQ 3050 2419 3304 2112 \nQ 3559 1806 3559 1356 \nQ 3559 666 3084 287 \nQ 2609 -91 1734 -91 \nQ 1441 -91 1130 -33 \nQ 819 25 488 141 \nL 488 750 \nQ 750 597 1062 519 \nQ 1375 441 1716 441 \nQ 2309 441 2620 675 \nQ 2931 909 2931 1356 \nQ 2931 1769 2642 2001 \nQ 2353 2234 1838 2234 \nL 1294 2234 \nL 1294 2753 \nL 1863 2753 \nQ 2328 2753 2575 2939 \nQ 2822 3125 2822 3475 \nQ 2822 3834 2567 4026 \nQ 2313 4219 1838 4219 \nQ 1578 4219 1281 4162 \nQ 984 4106 628 3988 \nL 628 4550 \nQ 988 4650 1302 4700 \nQ 1616 4750 1894 4750 \nQ 2613 4750 3031 4423 \nQ 3450 4097 3450 3541 \nQ 3450 3153 3228 2886 \nQ 3006 2619 2597 2516 \nz\n\" transform=\"scale(0.015625)\"/>\n       </defs>\n       <use xlink:href=\"#DejaVuSans-31\" transform=\"translate(0 0.765625)\"/>\n       <use xlink:href=\"#DejaVuSans-30\" transform=\"translate(63.623047 0.765625)\"/>\n       <use xlink:href=\"#DejaVuSans-2212\" transform=\"translate(128.203125 39.046875) scale(0.7)\"/>\n       <use xlink:href=\"#DejaVuSans-33\" transform=\"translate(186.855469 39.046875) scale(0.7)\"/>\n      </g>\n     </g>\n    </g>\n    <g id=\"xtick_5\">\n     <g id=\"line2d_5\">\n      <g>\n       <use xlink:href=\"#md76c636cbf\" x=\"319.864426\" y=\"194.98975\" style=\"stroke: #000000; stroke-width: 0.8\"/>\n      </g>\n     </g>\n     <g id=\"text_5\">\n      <!-- $\\mathdefault{10^{-1}}$ -->\n      <g transform=\"translate(305.764426 211.107875) scale(0.12 -0.12)\">\n       <use xlink:href=\"#DejaVuSans-31\" transform=\"translate(0 0.684375)\"/>\n       <use xlink:href=\"#DejaVuSans-30\" transform=\"translate(63.623047 0.684375)\"/>\n       <use xlink:href=\"#DejaVuSans-2212\" transform=\"translate(128.203125 38.965625) scale(0.7)\"/>\n       <use xlink:href=\"#DejaVuSans-31\" transform=\"translate(186.855469 38.965625) scale(0.7)\"/>\n      </g>\n     </g>\n    </g>\n    <g id=\"text_6\">\n     <!-- Probability -->\n     <g transform=\"translate(160.087512 226.721625) scale(0.12 -0.12)\">\n      <defs>\n       <path id=\"DejaVuSans-50\" d=\"M 1259 4147 \nL 1259 2394 \nL 2053 2394 \nQ 2494 2394 2734 2622 \nQ 2975 2850 2975 3272 \nQ 2975 3691 2734 3919 \nQ 2494 4147 2053 4147 \nL 1259 4147 \nz\nM 628 4666 \nL 2053 4666 \nQ 2838 4666 3239 4311 \nQ 3641 3956 3641 3272 \nQ 3641 2581 3239 2228 \nQ 2838 1875 2053 1875 \nL 1259 1875 \nL 1259 0 \nL 628 0 \nL 628 4666 \nz\n\" transform=\"scale(0.015625)\"/>\n       <path id=\"DejaVuSans-72\" d=\"M 2631 2963 \nQ 2534 3019 2420 3045 \nQ 2306 3072 2169 3072 \nQ 1681 3072 1420 2755 \nQ 1159 2438 1159 1844 \nL 1159 0 \nL 581 0 \nL 581 3500 \nL 1159 3500 \nL 1159 2956 \nQ 1341 3275 1631 3429 \nQ 1922 3584 2338 3584 \nQ 2397 3584 2469 3576 \nQ 2541 3569 2628 3553 \nL 2631 2963 \nz\n\" transform=\"scale(0.015625)\"/>\n       <path id=\"DejaVuSans-6f\" d=\"M 1959 3097 \nQ 1497 3097 1228 2736 \nQ 959 2375 959 1747 \nQ 959 1119 1226 758 \nQ 1494 397 1959 397 \nQ 2419 397 2687 759 \nQ 2956 1122 2956 1747 \nQ 2956 2369 2687 2733 \nQ 2419 3097 1959 3097 \nz\nM 1959 3584 \nQ 2709 3584 3137 3096 \nQ 3566 2609 3566 1747 \nQ 3566 888 3137 398 \nQ 2709 -91 1959 -91 \nQ 1206 -91 779 398 \nQ 353 888 353 1747 \nQ 353 2609 779 3096 \nQ 1206 3584 1959 3584 \nz\n\" transform=\"scale(0.015625)\"/>\n       <path id=\"DejaVuSans-62\" d=\"M 3116 1747 \nQ 3116 2381 2855 2742 \nQ 2594 3103 2138 3103 \nQ 1681 3103 1420 2742 \nQ 1159 2381 1159 1747 \nQ 1159 1113 1420 752 \nQ 1681 391 2138 391 \nQ 2594 391 2855 752 \nQ 3116 1113 3116 1747 \nz\nM 1159 2969 \nQ 1341 3281 1617 3432 \nQ 1894 3584 2278 3584 \nQ 2916 3584 3314 3078 \nQ 3713 2572 3713 1747 \nQ 3713 922 3314 415 \nQ 2916 -91 2278 -91 \nQ 1894 -91 1617 61 \nQ 1341 213 1159 525 \nL 1159 0 \nL 581 0 \nL 581 4863 \nL 1159 4863 \nL 1159 2969 \nz\n\" transform=\"scale(0.015625)\"/>\n       <path id=\"DejaVuSans-61\" d=\"M 2194 1759 \nQ 1497 1759 1228 1600 \nQ 959 1441 959 1056 \nQ 959 750 1161 570 \nQ 1363 391 1709 391 \nQ 2188 391 2477 730 \nQ 2766 1069 2766 1631 \nL 2766 1759 \nL 2194 1759 \nz\nM 3341 1997 \nL 3341 0 \nL 2766 0 \nL 2766 531 \nQ 2569 213 2275 61 \nQ 1981 -91 1556 -91 \nQ 1019 -91 701 211 \nQ 384 513 384 1019 \nQ 384 1609 779 1909 \nQ 1175 2209 1959 2209 \nL 2766 2209 \nL 2766 2266 \nQ 2766 2663 2505 2880 \nQ 2244 3097 1772 3097 \nQ 1472 3097 1187 3025 \nQ 903 2953 641 2809 \nL 641 3341 \nQ 956 3463 1253 3523 \nQ 1550 3584 1831 3584 \nQ 2591 3584 2966 3190 \nQ 3341 2797 3341 1997 \nz\n\" transform=\"scale(0.015625)\"/>\n       <path id=\"DejaVuSans-69\" d=\"M 603 3500 \nL 1178 3500 \nL 1178 0 \nL 603 0 \nL 603 3500 \nz\nM 603 4863 \nL 1178 4863 \nL 1178 4134 \nL 603 4134 \nL 603 4863 \nz\n\" transform=\"scale(0.015625)\"/>\n       <path id=\"DejaVuSans-6c\" d=\"M 603 4863 \nL 1178 4863 \nL 1178 0 \nL 603 0 \nL 603 4863 \nz\n\" transform=\"scale(0.015625)\"/>\n       <path id=\"DejaVuSans-74\" d=\"M 1172 4494 \nL 1172 3500 \nL 2356 3500 \nL 2356 3053 \nL 1172 3053 \nL 1172 1153 \nQ 1172 725 1289 603 \nQ 1406 481 1766 481 \nL 2356 481 \nL 2356 0 \nL 1766 0 \nQ 1100 0 847 248 \nQ 594 497 594 1153 \nL 594 3053 \nL 172 3053 \nL 172 3500 \nL 594 3500 \nL 594 4494 \nL 1172 4494 \nz\n\" transform=\"scale(0.015625)\"/>\n       <path id=\"DejaVuSans-79\" d=\"M 2059 -325 \nQ 1816 -950 1584 -1140 \nQ 1353 -1331 966 -1331 \nL 506 -1331 \nL 506 -850 \nL 844 -850 \nQ 1081 -850 1212 -737 \nQ 1344 -625 1503 -206 \nL 1606 56 \nL 191 3500 \nL 800 3500 \nL 1894 763 \nL 2988 3500 \nL 3597 3500 \nL 2059 -325 \nz\n\" transform=\"scale(0.015625)\"/>\n      </defs>\n      <use xlink:href=\"#DejaVuSans-50\"/>\n      <use xlink:href=\"#DejaVuSans-72\" x=\"58.552734\"/>\n      <use xlink:href=\"#DejaVuSans-6f\" x=\"97.416016\"/>\n      <use xlink:href=\"#DejaVuSans-62\" x=\"158.597656\"/>\n      <use xlink:href=\"#DejaVuSans-61\" x=\"222.074219\"/>\n      <use xlink:href=\"#DejaVuSans-62\" x=\"283.353516\"/>\n      <use xlink:href=\"#DejaVuSans-69\" x=\"346.830078\"/>\n      <use xlink:href=\"#DejaVuSans-6c\" x=\"374.613281\"/>\n      <use xlink:href=\"#DejaVuSans-69\" x=\"402.396484\"/>\n      <use xlink:href=\"#DejaVuSans-74\" x=\"430.179688\"/>\n      <use xlink:href=\"#DejaVuSans-79\" x=\"469.388672\"/>\n     </g>\n    </g>\n   </g>\n   <g id=\"matplotlib.axis_2\">\n    <g id=\"ytick_1\">\n     <g id=\"line2d_6\">\n      <defs>\n       <path id=\"m019cef8a26\" d=\"M 0 0 \nL -3.5 0 \n\" style=\"stroke: #000000; stroke-width: 0.8\"/>\n      </defs>\n      <g>\n       <use xlink:href=\"#m019cef8a26\" x=\"50.93375\" y=\"187.223932\" style=\"stroke: #000000; stroke-width: 0.8\"/>\n      </g>\n     </g>\n     <g id=\"text_7\">\n      <!-- $\\mathdefault{10^{0}}$ -->\n      <g transform=\"translate(22.81375 191.782994) scale(0.12 -0.12)\">\n       <use xlink:href=\"#DejaVuSans-31\" transform=\"translate(0 0.765625)\"/>\n       <use xlink:href=\"#DejaVuSans-30\" transform=\"translate(63.623047 0.765625)\"/>\n       <use xlink:href=\"#DejaVuSans-30\" transform=\"translate(128.203125 39.046875) scale(0.7)\"/>\n      </g>\n     </g>\n    </g>\n    <g id=\"ytick_2\">\n     <g id=\"line2d_7\">\n      <g>\n       <use xlink:href=\"#m019cef8a26\" x=\"50.93375\" y=\"141.486827\" style=\"stroke: #000000; stroke-width: 0.8\"/>\n      </g>\n     </g>\n     <g id=\"text_8\">\n      <!-- $\\mathdefault{10^{1}}$ -->\n      <g transform=\"translate(22.81375 146.04589) scale(0.12 -0.12)\">\n       <use xlink:href=\"#DejaVuSans-31\" transform=\"translate(0 0.684375)\"/>\n       <use xlink:href=\"#DejaVuSans-30\" transform=\"translate(63.623047 0.684375)\"/>\n       <use xlink:href=\"#DejaVuSans-31\" transform=\"translate(128.203125 38.965625) scale(0.7)\"/>\n      </g>\n     </g>\n    </g>\n    <g id=\"ytick_3\">\n     <g id=\"line2d_8\">\n      <g>\n       <use xlink:href=\"#m019cef8a26\" x=\"50.93375\" y=\"95.749723\" style=\"stroke: #000000; stroke-width: 0.8\"/>\n      </g>\n     </g>\n     <g id=\"text_9\">\n      <!-- $\\mathdefault{10^{2}}$ -->\n      <g transform=\"translate(22.81375 100.308785) scale(0.12 -0.12)\">\n       <defs>\n        <path id=\"DejaVuSans-32\" d=\"M 1228 531 \nL 3431 531 \nL 3431 0 \nL 469 0 \nL 469 531 \nQ 828 903 1448 1529 \nQ 2069 2156 2228 2338 \nQ 2531 2678 2651 2914 \nQ 2772 3150 2772 3378 \nQ 2772 3750 2511 3984 \nQ 2250 4219 1831 4219 \nQ 1534 4219 1204 4116 \nQ 875 4013 500 3803 \nL 500 4441 \nQ 881 4594 1212 4672 \nQ 1544 4750 1819 4750 \nQ 2544 4750 2975 4387 \nQ 3406 4025 3406 3419 \nQ 3406 3131 3298 2873 \nQ 3191 2616 2906 2266 \nQ 2828 2175 2409 1742 \nQ 1991 1309 1228 531 \nz\n\" transform=\"scale(0.015625)\"/>\n       </defs>\n       <use xlink:href=\"#DejaVuSans-31\" transform=\"translate(0 0.765625)\"/>\n       <use xlink:href=\"#DejaVuSans-30\" transform=\"translate(63.623047 0.765625)\"/>\n       <use xlink:href=\"#DejaVuSans-32\" transform=\"translate(128.203125 39.046875) scale(0.7)\"/>\n      </g>\n     </g>\n    </g>\n    <g id=\"ytick_4\">\n     <g id=\"line2d_9\">\n      <g>\n       <use xlink:href=\"#m019cef8a26\" x=\"50.93375\" y=\"50.012618\" style=\"stroke: #000000; stroke-width: 0.8\"/>\n      </g>\n     </g>\n     <g id=\"text_10\">\n      <!-- $\\mathdefault{10^{3}}$ -->\n      <g transform=\"translate(22.81375 54.571681) scale(0.12 -0.12)\">\n       <use xlink:href=\"#DejaVuSans-31\" transform=\"translate(0 0.765625)\"/>\n       <use xlink:href=\"#DejaVuSans-30\" transform=\"translate(63.623047 0.765625)\"/>\n       <use xlink:href=\"#DejaVuSans-33\" transform=\"translate(128.203125 39.046875) scale(0.7)\"/>\n      </g>\n     </g>\n    </g>\n    <g id=\"ytick_5\">\n     <g id=\"line2d_10\">\n      <defs>\n       <path id=\"m72c1a0c8a1\" d=\"M 0 0 \nL -2 0 \n\" style=\"stroke: #000000; stroke-width: 0.6\"/>\n      </defs>\n      <g>\n       <use xlink:href=\"#m72c1a0c8a1\" x=\"50.93375\" y=\"194.308699\" style=\"stroke: #000000; stroke-width: 0.6\"/>\n      </g>\n     </g>\n    </g>\n    <g id=\"ytick_6\">\n     <g id=\"line2d_11\">\n      <g>\n       <use xlink:href=\"#m72c1a0c8a1\" x=\"50.93375\" y=\"191.656315\" style=\"stroke: #000000; stroke-width: 0.6\"/>\n      </g>\n     </g>\n    </g>\n    <g id=\"ytick_7\">\n     <g id=\"line2d_12\">\n      <g>\n       <use xlink:href=\"#m72c1a0c8a1\" x=\"50.93375\" y=\"189.316747\" style=\"stroke: #000000; stroke-width: 0.6\"/>\n      </g>\n     </g>\n    </g>\n    <g id=\"ytick_8\">\n     <g id=\"line2d_13\">\n      <g>\n       <use xlink:href=\"#m72c1a0c8a1\" x=\"50.93375\" y=\"173.455691\" style=\"stroke: #000000; stroke-width: 0.6\"/>\n      </g>\n     </g>\n    </g>\n    <g id=\"ytick_9\">\n     <g id=\"line2d_14\">\n      <g>\n       <use xlink:href=\"#m72c1a0c8a1\" x=\"50.93375\" y=\"165.401787\" style=\"stroke: #000000; stroke-width: 0.6\"/>\n      </g>\n     </g>\n    </g>\n    <g id=\"ytick_10\">\n     <g id=\"line2d_15\">\n      <g>\n       <use xlink:href=\"#m72c1a0c8a1\" x=\"50.93375\" y=\"159.687451\" style=\"stroke: #000000; stroke-width: 0.6\"/>\n      </g>\n     </g>\n    </g>\n    <g id=\"ytick_11\">\n     <g id=\"line2d_16\">\n      <g>\n       <use xlink:href=\"#m72c1a0c8a1\" x=\"50.93375\" y=\"155.255068\" style=\"stroke: #000000; stroke-width: 0.6\"/>\n      </g>\n     </g>\n    </g>\n    <g id=\"ytick_12\">\n     <g id=\"line2d_17\">\n      <g>\n       <use xlink:href=\"#m72c1a0c8a1\" x=\"50.93375\" y=\"151.633547\" style=\"stroke: #000000; stroke-width: 0.6\"/>\n      </g>\n     </g>\n    </g>\n    <g id=\"ytick_13\">\n     <g id=\"line2d_18\">\n      <g>\n       <use xlink:href=\"#m72c1a0c8a1\" x=\"50.93375\" y=\"148.571594\" style=\"stroke: #000000; stroke-width: 0.6\"/>\n      </g>\n     </g>\n    </g>\n    <g id=\"ytick_14\">\n     <g id=\"line2d_19\">\n      <g>\n       <use xlink:href=\"#m72c1a0c8a1\" x=\"50.93375\" y=\"145.919211\" style=\"stroke: #000000; stroke-width: 0.6\"/>\n      </g>\n     </g>\n    </g>\n    <g id=\"ytick_15\">\n     <g id=\"line2d_20\">\n      <g>\n       <use xlink:href=\"#m72c1a0c8a1\" x=\"50.93375\" y=\"143.579642\" style=\"stroke: #000000; stroke-width: 0.6\"/>\n      </g>\n     </g>\n    </g>\n    <g id=\"ytick_16\">\n     <g id=\"line2d_21\">\n      <g>\n       <use xlink:href=\"#m72c1a0c8a1\" x=\"50.93375\" y=\"127.718587\" style=\"stroke: #000000; stroke-width: 0.6\"/>\n      </g>\n     </g>\n    </g>\n    <g id=\"ytick_17\">\n     <g id=\"line2d_22\">\n      <g>\n       <use xlink:href=\"#m72c1a0c8a1\" x=\"50.93375\" y=\"119.664683\" style=\"stroke: #000000; stroke-width: 0.6\"/>\n      </g>\n     </g>\n    </g>\n    <g id=\"ytick_18\">\n     <g id=\"line2d_23\">\n      <g>\n       <use xlink:href=\"#m72c1a0c8a1\" x=\"50.93375\" y=\"113.950347\" style=\"stroke: #000000; stroke-width: 0.6\"/>\n      </g>\n     </g>\n    </g>\n    <g id=\"ytick_19\">\n     <g id=\"line2d_24\">\n      <g>\n       <use xlink:href=\"#m72c1a0c8a1\" x=\"50.93375\" y=\"109.517963\" style=\"stroke: #000000; stroke-width: 0.6\"/>\n      </g>\n     </g>\n    </g>\n    <g id=\"ytick_20\">\n     <g id=\"line2d_25\">\n      <g>\n       <use xlink:href=\"#m72c1a0c8a1\" x=\"50.93375\" y=\"105.896442\" style=\"stroke: #000000; stroke-width: 0.6\"/>\n      </g>\n     </g>\n    </g>\n    <g id=\"ytick_21\">\n     <g id=\"line2d_26\">\n      <g>\n       <use xlink:href=\"#m72c1a0c8a1\" x=\"50.93375\" y=\"102.83449\" style=\"stroke: #000000; stroke-width: 0.6\"/>\n      </g>\n     </g>\n    </g>\n    <g id=\"ytick_22\">\n     <g id=\"line2d_27\">\n      <g>\n       <use xlink:href=\"#m72c1a0c8a1\" x=\"50.93375\" y=\"100.182106\" style=\"stroke: #000000; stroke-width: 0.6\"/>\n      </g>\n     </g>\n    </g>\n    <g id=\"ytick_23\">\n     <g id=\"line2d_28\">\n      <g>\n       <use xlink:href=\"#m72c1a0c8a1\" x=\"50.93375\" y=\"97.842538\" style=\"stroke: #000000; stroke-width: 0.6\"/>\n      </g>\n     </g>\n    </g>\n    <g id=\"ytick_24\">\n     <g id=\"line2d_29\">\n      <g>\n       <use xlink:href=\"#m72c1a0c8a1\" x=\"50.93375\" y=\"81.981482\" style=\"stroke: #000000; stroke-width: 0.6\"/>\n      </g>\n     </g>\n    </g>\n    <g id=\"ytick_25\">\n     <g id=\"line2d_30\">\n      <g>\n       <use xlink:href=\"#m72c1a0c8a1\" x=\"50.93375\" y=\"73.927578\" style=\"stroke: #000000; stroke-width: 0.6\"/>\n      </g>\n     </g>\n    </g>\n    <g id=\"ytick_26\">\n     <g id=\"line2d_31\">\n      <g>\n       <use xlink:href=\"#m72c1a0c8a1\" x=\"50.93375\" y=\"68.213242\" style=\"stroke: #000000; stroke-width: 0.6\"/>\n      </g>\n     </g>\n    </g>\n    <g id=\"ytick_27\">\n     <g id=\"line2d_32\">\n      <g>\n       <use xlink:href=\"#m72c1a0c8a1\" x=\"50.93375\" y=\"63.780859\" style=\"stroke: #000000; stroke-width: 0.6\"/>\n      </g>\n     </g>\n    </g>\n    <g id=\"ytick_28\">\n     <g id=\"line2d_33\">\n      <g>\n       <use xlink:href=\"#m72c1a0c8a1\" x=\"50.93375\" y=\"60.159338\" style=\"stroke: #000000; stroke-width: 0.6\"/>\n      </g>\n     </g>\n    </g>\n    <g id=\"ytick_29\">\n     <g id=\"line2d_34\">\n      <g>\n       <use xlink:href=\"#m72c1a0c8a1\" x=\"50.93375\" y=\"57.097385\" style=\"stroke: #000000; stroke-width: 0.6\"/>\n      </g>\n     </g>\n    </g>\n    <g id=\"ytick_30\">\n     <g id=\"line2d_35\">\n      <g>\n       <use xlink:href=\"#m72c1a0c8a1\" x=\"50.93375\" y=\"54.445002\" style=\"stroke: #000000; stroke-width: 0.6\"/>\n      </g>\n     </g>\n    </g>\n    <g id=\"ytick_31\">\n     <g id=\"line2d_36\">\n      <g>\n       <use xlink:href=\"#m72c1a0c8a1\" x=\"50.93375\" y=\"52.105433\" style=\"stroke: #000000; stroke-width: 0.6\"/>\n      </g>\n     </g>\n    </g>\n    <g id=\"ytick_32\">\n     <g id=\"line2d_37\">\n      <g>\n       <use xlink:href=\"#m72c1a0c8a1\" x=\"50.93375\" y=\"36.244378\" style=\"stroke: #000000; stroke-width: 0.6\"/>\n      </g>\n     </g>\n    </g>\n    <g id=\"ytick_33\">\n     <g id=\"line2d_38\">\n      <g>\n       <use xlink:href=\"#m72c1a0c8a1\" x=\"50.93375\" y=\"28.190474\" style=\"stroke: #000000; stroke-width: 0.6\"/>\n      </g>\n     </g>\n    </g>\n    <g id=\"text_11\">\n     <!-- Count -->\n     <g transform=\"translate(16.318125 127.383875) rotate(-90) scale(0.12 -0.12)\">\n      <defs>\n       <path id=\"DejaVuSans-43\" d=\"M 4122 4306 \nL 4122 3641 \nQ 3803 3938 3442 4084 \nQ 3081 4231 2675 4231 \nQ 1875 4231 1450 3742 \nQ 1025 3253 1025 2328 \nQ 1025 1406 1450 917 \nQ 1875 428 2675 428 \nQ 3081 428 3442 575 \nQ 3803 722 4122 1019 \nL 4122 359 \nQ 3791 134 3420 21 \nQ 3050 -91 2638 -91 \nQ 1578 -91 968 557 \nQ 359 1206 359 2328 \nQ 359 3453 968 4101 \nQ 1578 4750 2638 4750 \nQ 3056 4750 3426 4639 \nQ 3797 4528 4122 4306 \nz\n\" transform=\"scale(0.015625)\"/>\n       <path id=\"DejaVuSans-75\" d=\"M 544 1381 \nL 544 3500 \nL 1119 3500 \nL 1119 1403 \nQ 1119 906 1312 657 \nQ 1506 409 1894 409 \nQ 2359 409 2629 706 \nQ 2900 1003 2900 1516 \nL 2900 3500 \nL 3475 3500 \nL 3475 0 \nL 2900 0 \nL 2900 538 \nQ 2691 219 2414 64 \nQ 2138 -91 1772 -91 \nQ 1169 -91 856 284 \nQ 544 659 544 1381 \nz\nM 1991 3584 \nL 1991 3584 \nz\n\" transform=\"scale(0.015625)\"/>\n       <path id=\"DejaVuSans-6e\" d=\"M 3513 2113 \nL 3513 0 \nL 2938 0 \nL 2938 2094 \nQ 2938 2591 2744 2837 \nQ 2550 3084 2163 3084 \nQ 1697 3084 1428 2787 \nQ 1159 2491 1159 1978 \nL 1159 0 \nL 581 0 \nL 581 3500 \nL 1159 3500 \nL 1159 2956 \nQ 1366 3272 1645 3428 \nQ 1925 3584 2291 3584 \nQ 2894 3584 3203 3211 \nQ 3513 2838 3513 2113 \nz\n\" transform=\"scale(0.015625)\"/>\n      </defs>\n      <use xlink:href=\"#DejaVuSans-43\"/>\n      <use xlink:href=\"#DejaVuSans-6f\" x=\"69.824219\"/>\n      <use xlink:href=\"#DejaVuSans-75\" x=\"131.005859\"/>\n      <use xlink:href=\"#DejaVuSans-6e\" x=\"194.384766\"/>\n      <use xlink:href=\"#DejaVuSans-74\" x=\"257.763672\"/>\n     </g>\n    </g>\n   </g>\n   <g id=\"patch_102\">\n    <path d=\"M 50.93375 194.98975 \nL 50.93375 24.14175 \n\" style=\"fill: none; stroke: #000000; stroke-width: 0.8; stroke-linejoin: miter; stroke-linecap: square\"/>\n   </g>\n   <g id=\"patch_103\">\n    <path d=\"M 332.670648 194.98975 \nL 332.670648 24.14175 \n\" style=\"fill: none; stroke: #000000; stroke-width: 0.8; stroke-linejoin: miter; stroke-linecap: square\"/>\n   </g>\n   <g id=\"patch_104\">\n    <path d=\"M 50.93375 194.98975 \nL 332.670648 194.98975 \n\" style=\"fill: none; stroke: #000000; stroke-width: 0.8; stroke-linejoin: miter; stroke-linecap: square\"/>\n   </g>\n   <g id=\"patch_105\">\n    <path d=\"M 50.93375 24.14175 \nL 332.670648 24.14175 \n\" style=\"fill: none; stroke: #000000; stroke-width: 0.8; stroke-linejoin: miter; stroke-linecap: square\"/>\n   </g>\n   <g id=\"text_12\">\n    <!-- Probability distribution -->\n    <g transform=\"translate(110.426449 18.14175) scale(0.144 -0.144)\">\n     <defs>\n      <path id=\"DejaVuSans-20\" transform=\"scale(0.015625)\"/>\n      <path id=\"DejaVuSans-64\" d=\"M 2906 2969 \nL 2906 4863 \nL 3481 4863 \nL 3481 0 \nL 2906 0 \nL 2906 525 \nQ 2725 213 2448 61 \nQ 2172 -91 1784 -91 \nQ 1150 -91 751 415 \nQ 353 922 353 1747 \nQ 353 2572 751 3078 \nQ 1150 3584 1784 3584 \nQ 2172 3584 2448 3432 \nQ 2725 3281 2906 2969 \nz\nM 947 1747 \nQ 947 1113 1208 752 \nQ 1469 391 1925 391 \nQ 2381 391 2643 752 \nQ 2906 1113 2906 1747 \nQ 2906 2381 2643 2742 \nQ 2381 3103 1925 3103 \nQ 1469 3103 1208 2742 \nQ 947 2381 947 1747 \nz\n\" transform=\"scale(0.015625)\"/>\n      <path id=\"DejaVuSans-73\" d=\"M 2834 3397 \nL 2834 2853 \nQ 2591 2978 2328 3040 \nQ 2066 3103 1784 3103 \nQ 1356 3103 1142 2972 \nQ 928 2841 928 2578 \nQ 928 2378 1081 2264 \nQ 1234 2150 1697 2047 \nL 1894 2003 \nQ 2506 1872 2764 1633 \nQ 3022 1394 3022 966 \nQ 3022 478 2636 193 \nQ 2250 -91 1575 -91 \nQ 1294 -91 989 -36 \nQ 684 19 347 128 \nL 347 722 \nQ 666 556 975 473 \nQ 1284 391 1588 391 \nQ 1994 391 2212 530 \nQ 2431 669 2431 922 \nQ 2431 1156 2273 1281 \nQ 2116 1406 1581 1522 \nL 1381 1569 \nQ 847 1681 609 1914 \nQ 372 2147 372 2553 \nQ 372 3047 722 3315 \nQ 1072 3584 1716 3584 \nQ 2034 3584 2315 3537 \nQ 2597 3491 2834 3397 \nz\n\" transform=\"scale(0.015625)\"/>\n     </defs>\n     <use xlink:href=\"#DejaVuSans-50\"/>\n     <use xlink:href=\"#DejaVuSans-72\" x=\"58.552734\"/>\n     <use xlink:href=\"#DejaVuSans-6f\" x=\"97.416016\"/>\n     <use xlink:href=\"#DejaVuSans-62\" x=\"158.597656\"/>\n     <use xlink:href=\"#DejaVuSans-61\" x=\"222.074219\"/>\n     <use xlink:href=\"#DejaVuSans-62\" x=\"283.353516\"/>\n     <use xlink:href=\"#DejaVuSans-69\" x=\"346.830078\"/>\n     <use xlink:href=\"#DejaVuSans-6c\" x=\"374.613281\"/>\n     <use xlink:href=\"#DejaVuSans-69\" x=\"402.396484\"/>\n     <use xlink:href=\"#DejaVuSans-74\" x=\"430.179688\"/>\n     <use xlink:href=\"#DejaVuSans-79\" x=\"469.388672\"/>\n     <use xlink:href=\"#DejaVuSans-20\" x=\"528.568359\"/>\n     <use xlink:href=\"#DejaVuSans-64\" x=\"560.355469\"/>\n     <use xlink:href=\"#DejaVuSans-69\" x=\"623.832031\"/>\n     <use xlink:href=\"#DejaVuSans-73\" x=\"651.615234\"/>\n     <use xlink:href=\"#DejaVuSans-74\" x=\"703.714844\"/>\n     <use xlink:href=\"#DejaVuSans-72\" x=\"742.923828\"/>\n     <use xlink:href=\"#DejaVuSans-69\" x=\"784.037109\"/>\n     <use xlink:href=\"#DejaVuSans-62\" x=\"811.820312\"/>\n     <use xlink:href=\"#DejaVuSans-75\" x=\"875.296875\"/>\n     <use xlink:href=\"#DejaVuSans-74\" x=\"938.675781\"/>\n     <use xlink:href=\"#DejaVuSans-69\" x=\"977.884766\"/>\n     <use xlink:href=\"#DejaVuSans-6f\" x=\"1005.667969\"/>\n     <use xlink:href=\"#DejaVuSans-6e\" x=\"1066.849609\"/>\n    </g>\n   </g>\n  </g>\n  <g id=\"axes_2\">\n   <g id=\"patch_106\">\n    <path d=\"M 398.815744 194.98975 \nL 680.552643 194.98975 \nL 680.552643 24.14175 \nL 398.815744 24.14175 \nz\n\" style=\"fill: #ffffff\"/>\n   </g>\n   <g id=\"matplotlib.axis_3\">\n    <g id=\"xtick_6\">\n     <g id=\"line2d_39\">\n      <g>\n       <use xlink:href=\"#md76c636cbf\" x=\"398.815744\" y=\"194.98975\" style=\"stroke: #000000; stroke-width: 0.8\"/>\n      </g>\n     </g>\n     <g id=\"text_13\">\n      <!-- 0 -->\n      <g transform=\"translate(394.998244 211.107875) scale(0.12 -0.12)\">\n       <use xlink:href=\"#DejaVuSans-30\"/>\n      </g>\n     </g>\n    </g>\n    <g id=\"xtick_7\">\n     <g id=\"line2d_40\">\n      <g>\n       <use xlink:href=\"#md76c636cbf\" x=\"455.163124\" y=\"194.98975\" style=\"stroke: #000000; stroke-width: 0.8\"/>\n      </g>\n     </g>\n     <g id=\"text_14\">\n      <!-- 2000 -->\n      <g transform=\"translate(439.893124 211.107875) scale(0.12 -0.12)\">\n       <use xlink:href=\"#DejaVuSans-32\"/>\n       <use xlink:href=\"#DejaVuSans-30\" x=\"63.623047\"/>\n       <use xlink:href=\"#DejaVuSans-30\" x=\"127.246094\"/>\n       <use xlink:href=\"#DejaVuSans-30\" x=\"190.869141\"/>\n      </g>\n     </g>\n    </g>\n    <g id=\"xtick_8\">\n     <g id=\"line2d_41\">\n      <g>\n       <use xlink:href=\"#md76c636cbf\" x=\"511.510504\" y=\"194.98975\" style=\"stroke: #000000; stroke-width: 0.8\"/>\n      </g>\n     </g>\n     <g id=\"text_15\">\n      <!-- 4000 -->\n      <g transform=\"translate(496.240504 211.107875) scale(0.12 -0.12)\">\n       <defs>\n        <path id=\"DejaVuSans-34\" d=\"M 2419 4116 \nL 825 1625 \nL 2419 1625 \nL 2419 4116 \nz\nM 2253 4666 \nL 3047 4666 \nL 3047 1625 \nL 3713 1625 \nL 3713 1100 \nL 3047 1100 \nL 3047 0 \nL 2419 0 \nL 2419 1100 \nL 313 1100 \nL 313 1709 \nL 2253 4666 \nz\n\" transform=\"scale(0.015625)\"/>\n       </defs>\n       <use xlink:href=\"#DejaVuSans-34\"/>\n       <use xlink:href=\"#DejaVuSans-30\" x=\"63.623047\"/>\n       <use xlink:href=\"#DejaVuSans-30\" x=\"127.246094\"/>\n       <use xlink:href=\"#DejaVuSans-30\" x=\"190.869141\"/>\n      </g>\n     </g>\n    </g>\n    <g id=\"xtick_9\">\n     <g id=\"line2d_42\">\n      <g>\n       <use xlink:href=\"#md76c636cbf\" x=\"567.857883\" y=\"194.98975\" style=\"stroke: #000000; stroke-width: 0.8\"/>\n      </g>\n     </g>\n     <g id=\"text_16\">\n      <!-- 6000 -->\n      <g transform=\"translate(552.587883 211.107875) scale(0.12 -0.12)\">\n       <defs>\n        <path id=\"DejaVuSans-36\" d=\"M 2113 2584 \nQ 1688 2584 1439 2293 \nQ 1191 2003 1191 1497 \nQ 1191 994 1439 701 \nQ 1688 409 2113 409 \nQ 2538 409 2786 701 \nQ 3034 994 3034 1497 \nQ 3034 2003 2786 2293 \nQ 2538 2584 2113 2584 \nz\nM 3366 4563 \nL 3366 3988 \nQ 3128 4100 2886 4159 \nQ 2644 4219 2406 4219 \nQ 1781 4219 1451 3797 \nQ 1122 3375 1075 2522 \nQ 1259 2794 1537 2939 \nQ 1816 3084 2150 3084 \nQ 2853 3084 3261 2657 \nQ 3669 2231 3669 1497 \nQ 3669 778 3244 343 \nQ 2819 -91 2113 -91 \nQ 1303 -91 875 529 \nQ 447 1150 447 2328 \nQ 447 3434 972 4092 \nQ 1497 4750 2381 4750 \nQ 2619 4750 2861 4703 \nQ 3103 4656 3366 4563 \nz\n\" transform=\"scale(0.015625)\"/>\n       </defs>\n       <use xlink:href=\"#DejaVuSans-36\"/>\n       <use xlink:href=\"#DejaVuSans-30\" x=\"63.623047\"/>\n       <use xlink:href=\"#DejaVuSans-30\" x=\"127.246094\"/>\n       <use xlink:href=\"#DejaVuSans-30\" x=\"190.869141\"/>\n      </g>\n     </g>\n    </g>\n    <g id=\"xtick_10\">\n     <g id=\"line2d_43\">\n      <g>\n       <use xlink:href=\"#md76c636cbf\" x=\"624.205263\" y=\"194.98975\" style=\"stroke: #000000; stroke-width: 0.8\"/>\n      </g>\n     </g>\n     <g id=\"text_17\">\n      <!-- 8000 -->\n      <g transform=\"translate(608.935263 211.107875) scale(0.12 -0.12)\">\n       <defs>\n        <path id=\"DejaVuSans-38\" d=\"M 2034 2216 \nQ 1584 2216 1326 1975 \nQ 1069 1734 1069 1313 \nQ 1069 891 1326 650 \nQ 1584 409 2034 409 \nQ 2484 409 2743 651 \nQ 3003 894 3003 1313 \nQ 3003 1734 2745 1975 \nQ 2488 2216 2034 2216 \nz\nM 1403 2484 \nQ 997 2584 770 2862 \nQ 544 3141 544 3541 \nQ 544 4100 942 4425 \nQ 1341 4750 2034 4750 \nQ 2731 4750 3128 4425 \nQ 3525 4100 3525 3541 \nQ 3525 3141 3298 2862 \nQ 3072 2584 2669 2484 \nQ 3125 2378 3379 2068 \nQ 3634 1759 3634 1313 \nQ 3634 634 3220 271 \nQ 2806 -91 2034 -91 \nQ 1263 -91 848 271 \nQ 434 634 434 1313 \nQ 434 1759 690 2068 \nQ 947 2378 1403 2484 \nz\nM 1172 3481 \nQ 1172 3119 1398 2916 \nQ 1625 2713 2034 2713 \nQ 2441 2713 2670 2916 \nQ 2900 3119 2900 3481 \nQ 2900 3844 2670 4047 \nQ 2441 4250 2034 4250 \nQ 1625 4250 1398 4047 \nQ 1172 3844 1172 3481 \nz\n\" transform=\"scale(0.015625)\"/>\n       </defs>\n       <use xlink:href=\"#DejaVuSans-38\"/>\n       <use xlink:href=\"#DejaVuSans-30\" x=\"63.623047\"/>\n       <use xlink:href=\"#DejaVuSans-30\" x=\"127.246094\"/>\n       <use xlink:href=\"#DejaVuSans-30\" x=\"190.869141\"/>\n      </g>\n     </g>\n    </g>\n    <g id=\"xtick_11\">\n     <g id=\"line2d_44\">\n      <g>\n       <use xlink:href=\"#md76c636cbf\" x=\"680.552643\" y=\"194.98975\" style=\"stroke: #000000; stroke-width: 0.8\"/>\n      </g>\n     </g>\n     <g id=\"text_18\">\n      <!-- 10000 -->\n      <g transform=\"translate(661.465143 211.107875) scale(0.12 -0.12)\">\n       <use xlink:href=\"#DejaVuSans-31\"/>\n       <use xlink:href=\"#DejaVuSans-30\" x=\"63.623047\"/>\n       <use xlink:href=\"#DejaVuSans-30\" x=\"127.246094\"/>\n       <use xlink:href=\"#DejaVuSans-30\" x=\"190.869141\"/>\n       <use xlink:href=\"#DejaVuSans-30\" x=\"254.492188\"/>\n      </g>\n     </g>\n    </g>\n    <g id=\"xtick_12\">\n     <g id=\"line2d_45\">\n      <defs>\n       <path id=\"m00c82ea766\" d=\"M 0 0 \nL 0 2 \n\" style=\"stroke: #000000; stroke-width: 0.6\"/>\n      </defs>\n      <g>\n       <use xlink:href=\"#m00c82ea766\" x=\"412.902589\" y=\"194.98975\" style=\"stroke: #000000; stroke-width: 0.6\"/>\n      </g>\n     </g>\n    </g>\n    <g id=\"xtick_13\">\n     <g id=\"line2d_46\">\n      <g>\n       <use xlink:href=\"#m00c82ea766\" x=\"426.989434\" y=\"194.98975\" style=\"stroke: #000000; stroke-width: 0.6\"/>\n      </g>\n     </g>\n    </g>\n    <g id=\"xtick_14\">\n     <g id=\"line2d_47\">\n      <g>\n       <use xlink:href=\"#m00c82ea766\" x=\"441.076279\" y=\"194.98975\" style=\"stroke: #000000; stroke-width: 0.6\"/>\n      </g>\n     </g>\n    </g>\n    <g id=\"xtick_15\">\n     <g id=\"line2d_48\">\n      <g>\n       <use xlink:href=\"#m00c82ea766\" x=\"469.249969\" y=\"194.98975\" style=\"stroke: #000000; stroke-width: 0.6\"/>\n      </g>\n     </g>\n    </g>\n    <g id=\"xtick_16\">\n     <g id=\"line2d_49\">\n      <g>\n       <use xlink:href=\"#m00c82ea766\" x=\"483.336814\" y=\"194.98975\" style=\"stroke: #000000; stroke-width: 0.6\"/>\n      </g>\n     </g>\n    </g>\n    <g id=\"xtick_17\">\n     <g id=\"line2d_50\">\n      <g>\n       <use xlink:href=\"#m00c82ea766\" x=\"497.423659\" y=\"194.98975\" style=\"stroke: #000000; stroke-width: 0.6\"/>\n      </g>\n     </g>\n    </g>\n    <g id=\"xtick_18\">\n     <g id=\"line2d_51\">\n      <g>\n       <use xlink:href=\"#m00c82ea766\" x=\"525.597348\" y=\"194.98975\" style=\"stroke: #000000; stroke-width: 0.6\"/>\n      </g>\n     </g>\n    </g>\n    <g id=\"xtick_19\">\n     <g id=\"line2d_52\">\n      <g>\n       <use xlink:href=\"#m00c82ea766\" x=\"539.684193\" y=\"194.98975\" style=\"stroke: #000000; stroke-width: 0.6\"/>\n      </g>\n     </g>\n    </g>\n    <g id=\"xtick_20\">\n     <g id=\"line2d_53\">\n      <g>\n       <use xlink:href=\"#m00c82ea766\" x=\"553.771038\" y=\"194.98975\" style=\"stroke: #000000; stroke-width: 0.6\"/>\n      </g>\n     </g>\n    </g>\n    <g id=\"xtick_21\">\n     <g id=\"line2d_54\">\n      <g>\n       <use xlink:href=\"#m00c82ea766\" x=\"581.944728\" y=\"194.98975\" style=\"stroke: #000000; stroke-width: 0.6\"/>\n      </g>\n     </g>\n    </g>\n    <g id=\"xtick_22\">\n     <g id=\"line2d_55\">\n      <g>\n       <use xlink:href=\"#m00c82ea766\" x=\"596.031573\" y=\"194.98975\" style=\"stroke: #000000; stroke-width: 0.6\"/>\n      </g>\n     </g>\n    </g>\n    <g id=\"xtick_23\">\n     <g id=\"line2d_56\">\n      <g>\n       <use xlink:href=\"#m00c82ea766\" x=\"610.118418\" y=\"194.98975\" style=\"stroke: #000000; stroke-width: 0.6\"/>\n      </g>\n     </g>\n    </g>\n    <g id=\"xtick_24\">\n     <g id=\"line2d_57\">\n      <g>\n       <use xlink:href=\"#m00c82ea766\" x=\"638.292108\" y=\"194.98975\" style=\"stroke: #000000; stroke-width: 0.6\"/>\n      </g>\n     </g>\n    </g>\n    <g id=\"xtick_25\">\n     <g id=\"line2d_58\">\n      <g>\n       <use xlink:href=\"#m00c82ea766\" x=\"652.378953\" y=\"194.98975\" style=\"stroke: #000000; stroke-width: 0.6\"/>\n      </g>\n     </g>\n    </g>\n    <g id=\"xtick_26\">\n     <g id=\"line2d_59\">\n      <g>\n       <use xlink:href=\"#m00c82ea766\" x=\"666.465798\" y=\"194.98975\" style=\"stroke: #000000; stroke-width: 0.6\"/>\n      </g>\n     </g>\n    </g>\n    <g id=\"text_19\">\n     <!-- Token (descending probability) -->\n     <g transform=\"translate(447.602943 226.721625) scale(0.12 -0.12)\">\n      <defs>\n       <path id=\"DejaVuSans-54\" d=\"M -19 4666 \nL 3928 4666 \nL 3928 4134 \nL 2272 4134 \nL 2272 0 \nL 1638 0 \nL 1638 4134 \nL -19 4134 \nL -19 4666 \nz\n\" transform=\"scale(0.015625)\"/>\n       <path id=\"DejaVuSans-6b\" d=\"M 581 4863 \nL 1159 4863 \nL 1159 1991 \nL 2875 3500 \nL 3609 3500 \nL 1753 1863 \nL 3688 0 \nL 2938 0 \nL 1159 1709 \nL 1159 0 \nL 581 0 \nL 581 4863 \nz\n\" transform=\"scale(0.015625)\"/>\n       <path id=\"DejaVuSans-65\" d=\"M 3597 1894 \nL 3597 1613 \nL 953 1613 \nQ 991 1019 1311 708 \nQ 1631 397 2203 397 \nQ 2534 397 2845 478 \nQ 3156 559 3463 722 \nL 3463 178 \nQ 3153 47 2828 -22 \nQ 2503 -91 2169 -91 \nQ 1331 -91 842 396 \nQ 353 884 353 1716 \nQ 353 2575 817 3079 \nQ 1281 3584 2069 3584 \nQ 2775 3584 3186 3129 \nQ 3597 2675 3597 1894 \nz\nM 3022 2063 \nQ 3016 2534 2758 2815 \nQ 2500 3097 2075 3097 \nQ 1594 3097 1305 2825 \nQ 1016 2553 972 2059 \nL 3022 2063 \nz\n\" transform=\"scale(0.015625)\"/>\n       <path id=\"DejaVuSans-28\" d=\"M 1984 4856 \nQ 1566 4138 1362 3434 \nQ 1159 2731 1159 2009 \nQ 1159 1288 1364 580 \nQ 1569 -128 1984 -844 \nL 1484 -844 \nQ 1016 -109 783 600 \nQ 550 1309 550 2009 \nQ 550 2706 781 3412 \nQ 1013 4119 1484 4856 \nL 1984 4856 \nz\n\" transform=\"scale(0.015625)\"/>\n       <path id=\"DejaVuSans-63\" d=\"M 3122 3366 \nL 3122 2828 \nQ 2878 2963 2633 3030 \nQ 2388 3097 2138 3097 \nQ 1578 3097 1268 2742 \nQ 959 2388 959 1747 \nQ 959 1106 1268 751 \nQ 1578 397 2138 397 \nQ 2388 397 2633 464 \nQ 2878 531 3122 666 \nL 3122 134 \nQ 2881 22 2623 -34 \nQ 2366 -91 2075 -91 \nQ 1284 -91 818 406 \nQ 353 903 353 1747 \nQ 353 2603 823 3093 \nQ 1294 3584 2113 3584 \nQ 2378 3584 2631 3529 \nQ 2884 3475 3122 3366 \nz\n\" transform=\"scale(0.015625)\"/>\n       <path id=\"DejaVuSans-67\" d=\"M 2906 1791 \nQ 2906 2416 2648 2759 \nQ 2391 3103 1925 3103 \nQ 1463 3103 1205 2759 \nQ 947 2416 947 1791 \nQ 947 1169 1205 825 \nQ 1463 481 1925 481 \nQ 2391 481 2648 825 \nQ 2906 1169 2906 1791 \nz\nM 3481 434 \nQ 3481 -459 3084 -895 \nQ 2688 -1331 1869 -1331 \nQ 1566 -1331 1297 -1286 \nQ 1028 -1241 775 -1147 \nL 775 -588 \nQ 1028 -725 1275 -790 \nQ 1522 -856 1778 -856 \nQ 2344 -856 2625 -561 \nQ 2906 -266 2906 331 \nL 2906 616 \nQ 2728 306 2450 153 \nQ 2172 0 1784 0 \nQ 1141 0 747 490 \nQ 353 981 353 1791 \nQ 353 2603 747 3093 \nQ 1141 3584 1784 3584 \nQ 2172 3584 2450 3431 \nQ 2728 3278 2906 2969 \nL 2906 3500 \nL 3481 3500 \nL 3481 434 \nz\n\" transform=\"scale(0.015625)\"/>\n       <path id=\"DejaVuSans-70\" d=\"M 1159 525 \nL 1159 -1331 \nL 581 -1331 \nL 581 3500 \nL 1159 3500 \nL 1159 2969 \nQ 1341 3281 1617 3432 \nQ 1894 3584 2278 3584 \nQ 2916 3584 3314 3078 \nQ 3713 2572 3713 1747 \nQ 3713 922 3314 415 \nQ 2916 -91 2278 -91 \nQ 1894 -91 1617 61 \nQ 1341 213 1159 525 \nz\nM 3116 1747 \nQ 3116 2381 2855 2742 \nQ 2594 3103 2138 3103 \nQ 1681 3103 1420 2742 \nQ 1159 2381 1159 1747 \nQ 1159 1113 1420 752 \nQ 1681 391 2138 391 \nQ 2594 391 2855 752 \nQ 3116 1113 3116 1747 \nz\n\" transform=\"scale(0.015625)\"/>\n       <path id=\"DejaVuSans-29\" d=\"M 513 4856 \nL 1013 4856 \nQ 1481 4119 1714 3412 \nQ 1947 2706 1947 2009 \nQ 1947 1309 1714 600 \nQ 1481 -109 1013 -844 \nL 513 -844 \nQ 928 -128 1133 580 \nQ 1338 1288 1338 2009 \nQ 1338 2731 1133 3434 \nQ 928 4138 513 4856 \nz\n\" transform=\"scale(0.015625)\"/>\n      </defs>\n      <use xlink:href=\"#DejaVuSans-54\"/>\n      <use xlink:href=\"#DejaVuSans-6f\" x=\"44.083984\"/>\n      <use xlink:href=\"#DejaVuSans-6b\" x=\"105.265625\"/>\n      <use xlink:href=\"#DejaVuSans-65\" x=\"159.550781\"/>\n      <use xlink:href=\"#DejaVuSans-6e\" x=\"221.074219\"/>\n      <use xlink:href=\"#DejaVuSans-20\" x=\"284.453125\"/>\n      <use xlink:href=\"#DejaVuSans-28\" x=\"316.240234\"/>\n      <use xlink:href=\"#DejaVuSans-64\" x=\"355.253906\"/>\n      <use xlink:href=\"#DejaVuSans-65\" x=\"418.730469\"/>\n      <use xlink:href=\"#DejaVuSans-73\" x=\"480.253906\"/>\n      <use xlink:href=\"#DejaVuSans-63\" x=\"532.353516\"/>\n      <use xlink:href=\"#DejaVuSans-65\" x=\"587.333984\"/>\n      <use xlink:href=\"#DejaVuSans-6e\" x=\"648.857422\"/>\n      <use xlink:href=\"#DejaVuSans-64\" x=\"712.236328\"/>\n      <use xlink:href=\"#DejaVuSans-69\" x=\"775.712891\"/>\n      <use xlink:href=\"#DejaVuSans-6e\" x=\"803.496094\"/>\n      <use xlink:href=\"#DejaVuSans-67\" x=\"866.875\"/>\n      <use xlink:href=\"#DejaVuSans-20\" x=\"930.351562\"/>\n      <use xlink:href=\"#DejaVuSans-70\" x=\"962.138672\"/>\n      <use xlink:href=\"#DejaVuSans-72\" x=\"1025.615234\"/>\n      <use xlink:href=\"#DejaVuSans-6f\" x=\"1064.478516\"/>\n      <use xlink:href=\"#DejaVuSans-62\" x=\"1125.660156\"/>\n      <use xlink:href=\"#DejaVuSans-61\" x=\"1189.136719\"/>\n      <use xlink:href=\"#DejaVuSans-62\" x=\"1250.416016\"/>\n      <use xlink:href=\"#DejaVuSans-69\" x=\"1313.892578\"/>\n      <use xlink:href=\"#DejaVuSans-6c\" x=\"1341.675781\"/>\n      <use xlink:href=\"#DejaVuSans-69\" x=\"1369.458984\"/>\n      <use xlink:href=\"#DejaVuSans-74\" x=\"1397.242188\"/>\n      <use xlink:href=\"#DejaVuSans-79\" x=\"1436.451172\"/>\n      <use xlink:href=\"#DejaVuSans-29\" x=\"1495.630859\"/>\n     </g>\n    </g>\n   </g>\n   <g id=\"matplotlib.axis_4\">\n    <g id=\"ytick_34\">\n     <g id=\"line2d_60\">\n      <g>\n       <use xlink:href=\"#m019cef8a26\" x=\"398.815744\" y=\"194.98975\" style=\"stroke: #000000; stroke-width: 0.8\"/>\n      </g>\n     </g>\n     <g id=\"text_20\">\n      <!-- 0.75 -->\n      <g transform=\"translate(365.096994 199.548812) scale(0.12 -0.12)\">\n       <defs>\n        <path id=\"DejaVuSans-2e\" d=\"M 684 794 \nL 1344 794 \nL 1344 0 \nL 684 0 \nL 684 794 \nz\n\" transform=\"scale(0.015625)\"/>\n       </defs>\n       <use xlink:href=\"#DejaVuSans-30\"/>\n       <use xlink:href=\"#DejaVuSans-2e\" x=\"63.623047\"/>\n       <use xlink:href=\"#DejaVuSans-37\" x=\"95.410156\"/>\n       <use xlink:href=\"#DejaVuSans-35\" x=\"159.033203\"/>\n      </g>\n     </g>\n    </g>\n    <g id=\"ytick_35\">\n     <g id=\"line2d_61\">\n      <g>\n       <use xlink:href=\"#m019cef8a26\" x=\"398.815744\" y=\"162.134365\" style=\"stroke: #000000; stroke-width: 0.8\"/>\n      </g>\n     </g>\n     <g id=\"text_21\">\n      <!-- 0.80 -->\n      <g transform=\"translate(365.096994 166.693428) scale(0.12 -0.12)\">\n       <use xlink:href=\"#DejaVuSans-30\"/>\n       <use xlink:href=\"#DejaVuSans-2e\" x=\"63.623047\"/>\n       <use xlink:href=\"#DejaVuSans-38\" x=\"95.410156\"/>\n       <use xlink:href=\"#DejaVuSans-30\" x=\"159.033203\"/>\n      </g>\n     </g>\n    </g>\n    <g id=\"ytick_36\">\n     <g id=\"line2d_62\">\n      <g>\n       <use xlink:href=\"#m019cef8a26\" x=\"398.815744\" y=\"129.278981\" style=\"stroke: #000000; stroke-width: 0.8\"/>\n      </g>\n     </g>\n     <g id=\"text_22\">\n      <!-- 0.85 -->\n      <g transform=\"translate(365.096994 133.838043) scale(0.12 -0.12)\">\n       <use xlink:href=\"#DejaVuSans-30\"/>\n       <use xlink:href=\"#DejaVuSans-2e\" x=\"63.623047\"/>\n       <use xlink:href=\"#DejaVuSans-38\" x=\"95.410156\"/>\n       <use xlink:href=\"#DejaVuSans-35\" x=\"159.033203\"/>\n      </g>\n     </g>\n    </g>\n    <g id=\"ytick_37\">\n     <g id=\"line2d_63\">\n      <g>\n       <use xlink:href=\"#m019cef8a26\" x=\"398.815744\" y=\"96.423596\" style=\"stroke: #000000; stroke-width: 0.8\"/>\n      </g>\n     </g>\n     <g id=\"text_23\">\n      <!-- 0.90 -->\n      <g transform=\"translate(365.096994 100.982659) scale(0.12 -0.12)\">\n       <use xlink:href=\"#DejaVuSans-30\"/>\n       <use xlink:href=\"#DejaVuSans-2e\" x=\"63.623047\"/>\n       <use xlink:href=\"#DejaVuSans-39\" x=\"95.410156\"/>\n       <use xlink:href=\"#DejaVuSans-30\" x=\"159.033203\"/>\n      </g>\n     </g>\n    </g>\n    <g id=\"ytick_38\">\n     <g id=\"line2d_64\">\n      <g>\n       <use xlink:href=\"#m019cef8a26\" x=\"398.815744\" y=\"63.568212\" style=\"stroke: #000000; stroke-width: 0.8\"/>\n      </g>\n     </g>\n     <g id=\"text_24\">\n      <!-- 0.95 -->\n      <g transform=\"translate(365.096994 68.127274) scale(0.12 -0.12)\">\n       <use xlink:href=\"#DejaVuSans-30\"/>\n       <use xlink:href=\"#DejaVuSans-2e\" x=\"63.623047\"/>\n       <use xlink:href=\"#DejaVuSans-39\" x=\"95.410156\"/>\n       <use xlink:href=\"#DejaVuSans-35\" x=\"159.033203\"/>\n      </g>\n     </g>\n    </g>\n    <g id=\"ytick_39\">\n     <g id=\"line2d_65\">\n      <g>\n       <use xlink:href=\"#m019cef8a26\" x=\"398.815744\" y=\"30.712827\" style=\"stroke: #000000; stroke-width: 0.8\"/>\n      </g>\n     </g>\n     <g id=\"text_25\">\n      <!-- 1.00 -->\n      <g transform=\"translate(365.096994 35.271889) scale(0.12 -0.12)\">\n       <use xlink:href=\"#DejaVuSans-31\"/>\n       <use xlink:href=\"#DejaVuSans-2e\" x=\"63.623047\"/>\n       <use xlink:href=\"#DejaVuSans-30\" x=\"95.410156\"/>\n       <use xlink:href=\"#DejaVuSans-30\" x=\"159.033203\"/>\n      </g>\n     </g>\n    </g>\n    <g id=\"ytick_40\">\n     <g id=\"line2d_66\">\n      <g>\n       <use xlink:href=\"#m72c1a0c8a1\" x=\"398.815744\" y=\"188.418673\" style=\"stroke: #000000; stroke-width: 0.6\"/>\n      </g>\n     </g>\n    </g>\n    <g id=\"ytick_41\">\n     <g id=\"line2d_67\">\n      <g>\n       <use xlink:href=\"#m72c1a0c8a1\" x=\"398.815744\" y=\"181.847596\" style=\"stroke: #000000; stroke-width: 0.6\"/>\n      </g>\n     </g>\n    </g>\n    <g id=\"ytick_42\">\n     <g id=\"line2d_68\">\n      <g>\n       <use xlink:href=\"#m72c1a0c8a1\" x=\"398.815744\" y=\"175.276519\" style=\"stroke: #000000; stroke-width: 0.6\"/>\n      </g>\n     </g>\n    </g>\n    <g id=\"ytick_43\">\n     <g id=\"line2d_69\">\n      <g>\n       <use xlink:href=\"#m72c1a0c8a1\" x=\"398.815744\" y=\"168.705442\" style=\"stroke: #000000; stroke-width: 0.6\"/>\n      </g>\n     </g>\n    </g>\n    <g id=\"ytick_44\">\n     <g id=\"line2d_70\">\n      <g>\n       <use xlink:href=\"#m72c1a0c8a1\" x=\"398.815744\" y=\"155.563288\" style=\"stroke: #000000; stroke-width: 0.6\"/>\n      </g>\n     </g>\n    </g>\n    <g id=\"ytick_45\">\n     <g id=\"line2d_71\">\n      <g>\n       <use xlink:href=\"#m72c1a0c8a1\" x=\"398.815744\" y=\"148.992212\" style=\"stroke: #000000; stroke-width: 0.6\"/>\n      </g>\n     </g>\n    </g>\n    <g id=\"ytick_46\">\n     <g id=\"line2d_72\">\n      <g>\n       <use xlink:href=\"#m72c1a0c8a1\" x=\"398.815744\" y=\"142.421135\" style=\"stroke: #000000; stroke-width: 0.6\"/>\n      </g>\n     </g>\n    </g>\n    <g id=\"ytick_47\">\n     <g id=\"line2d_73\">\n      <g>\n       <use xlink:href=\"#m72c1a0c8a1\" x=\"398.815744\" y=\"135.850058\" style=\"stroke: #000000; stroke-width: 0.6\"/>\n      </g>\n     </g>\n    </g>\n    <g id=\"ytick_48\">\n     <g id=\"line2d_74\">\n      <g>\n       <use xlink:href=\"#m72c1a0c8a1\" x=\"398.815744\" y=\"122.707904\" style=\"stroke: #000000; stroke-width: 0.6\"/>\n      </g>\n     </g>\n    </g>\n    <g id=\"ytick_49\">\n     <g id=\"line2d_75\">\n      <g>\n       <use xlink:href=\"#m72c1a0c8a1\" x=\"398.815744\" y=\"116.136827\" style=\"stroke: #000000; stroke-width: 0.6\"/>\n      </g>\n     </g>\n    </g>\n    <g id=\"ytick_50\">\n     <g id=\"line2d_76\">\n      <g>\n       <use xlink:href=\"#m72c1a0c8a1\" x=\"398.815744\" y=\"109.56575\" style=\"stroke: #000000; stroke-width: 0.6\"/>\n      </g>\n     </g>\n    </g>\n    <g id=\"ytick_51\">\n     <g id=\"line2d_77\">\n      <g>\n       <use xlink:href=\"#m72c1a0c8a1\" x=\"398.815744\" y=\"102.994673\" style=\"stroke: #000000; stroke-width: 0.6\"/>\n      </g>\n     </g>\n    </g>\n    <g id=\"ytick_52\">\n     <g id=\"line2d_78\">\n      <g>\n       <use xlink:href=\"#m72c1a0c8a1\" x=\"398.815744\" y=\"89.852519\" style=\"stroke: #000000; stroke-width: 0.6\"/>\n      </g>\n     </g>\n    </g>\n    <g id=\"ytick_53\">\n     <g id=\"line2d_79\">\n      <g>\n       <use xlink:href=\"#m72c1a0c8a1\" x=\"398.815744\" y=\"83.281442\" style=\"stroke: #000000; stroke-width: 0.6\"/>\n      </g>\n     </g>\n    </g>\n    <g id=\"ytick_54\">\n     <g id=\"line2d_80\">\n      <g>\n       <use xlink:href=\"#m72c1a0c8a1\" x=\"398.815744\" y=\"76.710365\" style=\"stroke: #000000; stroke-width: 0.6\"/>\n      </g>\n     </g>\n    </g>\n    <g id=\"ytick_55\">\n     <g id=\"line2d_81\">\n      <g>\n       <use xlink:href=\"#m72c1a0c8a1\" x=\"398.815744\" y=\"70.139288\" style=\"stroke: #000000; stroke-width: 0.6\"/>\n      </g>\n     </g>\n    </g>\n    <g id=\"ytick_56\">\n     <g id=\"line2d_82\">\n      <g>\n       <use xlink:href=\"#m72c1a0c8a1\" x=\"398.815744\" y=\"56.997135\" style=\"stroke: #000000; stroke-width: 0.6\"/>\n      </g>\n     </g>\n    </g>\n    <g id=\"ytick_57\">\n     <g id=\"line2d_83\">\n      <g>\n       <use xlink:href=\"#m72c1a0c8a1\" x=\"398.815744\" y=\"50.426058\" style=\"stroke: #000000; stroke-width: 0.6\"/>\n      </g>\n     </g>\n    </g>\n    <g id=\"ytick_58\">\n     <g id=\"line2d_84\">\n      <g>\n       <use xlink:href=\"#m72c1a0c8a1\" x=\"398.815744\" y=\"43.854981\" style=\"stroke: #000000; stroke-width: 0.6\"/>\n      </g>\n     </g>\n    </g>\n    <g id=\"ytick_59\">\n     <g id=\"line2d_85\">\n      <g>\n       <use xlink:href=\"#m72c1a0c8a1\" x=\"398.815744\" y=\"37.283904\" style=\"stroke: #000000; stroke-width: 0.6\"/>\n      </g>\n     </g>\n    </g>\n    <g id=\"ytick_60\">\n     <g id=\"line2d_86\">\n      <g>\n       <use xlink:href=\"#m72c1a0c8a1\" x=\"398.815744\" y=\"24.14175\" style=\"stroke: #000000; stroke-width: 0.6\"/>\n      </g>\n     </g>\n    </g>\n    <g id=\"text_26\">\n     <!-- Probability -->\n     <g transform=\"translate(358.601369 141.280438) rotate(-90) scale(0.12 -0.12)\">\n      <use xlink:href=\"#DejaVuSans-50\"/>\n      <use xlink:href=\"#DejaVuSans-72\" x=\"58.552734\"/>\n      <use xlink:href=\"#DejaVuSans-6f\" x=\"97.416016\"/>\n      <use xlink:href=\"#DejaVuSans-62\" x=\"158.597656\"/>\n      <use xlink:href=\"#DejaVuSans-61\" x=\"222.074219\"/>\n      <use xlink:href=\"#DejaVuSans-62\" x=\"283.353516\"/>\n      <use xlink:href=\"#DejaVuSans-69\" x=\"346.830078\"/>\n      <use xlink:href=\"#DejaVuSans-6c\" x=\"374.613281\"/>\n      <use xlink:href=\"#DejaVuSans-69\" x=\"402.396484\"/>\n      <use xlink:href=\"#DejaVuSans-74\" x=\"430.179688\"/>\n      <use xlink:href=\"#DejaVuSans-79\" x=\"469.388672\"/>\n     </g>\n    </g>\n   </g>\n   <g id=\"line2d_87\">\n    <path d=\"M 399.997024 237.41725 \nL 400.562513 207.979925 \nL 401.238682 183.407461 \nL 401.886676 167.909131 \nL 402.760061 153.104129 \nL 403.661619 140.766001 \nL 404.732219 129.283626 \nL 405.859167 119.514205 \nL 407.155156 110.232096 \nL 408.563841 101.902324 \nL 409.916178 95.354714 \nL 411.240341 89.97858 \nL 412.818068 84.574558 \nL 414.508489 79.575755 \nL 416.086216 75.562503 \nL 417.889332 71.607335 \nL 419.889664 67.711035 \nL 421.777301 64.531563 \nL 424.172065 60.952003 \nL 426.42596 57.971968 \nL 428.764377 55.238879 \nL 431.187314 52.748466 \nL 433.497556 50.6657 \nL 436.145883 48.575179 \nL 439.188642 46.464918 \nL 442.344095 44.564825 \nL 445.555896 42.904041 \nL 449.190302 41.273415 \nL 452.740187 39.91296 \nL 456.825372 38.587756 \nL 461.69942 37.253504 \nL 466.573468 36.147712 \nL 471.813775 35.19651 \nL 477.871118 34.314986 \nL 484.632803 33.571367 \nL 492.859521 32.905181 \nL 501.734233 32.399265 \nL 513.708051 31.944188 \nL 529.767055 31.586283 \nL 552.531396 31.317599 \nL 591.918214 31.100146 \nL 651.082963 30.964473 \nL 680.580816 30.923465 \nL 680.580816 30.923465 \n\" clip-path=\"url(#pcd0804dc1f)\" style=\"fill: none; stroke: #000000; stroke-width: 1.5; stroke-linecap: square\"/>\n   </g>\n   <g id=\"LineCollection_1\">\n    <path d=\"M 455.163124 237.41725 \nL 455.163124 -1 \n\" clip-path=\"url(#pcd0804dc1f)\" style=\"fill: none; stroke: #0071bc; stroke-width: 1.5\"/>\n   </g>\n   <g id=\"LineCollection_2\">\n    <path d=\"M 398.815744 63.568212 \nL 680.552643 63.568212 \n\" clip-path=\"url(#pcd0804dc1f)\" style=\"fill: none; stroke-dasharray: 5.55,2.4; stroke-dashoffset: 0; stroke: #f7931e; stroke-width: 1.5\"/>\n   </g>\n   <g id=\"patch_107\">\n    <path d=\"M 398.815744 194.98975 \nL 398.815744 24.14175 \n\" style=\"fill: none; stroke: #000000; stroke-width: 0.8; stroke-linejoin: miter; stroke-linecap: square\"/>\n   </g>\n   <g id=\"patch_108\">\n    <path d=\"M 680.552643 194.98975 \nL 680.552643 24.14175 \n\" style=\"fill: none; stroke: #000000; stroke-width: 0.8; stroke-linejoin: miter; stroke-linecap: square\"/>\n   </g>\n   <g id=\"patch_109\">\n    <path d=\"M 398.815744 194.98975 \nL 680.552643 194.98975 \n\" style=\"fill: none; stroke: #000000; stroke-width: 0.8; stroke-linejoin: miter; stroke-linecap: square\"/>\n   </g>\n   <g id=\"patch_110\">\n    <path d=\"M 398.815744 24.14175 \nL 680.552643 24.14175 \n\" style=\"fill: none; stroke: #000000; stroke-width: 0.8; stroke-linejoin: miter; stroke-linecap: square\"/>\n   </g>\n   <g id=\"text_27\">\n    <!-- Cumulative probability -->\n    <g transform=\"translate(457.888818 18.14175) scale(0.144 -0.144)\">\n     <defs>\n      <path id=\"DejaVuSans-6d\" d=\"M 3328 2828 \nQ 3544 3216 3844 3400 \nQ 4144 3584 4550 3584 \nQ 5097 3584 5394 3201 \nQ 5691 2819 5691 2113 \nL 5691 0 \nL 5113 0 \nL 5113 2094 \nQ 5113 2597 4934 2840 \nQ 4756 3084 4391 3084 \nQ 3944 3084 3684 2787 \nQ 3425 2491 3425 1978 \nL 3425 0 \nL 2847 0 \nL 2847 2094 \nQ 2847 2600 2669 2842 \nQ 2491 3084 2119 3084 \nQ 1678 3084 1418 2786 \nQ 1159 2488 1159 1978 \nL 1159 0 \nL 581 0 \nL 581 3500 \nL 1159 3500 \nL 1159 2956 \nQ 1356 3278 1631 3431 \nQ 1906 3584 2284 3584 \nQ 2666 3584 2933 3390 \nQ 3200 3197 3328 2828 \nz\n\" transform=\"scale(0.015625)\"/>\n      <path id=\"DejaVuSans-76\" d=\"M 191 3500 \nL 800 3500 \nL 1894 563 \nL 2988 3500 \nL 3597 3500 \nL 2284 0 \nL 1503 0 \nL 191 3500 \nz\n\" transform=\"scale(0.015625)\"/>\n     </defs>\n     <use xlink:href=\"#DejaVuSans-43\"/>\n     <use xlink:href=\"#DejaVuSans-75\" x=\"69.824219\"/>\n     <use xlink:href=\"#DejaVuSans-6d\" x=\"133.203125\"/>\n     <use xlink:href=\"#DejaVuSans-75\" x=\"230.615234\"/>\n     <use xlink:href=\"#DejaVuSans-6c\" x=\"293.994141\"/>\n     <use xlink:href=\"#DejaVuSans-61\" x=\"321.777344\"/>\n     <use xlink:href=\"#DejaVuSans-74\" x=\"383.056641\"/>\n     <use xlink:href=\"#DejaVuSans-69\" x=\"422.265625\"/>\n     <use xlink:href=\"#DejaVuSans-76\" x=\"450.048828\"/>\n     <use xlink:href=\"#DejaVuSans-65\" x=\"509.228516\"/>\n     <use xlink:href=\"#DejaVuSans-20\" x=\"570.751953\"/>\n     <use xlink:href=\"#DejaVuSans-70\" x=\"602.539062\"/>\n     <use xlink:href=\"#DejaVuSans-72\" x=\"666.015625\"/>\n     <use xlink:href=\"#DejaVuSans-6f\" x=\"704.878906\"/>\n     <use xlink:href=\"#DejaVuSans-62\" x=\"766.060547\"/>\n     <use xlink:href=\"#DejaVuSans-61\" x=\"829.537109\"/>\n     <use xlink:href=\"#DejaVuSans-62\" x=\"890.816406\"/>\n     <use xlink:href=\"#DejaVuSans-69\" x=\"954.292969\"/>\n     <use xlink:href=\"#DejaVuSans-6c\" x=\"982.076172\"/>\n     <use xlink:href=\"#DejaVuSans-69\" x=\"1009.859375\"/>\n     <use xlink:href=\"#DejaVuSans-74\" x=\"1037.642578\"/>\n     <use xlink:href=\"#DejaVuSans-79\" x=\"1076.851562\"/>\n    </g>\n   </g>\n   <g id=\"legend_1\">\n    <g id=\"patch_111\">\n     <path d=\"M 469.480143 188.98975 \nL 672.152643 188.98975 \nQ 674.552643 188.98975 674.552643 186.58975 \nL 674.552643 152.56225 \nQ 674.552643 150.16225 672.152643 150.16225 \nL 469.480143 150.16225 \nQ 467.080143 150.16225 467.080143 152.56225 \nL 467.080143 186.58975 \nQ 467.080143 188.98975 469.480143 188.98975 \nz\n\" style=\"fill: #ffffff; opacity: 0.8; stroke: #cccccc; stroke-linejoin: miter\"/>\n    </g>\n    <g id=\"line2d_88\">\n     <path d=\"M 471.880143 159.880375 \nL 495.880143 159.880375 \n\" style=\"fill: none; stroke: #0071bc; stroke-width: 1.5\"/>\n    </g>\n    <g id=\"text_28\">\n     <!-- top-k threshold (k=2000) -->\n     <g transform=\"translate(505.480143 164.080375) scale(0.12 -0.12)\">\n      <defs>\n       <path id=\"DejaVuSans-2d\" d=\"M 313 2009 \nL 1997 2009 \nL 1997 1497 \nL 313 1497 \nL 313 2009 \nz\n\" transform=\"scale(0.015625)\"/>\n       <path id=\"DejaVuSans-68\" d=\"M 3513 2113 \nL 3513 0 \nL 2938 0 \nL 2938 2094 \nQ 2938 2591 2744 2837 \nQ 2550 3084 2163 3084 \nQ 1697 3084 1428 2787 \nQ 1159 2491 1159 1978 \nL 1159 0 \nL 581 0 \nL 581 4863 \nL 1159 4863 \nL 1159 2956 \nQ 1366 3272 1645 3428 \nQ 1925 3584 2291 3584 \nQ 2894 3584 3203 3211 \nQ 3513 2838 3513 2113 \nz\n\" transform=\"scale(0.015625)\"/>\n       <path id=\"DejaVuSans-3d\" d=\"M 678 2906 \nL 4684 2906 \nL 4684 2381 \nL 678 2381 \nL 678 2906 \nz\nM 678 1631 \nL 4684 1631 \nL 4684 1100 \nL 678 1100 \nL 678 1631 \nz\n\" transform=\"scale(0.015625)\"/>\n      </defs>\n      <use xlink:href=\"#DejaVuSans-74\"/>\n      <use xlink:href=\"#DejaVuSans-6f\" x=\"39.208984\"/>\n      <use xlink:href=\"#DejaVuSans-70\" x=\"100.390625\"/>\n      <use xlink:href=\"#DejaVuSans-2d\" x=\"163.867188\"/>\n      <use xlink:href=\"#DejaVuSans-6b\" x=\"199.951172\"/>\n      <use xlink:href=\"#DejaVuSans-20\" x=\"257.861328\"/>\n      <use xlink:href=\"#DejaVuSans-74\" x=\"289.648438\"/>\n      <use xlink:href=\"#DejaVuSans-68\" x=\"328.857422\"/>\n      <use xlink:href=\"#DejaVuSans-72\" x=\"392.236328\"/>\n      <use xlink:href=\"#DejaVuSans-65\" x=\"431.099609\"/>\n      <use xlink:href=\"#DejaVuSans-73\" x=\"492.623047\"/>\n      <use xlink:href=\"#DejaVuSans-68\" x=\"544.722656\"/>\n      <use xlink:href=\"#DejaVuSans-6f\" x=\"608.101562\"/>\n      <use xlink:href=\"#DejaVuSans-6c\" x=\"669.283203\"/>\n      <use xlink:href=\"#DejaVuSans-64\" x=\"697.066406\"/>\n      <use xlink:href=\"#DejaVuSans-20\" x=\"760.542969\"/>\n      <use xlink:href=\"#DejaVuSans-28\" x=\"792.330078\"/>\n      <use xlink:href=\"#DejaVuSans-6b\" x=\"831.34375\"/>\n      <use xlink:href=\"#DejaVuSans-3d\" x=\"889.253906\"/>\n      <use xlink:href=\"#DejaVuSans-32\" x=\"973.042969\"/>\n      <use xlink:href=\"#DejaVuSans-30\" x=\"1036.666016\"/>\n      <use xlink:href=\"#DejaVuSans-30\" x=\"1100.289062\"/>\n      <use xlink:href=\"#DejaVuSans-30\" x=\"1163.912109\"/>\n      <use xlink:href=\"#DejaVuSans-29\" x=\"1227.535156\"/>\n     </g>\n    </g>\n    <g id=\"line2d_89\">\n     <path d=\"M 471.880143 177.494125 \nL 495.880143 177.494125 \n\" style=\"fill: none; stroke-dasharray: 5.55,2.4; stroke-dashoffset: 0; stroke: #f7931e; stroke-width: 1.5\"/>\n    </g>\n    <g id=\"text_29\">\n     <!-- nucleus threshold (p=0.95) -->\n     <g transform=\"translate(505.480143 181.694125) scale(0.12 -0.12)\">\n      <use xlink:href=\"#DejaVuSans-6e\"/>\n      <use xlink:href=\"#DejaVuSans-75\" x=\"63.378906\"/>\n      <use xlink:href=\"#DejaVuSans-63\" x=\"126.757812\"/>\n      <use xlink:href=\"#DejaVuSans-6c\" x=\"181.738281\"/>\n      <use xlink:href=\"#DejaVuSans-65\" x=\"209.521484\"/>\n      <use xlink:href=\"#DejaVuSans-75\" x=\"271.044922\"/>\n      <use xlink:href=\"#DejaVuSans-73\" x=\"334.423828\"/>\n      <use xlink:href=\"#DejaVuSans-20\" x=\"386.523438\"/>\n      <use xlink:href=\"#DejaVuSans-74\" x=\"418.310547\"/>\n      <use xlink:href=\"#DejaVuSans-68\" x=\"457.519531\"/>\n      <use xlink:href=\"#DejaVuSans-72\" x=\"520.898438\"/>\n      <use xlink:href=\"#DejaVuSans-65\" x=\"559.761719\"/>\n      <use xlink:href=\"#DejaVuSans-73\" x=\"621.285156\"/>\n      <use xlink:href=\"#DejaVuSans-68\" x=\"673.384766\"/>\n      <use xlink:href=\"#DejaVuSans-6f\" x=\"736.763672\"/>\n      <use xlink:href=\"#DejaVuSans-6c\" x=\"797.945312\"/>\n      <use xlink:href=\"#DejaVuSans-64\" x=\"825.728516\"/>\n      <use xlink:href=\"#DejaVuSans-20\" x=\"889.205078\"/>\n      <use xlink:href=\"#DejaVuSans-28\" x=\"920.992188\"/>\n      <use xlink:href=\"#DejaVuSans-70\" x=\"960.005859\"/>\n      <use xlink:href=\"#DejaVuSans-3d\" x=\"1023.482422\"/>\n      <use xlink:href=\"#DejaVuSans-30\" x=\"1107.271484\"/>\n      <use xlink:href=\"#DejaVuSans-2e\" x=\"1170.894531\"/>\n      <use xlink:href=\"#DejaVuSans-39\" x=\"1202.681641\"/>\n      <use xlink:href=\"#DejaVuSans-35\" x=\"1266.304688\"/>\n      <use xlink:href=\"#DejaVuSans-29\" x=\"1329.927734\"/>\n     </g>\n    </g>\n   </g>\n  </g>\n </g>\n <defs>\n  <clipPath id=\"p55a6c185e7\">\n   <rect x=\"50.93375\" y=\"24.14175\" width=\"281.736898\" height=\"170.848\"/>\n  </clipPath>\n  <clipPath id=\"pcd0804dc1f\">\n   <rect x=\"398.815744\" y=\"24.14175\" width=\"281.736898\" height=\"170.848\"/>\n  </clipPath>\n </defs>\n</svg>\n",
            "application/pdf": "[encoded data removed]"
          },
          "metadata": {}
        }
      ],
      "source": [
        "# hide_input\n",
        "\n",
        "#id distribution\n",
        "#alt Probability distribution of next token prediction.\n",
        "#caption Probability distribution of next token prediction (left) and cumulative distribution of descending token probabilities\n",
        "\n",
        "import matplotlib.pyplot as plt\n",
        "import numpy as np\n",
        "\n",
        "fig, axes = plt.subplots(1, 2, figsize=(10, 3.5))\n",
        "\n",
        "axes[0].hist(probs[0], bins=np.logspace(-10, -1, 100), color=\"C0\", edgecolor=\"C0\")\n",
        "axes[0].set_xscale(\"log\")\n",
        "axes[0].set_yscale(\"log\")\n",
        "axes[0].set_title(\"Probability distribution\")\n",
        "axes[0].set_xlabel(\"Probability\")\n",
        "axes[0].set_ylabel(\"Count\")\n",
        "#axes[0].grid(which=\"major\")\n",
        "\n",
        "axes[1].plot(np.cumsum(np.sort(probs[0])[::-1]), color=\"black\")\n",
        "axes[1].set_xlim([0, 10000])\n",
        "axes[1].set_ylim([0.75, 1.01])\n",
        "axes[1].set_title(\"Cumulative probability\")\n",
        "axes[1].set_ylabel(\"Probability\")\n",
        "axes[1].set_xlabel(\"Token (descending probability)\")\n",
        "#axes[1].grid(which=\"major\")\n",
        "axes[1].minorticks_on()\n",
        "#axes[1].grid(which='minor', linewidth='0.5')\n",
        "top_k_label = 'top-k threshold (k=2000)'\n",
        "top_p_label = 'nucleus threshold (p=0.95)'\n",
        "axes[1].vlines(x=2000, ymin=0, ymax=2, color='C0', label=top_k_label)\n",
        "axes[1].hlines(y=0.95, xmin=0, xmax=10000, color='C1', label=top_p_label, linestyle='--')\n",
        "axes[1].legend(loc='lower right')\n",
        "plt.tight_layout()"
      ]
    },
    {
      "cell_type": "code",
      "execution_count": 26,
      "metadata": {
        "id": "kWgRPFY0y2aX"
      },
      "outputs": [],
      "source": [
        "# hide\n",
        "torch.manual_seed(42);"
      ]
    },
    {
      "cell_type": "code",
      "execution_count": 27,
      "metadata": {
        "id": "xCb7vhtAy2aX",
        "outputId": "d3a00b6e-e7f3-4f5f-aa58-a0b7ccdf09f7",
        "colab": {
          "base_uri": "https://localhost:8080/"
        }
      },
      "outputs": [
        {
          "output_type": "stream",
          "name": "stdout",
          "text": [
            "In a shocking finding, scientist discovered a herd of unicorns living in a\n",
            "remote, previously unexplored valley, in the Andes Mountains. Even more\n",
            "surprising to the researchers was the fact that the unicorns spoke perfect\n",
            "English.\n",
            "\n",
            "\n",
            "To get to the mountains, the unicorn hunters began by travelling on horseback\n",
            "with a guide, and eventually reached the summit of the mountain, which was\n",
            "filled with a dense forest. The unicorns also spoke fluent Chinese. The first\n",
            "thing the group heard from the unicorn was \"Ding! duh dzang!\", literally \"papa,\n",
            "there\".\n",
            "\n",
            "\n",
            "The hunters discovered that the unicorns\n"
          ]
        }
      ],
      "source": [
        "output_topk = model.generate(input_ids, max_length=max_length, do_sample=True,\n",
        "                             top_k=50)\n",
        "print(tokenizer.decode(output_topk[0]))"
      ]
    },
    {
      "cell_type": "code",
      "execution_count": 28,
      "metadata": {
        "id": "5mBix99By2aX"
      },
      "outputs": [],
      "source": [
        "# hide\n",
        "torch.manual_seed(42);"
      ]
    },
    {
      "cell_type": "code",
      "execution_count": 29,
      "metadata": {
        "id": "DphV72wVy2aY",
        "outputId": "bb8a6270-0128-4728-fb8e-9ed676c16664",
        "colab": {
          "base_uri": "https://localhost:8080/"
        }
      },
      "outputs": [
        {
          "output_type": "stream",
          "name": "stdout",
          "text": [
            "In a shocking finding, scientist discovered a herd of unicorns living in a\n",
            "remote, previously unexplored valley, in the Andes Mountains. Even more\n",
            "surprising to the researchers was the fact that the unicorns spoke perfect\n",
            "English.\n",
            "\n",
            "\n",
            "To get to the unicorn herd, the researchers began by travelling about 1,800\n",
            "kilometers through the Andes. Once there, the scientists found a village filled\n",
            "with a herd of more than 300 unicorns, each with its own specific personality.\n",
            "Each unicorn spoke perfect English, which the team described as \"very unlike any\n",
            "other known creature in the world.\"\n",
            "\n",
            "Advertisement\n",
            "\n",
            "\"The first thought we had\n"
          ]
        }
      ],
      "source": [
        "output_topp = model.generate(input_ids, max_length=max_length, do_sample=True,\n",
        "                             top_p=0.90)\n",
        "print(tokenizer.decode(output_topp[0]))"
      ]
    },
    {
      "cell_type": "markdown",
      "metadata": {
        "id": "H_xckNG7y2aY"
      },
      "source": [
        "## Which Decoding Method Is Best?"
      ]
    },
    {
      "cell_type": "markdown",
      "metadata": {
        "id": "lNgsl_xdy2aY"
      },
      "source": [
        "## Conclusion"
      ]
    }
  ],
  "metadata": {
    "kernelspec": {
      "display_name": "Python 3",
      "name": "python3"
    },
    "colab": {
      "provenance": [],
      "gpuType": "V28"
    },
    "accelerator": "TPU",
    "widgets": {
      "application/vnd.jupyter.widget-state+json": {
        "c82273fd08c541cc9fcd739b2c47367d": {
          "model_module": "@jupyter-widgets/controls",
          "model_name": "VBoxModel",
          "model_module_version": "1.5.0",
          "state": {
            "_dom_classes": [],
            "_model_module": "@jupyter-widgets/controls",
            "_model_module_version": "1.5.0",
            "_model_name": "VBoxModel",
            "_view_count": null,
            "_view_module": "@jupyter-widgets/controls",
            "_view_module_version": "1.5.0",
            "_view_name": "VBoxView",
            "box_style": "",
            "children": [
              "IPY_MODEL_c01cd18d0b71466dafbd21f60955b19f",
              "IPY_MODEL_6f9bced80b1e4ef4a75bfbcccc1b1c43",
              "IPY_MODEL_8b8bc381ce3743acbcac3a968bebc52c",
              "IPY_MODEL_167b2bd333a1451a81bfcd64dffdcb94",
              "IPY_MODEL_d50f2348a92944db927a673388ba3da1"
            ],
            "layout": "IPY_MODEL_f2b8169af4cf4d4bb3152c2c240f4a77"
          }
        },
        "c01cd18d0b71466dafbd21f60955b19f": {
          "model_module": "@jupyter-widgets/controls",
          "model_name": "HTMLModel",
          "model_module_version": "1.5.0",
          "state": {
            "_dom_classes": [],
            "_model_module": "@jupyter-widgets/controls",
            "_model_module_version": "1.5.0",
            "_model_name": "HTMLModel",
            "_view_count": null,
            "_view_module": "@jupyter-widgets/controls",
            "_view_module_version": "1.5.0",
            "_view_name": "HTMLView",
            "description": "",
            "description_tooltip": null,
            "layout": "IPY_MODEL_46e1afef25e24f4b952bb18c093f180c",
            "placeholder": "​",
            "style": "IPY_MODEL_8c8a5a5bbb374805a2d637d42d52ce5d",
            "value": "<center> <img\nsrc=https://huggingface.co/front/assets/huggingface_logo-noborder.svg\nalt='Hugging Face'> <br> Copy a token from <a\nhref=\"https://huggingface.co/settings/tokens\" target=\"_blank\">your Hugging Face\ntokens page</a> and paste it below. <br> Immediately click login after copying\nyour token or it might be stored in plain text in this notebook file. </center>"
          }
        },
        "6f9bced80b1e4ef4a75bfbcccc1b1c43": {
          "model_module": "@jupyter-widgets/controls",
          "model_name": "PasswordModel",
          "model_module_version": "1.5.0",
          "state": {
            "_dom_classes": [],
            "_model_module": "@jupyter-widgets/controls",
            "_model_module_version": "1.5.0",
            "_model_name": "PasswordModel",
            "_view_count": null,
            "_view_module": "@jupyter-widgets/controls",
            "_view_module_version": "1.5.0",
            "_view_name": "PasswordView",
            "continuous_update": true,
            "description": "Token:",
            "description_tooltip": null,
            "disabled": false,
            "layout": "IPY_MODEL_13cad2a99d704363948aeadad8941b10",
            "placeholder": "​",
            "style": "IPY_MODEL_8682134d2b0c438ab64942b6704ddab6",
            "value": ""
          }
        },
        "8b8bc381ce3743acbcac3a968bebc52c": {
          "model_module": "@jupyter-widgets/controls",
          "model_name": "CheckboxModel",
          "model_module_version": "1.5.0",
          "state": {
            "_dom_classes": [],
            "_model_module": "@jupyter-widgets/controls",
            "_model_module_version": "1.5.0",
            "_model_name": "CheckboxModel",
            "_view_count": null,
            "_view_module": "@jupyter-widgets/controls",
            "_view_module_version": "1.5.0",
            "_view_name": "CheckboxView",
            "description": "Add token as git credential?",
            "description_tooltip": null,
            "disabled": false,
            "indent": true,
            "layout": "IPY_MODEL_7494b135d7fd4768a935bd168cb62f6f",
            "style": "IPY_MODEL_88a80898cb664772a8b1b969d8a176a9",
            "value": true
          }
        },
        "167b2bd333a1451a81bfcd64dffdcb94": {
          "model_module": "@jupyter-widgets/controls",
          "model_name": "ButtonModel",
          "model_module_version": "1.5.0",
          "state": {
            "_dom_classes": [],
            "_model_module": "@jupyter-widgets/controls",
            "_model_module_version": "1.5.0",
            "_model_name": "ButtonModel",
            "_view_count": null,
            "_view_module": "@jupyter-widgets/controls",
            "_view_module_version": "1.5.0",
            "_view_name": "ButtonView",
            "button_style": "",
            "description": "Login",
            "disabled": false,
            "icon": "",
            "layout": "IPY_MODEL_9cf14a90049a45c7a03c3f0760089b7c",
            "style": "IPY_MODEL_eda0b4b1359c4aeca992fdf7e0fbae71",
            "tooltip": ""
          }
        },
        "d50f2348a92944db927a673388ba3da1": {
          "model_module": "@jupyter-widgets/controls",
          "model_name": "HTMLModel",
          "model_module_version": "1.5.0",
          "state": {
            "_dom_classes": [],
            "_model_module": "@jupyter-widgets/controls",
            "_model_module_version": "1.5.0",
            "_model_name": "HTMLModel",
            "_view_count": null,
            "_view_module": "@jupyter-widgets/controls",
            "_view_module_version": "1.5.0",
            "_view_name": "HTMLView",
            "description": "",
            "description_tooltip": null,
            "layout": "IPY_MODEL_ac956857434c4cf0a6cb738ab23b1fba",
            "placeholder": "​",
            "style": "IPY_MODEL_f663d64b986e45c996f5507578a5aae7",
            "value": "\n<b>Pro Tip:</b> If you don't already have one, you can create a dedicated\n'notebooks' token with 'write' access, that you can then easily reuse for all\nnotebooks. </center>"
          }
        },
        "f2b8169af4cf4d4bb3152c2c240f4a77": {
          "model_module": "@jupyter-widgets/base",
          "model_name": "LayoutModel",
          "model_module_version": "1.2.0",
          "state": {
            "_model_module": "@jupyter-widgets/base",
            "_model_module_version": "1.2.0",
            "_model_name": "LayoutModel",
            "_view_count": null,
            "_view_module": "@jupyter-widgets/base",
            "_view_module_version": "1.2.0",
            "_view_name": "LayoutView",
            "align_content": null,
            "align_items": "center",
            "align_self": null,
            "border": null,
            "bottom": null,
            "display": "flex",
            "flex": null,
            "flex_flow": "column",
            "grid_area": null,
            "grid_auto_columns": null,
            "grid_auto_flow": null,
            "grid_auto_rows": null,
            "grid_column": null,
            "grid_gap": null,
            "grid_row": null,
            "grid_template_areas": null,
            "grid_template_columns": null,
            "grid_template_rows": null,
            "height": null,
            "justify_content": null,
            "justify_items": null,
            "left": null,
            "margin": null,
            "max_height": null,
            "max_width": null,
            "min_height": null,
            "min_width": null,
            "object_fit": null,
            "object_position": null,
            "order": null,
            "overflow": null,
            "overflow_x": null,
            "overflow_y": null,
            "padding": null,
            "right": null,
            "top": null,
            "visibility": null,
            "width": "50%"
          }
        },
        "46e1afef25e24f4b952bb18c093f180c": {
          "model_module": "@jupyter-widgets/base",
          "model_name": "LayoutModel",
          "model_module_version": "1.2.0",
          "state": {
            "_model_module": "@jupyter-widgets/base",
            "_model_module_version": "1.2.0",
            "_model_name": "LayoutModel",
            "_view_count": null,
            "_view_module": "@jupyter-widgets/base",
            "_view_module_version": "1.2.0",
            "_view_name": "LayoutView",
            "align_content": null,
            "align_items": null,
            "align_self": null,
            "border": null,
            "bottom": null,
            "display": null,
            "flex": null,
            "flex_flow": null,
            "grid_area": null,
            "grid_auto_columns": null,
            "grid_auto_flow": null,
            "grid_auto_rows": null,
            "grid_column": null,
            "grid_gap": null,
            "grid_row": null,
            "grid_template_areas": null,
            "grid_template_columns": null,
            "grid_template_rows": null,
            "height": null,
            "justify_content": null,
            "justify_items": null,
            "left": null,
            "margin": null,
            "max_height": null,
            "max_width": null,
            "min_height": null,
            "min_width": null,
            "object_fit": null,
            "object_position": null,
            "order": null,
            "overflow": null,
            "overflow_x": null,
            "overflow_y": null,
            "padding": null,
            "right": null,
            "top": null,
            "visibility": null,
            "width": null
          }
        },
        "8c8a5a5bbb374805a2d637d42d52ce5d": {
          "model_module": "@jupyter-widgets/controls",
          "model_name": "DescriptionStyleModel",
          "model_module_version": "1.5.0",
          "state": {
            "_model_module": "@jupyter-widgets/controls",
            "_model_module_version": "1.5.0",
            "_model_name": "DescriptionStyleModel",
            "_view_count": null,
            "_view_module": "@jupyter-widgets/base",
            "_view_module_version": "1.2.0",
            "_view_name": "StyleView",
            "description_width": ""
          }
        },
        "13cad2a99d704363948aeadad8941b10": {
          "model_module": "@jupyter-widgets/base",
          "model_name": "LayoutModel",
          "model_module_version": "1.2.0",
          "state": {
            "_model_module": "@jupyter-widgets/base",
            "_model_module_version": "1.2.0",
            "_model_name": "LayoutModel",
            "_view_count": null,
            "_view_module": "@jupyter-widgets/base",
            "_view_module_version": "1.2.0",
            "_view_name": "LayoutView",
            "align_content": null,
            "align_items": null,
            "align_self": null,
            "border": null,
            "bottom": null,
            "display": null,
            "flex": null,
            "flex_flow": null,
            "grid_area": null,
            "grid_auto_columns": null,
            "grid_auto_flow": null,
            "grid_auto_rows": null,
            "grid_column": null,
            "grid_gap": null,
            "grid_row": null,
            "grid_template_areas": null,
            "grid_template_columns": null,
            "grid_template_rows": null,
            "height": null,
            "justify_content": null,
            "justify_items": null,
            "left": null,
            "margin": null,
            "max_height": null,
            "max_width": null,
            "min_height": null,
            "min_width": null,
            "object_fit": null,
            "object_position": null,
            "order": null,
            "overflow": null,
            "overflow_x": null,
            "overflow_y": null,
            "padding": null,
            "right": null,
            "top": null,
            "visibility": null,
            "width": null
          }
        },
        "8682134d2b0c438ab64942b6704ddab6": {
          "model_module": "@jupyter-widgets/controls",
          "model_name": "DescriptionStyleModel",
          "model_module_version": "1.5.0",
          "state": {
            "_model_module": "@jupyter-widgets/controls",
            "_model_module_version": "1.5.0",
            "_model_name": "DescriptionStyleModel",
            "_view_count": null,
            "_view_module": "@jupyter-widgets/base",
            "_view_module_version": "1.2.0",
            "_view_name": "StyleView",
            "description_width": ""
          }
        },
        "7494b135d7fd4768a935bd168cb62f6f": {
          "model_module": "@jupyter-widgets/base",
          "model_name": "LayoutModel",
          "model_module_version": "1.2.0",
          "state": {
            "_model_module": "@jupyter-widgets/base",
            "_model_module_version": "1.2.0",
            "_model_name": "LayoutModel",
            "_view_count": null,
            "_view_module": "@jupyter-widgets/base",
            "_view_module_version": "1.2.0",
            "_view_name": "LayoutView",
            "align_content": null,
            "align_items": null,
            "align_self": null,
            "border": null,
            "bottom": null,
            "display": null,
            "flex": null,
            "flex_flow": null,
            "grid_area": null,
            "grid_auto_columns": null,
            "grid_auto_flow": null,
            "grid_auto_rows": null,
            "grid_column": null,
            "grid_gap": null,
            "grid_row": null,
            "grid_template_areas": null,
            "grid_template_columns": null,
            "grid_template_rows": null,
            "height": null,
            "justify_content": null,
            "justify_items": null,
            "left": null,
            "margin": null,
            "max_height": null,
            "max_width": null,
            "min_height": null,
            "min_width": null,
            "object_fit": null,
            "object_position": null,
            "order": null,
            "overflow": null,
            "overflow_x": null,
            "overflow_y": null,
            "padding": null,
            "right": null,
            "top": null,
            "visibility": null,
            "width": null
          }
        },
        "88a80898cb664772a8b1b969d8a176a9": {
          "model_module": "@jupyter-widgets/controls",
          "model_name": "DescriptionStyleModel",
          "model_module_version": "1.5.0",
          "state": {
            "_model_module": "@jupyter-widgets/controls",
            "_model_module_version": "1.5.0",
            "_model_name": "DescriptionStyleModel",
            "_view_count": null,
            "_view_module": "@jupyter-widgets/base",
            "_view_module_version": "1.2.0",
            "_view_name": "StyleView",
            "description_width": ""
          }
        },
        "9cf14a90049a45c7a03c3f0760089b7c": {
          "model_module": "@jupyter-widgets/base",
          "model_name": "LayoutModel",
          "model_module_version": "1.2.0",
          "state": {
            "_model_module": "@jupyter-widgets/base",
            "_model_module_version": "1.2.0",
            "_model_name": "LayoutModel",
            "_view_count": null,
            "_view_module": "@jupyter-widgets/base",
            "_view_module_version": "1.2.0",
            "_view_name": "LayoutView",
            "align_content": null,
            "align_items": null,
            "align_self": null,
            "border": null,
            "bottom": null,
            "display": null,
            "flex": null,
            "flex_flow": null,
            "grid_area": null,
            "grid_auto_columns": null,
            "grid_auto_flow": null,
            "grid_auto_rows": null,
            "grid_column": null,
            "grid_gap": null,
            "grid_row": null,
            "grid_template_areas": null,
            "grid_template_columns": null,
            "grid_template_rows": null,
            "height": null,
            "justify_content": null,
            "justify_items": null,
            "left": null,
            "margin": null,
            "max_height": null,
            "max_width": null,
            "min_height": null,
            "min_width": null,
            "object_fit": null,
            "object_position": null,
            "order": null,
            "overflow": null,
            "overflow_x": null,
            "overflow_y": null,
            "padding": null,
            "right": null,
            "top": null,
            "visibility": null,
            "width": null
          }
        },
        "eda0b4b1359c4aeca992fdf7e0fbae71": {
          "model_module": "@jupyter-widgets/controls",
          "model_name": "ButtonStyleModel",
          "model_module_version": "1.5.0",
          "state": {
            "_model_module": "@jupyter-widgets/controls",
            "_model_module_version": "1.5.0",
            "_model_name": "ButtonStyleModel",
            "_view_count": null,
            "_view_module": "@jupyter-widgets/base",
            "_view_module_version": "1.2.0",
            "_view_name": "StyleView",
            "button_color": null,
            "font_weight": ""
          }
        },
        "ac956857434c4cf0a6cb738ab23b1fba": {
          "model_module": "@jupyter-widgets/base",
          "model_name": "LayoutModel",
          "model_module_version": "1.2.0",
          "state": {
            "_model_module": "@jupyter-widgets/base",
            "_model_module_version": "1.2.0",
            "_model_name": "LayoutModel",
            "_view_count": null,
            "_view_module": "@jupyter-widgets/base",
            "_view_module_version": "1.2.0",
            "_view_name": "LayoutView",
            "align_content": null,
            "align_items": null,
            "align_self": null,
            "border": null,
            "bottom": null,
            "display": null,
            "flex": null,
            "flex_flow": null,
            "grid_area": null,
            "grid_auto_columns": null,
            "grid_auto_flow": null,
            "grid_auto_rows": null,
            "grid_column": null,
            "grid_gap": null,
            "grid_row": null,
            "grid_template_areas": null,
            "grid_template_columns": null,
            "grid_template_rows": null,
            "height": null,
            "justify_content": null,
            "justify_items": null,
            "left": null,
            "margin": null,
            "max_height": null,
            "max_width": null,
            "min_height": null,
            "min_width": null,
            "object_fit": null,
            "object_position": null,
            "order": null,
            "overflow": null,
            "overflow_x": null,
            "overflow_y": null,
            "padding": null,
            "right": null,
            "top": null,
            "visibility": null,
            "width": null
          }
        },
        "f663d64b986e45c996f5507578a5aae7": {
          "model_module": "@jupyter-widgets/controls",
          "model_name": "DescriptionStyleModel",
          "model_module_version": "1.5.0",
          "state": {
            "_model_module": "@jupyter-widgets/controls",
            "_model_module_version": "1.5.0",
            "_model_name": "DescriptionStyleModel",
            "_view_count": null,
            "_view_module": "@jupyter-widgets/base",
            "_view_module_version": "1.2.0",
            "_view_name": "StyleView",
            "description_width": ""
          }
        },
        "4266c2ce45da4ffe84316076ee631587": {
          "model_module": "@jupyter-widgets/controls",
          "model_name": "HBoxModel",
          "model_module_version": "1.5.0",
          "state": {
            "_dom_classes": [],
            "_model_module": "@jupyter-widgets/controls",
            "_model_module_version": "1.5.0",
            "_model_name": "HBoxModel",
            "_view_count": null,
            "_view_module": "@jupyter-widgets/controls",
            "_view_module_version": "1.5.0",
            "_view_name": "HBoxView",
            "box_style": "",
            "children": [
              "IPY_MODEL_9dc0320acc65480584b0dfea0c1e01ce",
              "IPY_MODEL_4c2dba35454445408f61bfb111aa7279",
              "IPY_MODEL_6de9f97d762046398d04fd57d8ab84a5"
            ],
            "layout": "IPY_MODEL_b44c254c95974131a00623c4ada8f12d"
          }
        },
        "9dc0320acc65480584b0dfea0c1e01ce": {
          "model_module": "@jupyter-widgets/controls",
          "model_name": "HTMLModel",
          "model_module_version": "1.5.0",
          "state": {
            "_dom_classes": [],
            "_model_module": "@jupyter-widgets/controls",
            "_model_module_version": "1.5.0",
            "_model_name": "HTMLModel",
            "_view_count": null,
            "_view_module": "@jupyter-widgets/controls",
            "_view_module_version": "1.5.0",
            "_view_name": "HTMLView",
            "description": "",
            "description_tooltip": null,
            "layout": "IPY_MODEL_552ac9db8cf9437782525a09eda67ddb",
            "placeholder": "​",
            "style": "IPY_MODEL_2dfd430f621e456787b6f994b274135f",
            "value": "Downloading: 100%"
          }
        },
        "4c2dba35454445408f61bfb111aa7279": {
          "model_module": "@jupyter-widgets/controls",
          "model_name": "FloatProgressModel",
          "model_module_version": "1.5.0",
          "state": {
            "_dom_classes": [],
            "_model_module": "@jupyter-widgets/controls",
            "_model_module_version": "1.5.0",
            "_model_name": "FloatProgressModel",
            "_view_count": null,
            "_view_module": "@jupyter-widgets/controls",
            "_view_module_version": "1.5.0",
            "_view_name": "ProgressView",
            "bar_style": "success",
            "description": "",
            "description_tooltip": null,
            "layout": "IPY_MODEL_b05b3f82e7ce40568e1c2bac19b978e1",
            "max": 26,
            "min": 0,
            "orientation": "horizontal",
            "style": "IPY_MODEL_5266495a28a7421482f804928d521682",
            "value": 26
          }
        },
        "6de9f97d762046398d04fd57d8ab84a5": {
          "model_module": "@jupyter-widgets/controls",
          "model_name": "HTMLModel",
          "model_module_version": "1.5.0",
          "state": {
            "_dom_classes": [],
            "_model_module": "@jupyter-widgets/controls",
            "_model_module_version": "1.5.0",
            "_model_name": "HTMLModel",
            "_view_count": null,
            "_view_module": "@jupyter-widgets/controls",
            "_view_module_version": "1.5.0",
            "_view_name": "HTMLView",
            "description": "",
            "description_tooltip": null,
            "layout": "IPY_MODEL_a31c940616d0486fb66b86ac211bdb14",
            "placeholder": "​",
            "style": "IPY_MODEL_42e3acf943b849a594dd2eb3b10e65f2",
            "value": " 26.0/26.0 [00:00&lt;00:00, 2.34kB/s]"
          }
        },
        "b44c254c95974131a00623c4ada8f12d": {
          "model_module": "@jupyter-widgets/base",
          "model_name": "LayoutModel",
          "model_module_version": "1.2.0",
          "state": {
            "_model_module": "@jupyter-widgets/base",
            "_model_module_version": "1.2.0",
            "_model_name": "LayoutModel",
            "_view_count": null,
            "_view_module": "@jupyter-widgets/base",
            "_view_module_version": "1.2.0",
            "_view_name": "LayoutView",
            "align_content": null,
            "align_items": null,
            "align_self": null,
            "border": null,
            "bottom": null,
            "display": null,
            "flex": null,
            "flex_flow": null,
            "grid_area": null,
            "grid_auto_columns": null,
            "grid_auto_flow": null,
            "grid_auto_rows": null,
            "grid_column": null,
            "grid_gap": null,
            "grid_row": null,
            "grid_template_areas": null,
            "grid_template_columns": null,
            "grid_template_rows": null,
            "height": null,
            "justify_content": null,
            "justify_items": null,
            "left": null,
            "margin": null,
            "max_height": null,
            "max_width": null,
            "min_height": null,
            "min_width": null,
            "object_fit": null,
            "object_position": null,
            "order": null,
            "overflow": null,
            "overflow_x": null,
            "overflow_y": null,
            "padding": null,
            "right": null,
            "top": null,
            "visibility": null,
            "width": null
          }
        },
        "552ac9db8cf9437782525a09eda67ddb": {
          "model_module": "@jupyter-widgets/base",
          "model_name": "LayoutModel",
          "model_module_version": "1.2.0",
          "state": {
            "_model_module": "@jupyter-widgets/base",
            "_model_module_version": "1.2.0",
            "_model_name": "LayoutModel",
            "_view_count": null,
            "_view_module": "@jupyter-widgets/base",
            "_view_module_version": "1.2.0",
            "_view_name": "LayoutView",
            "align_content": null,
            "align_items": null,
            "align_self": null,
            "border": null,
            "bottom": null,
            "display": null,
            "flex": null,
            "flex_flow": null,
            "grid_area": null,
            "grid_auto_columns": null,
            "grid_auto_flow": null,
            "grid_auto_rows": null,
            "grid_column": null,
            "grid_gap": null,
            "grid_row": null,
            "grid_template_areas": null,
            "grid_template_columns": null,
            "grid_template_rows": null,
            "height": null,
            "justify_content": null,
            "justify_items": null,
            "left": null,
            "margin": null,
            "max_height": null,
            "max_width": null,
            "min_height": null,
            "min_width": null,
            "object_fit": null,
            "object_position": null,
            "order": null,
            "overflow": null,
            "overflow_x": null,
            "overflow_y": null,
            "padding": null,
            "right": null,
            "top": null,
            "visibility": null,
            "width": null
          }
        },
        "2dfd430f621e456787b6f994b274135f": {
          "model_module": "@jupyter-widgets/controls",
          "model_name": "DescriptionStyleModel",
          "model_module_version": "1.5.0",
          "state": {
            "_model_module": "@jupyter-widgets/controls",
            "_model_module_version": "1.5.0",
            "_model_name": "DescriptionStyleModel",
            "_view_count": null,
            "_view_module": "@jupyter-widgets/base",
            "_view_module_version": "1.2.0",
            "_view_name": "StyleView",
            "description_width": ""
          }
        },
        "b05b3f82e7ce40568e1c2bac19b978e1": {
          "model_module": "@jupyter-widgets/base",
          "model_name": "LayoutModel",
          "model_module_version": "1.2.0",
          "state": {
            "_model_module": "@jupyter-widgets/base",
            "_model_module_version": "1.2.0",
            "_model_name": "LayoutModel",
            "_view_count": null,
            "_view_module": "@jupyter-widgets/base",
            "_view_module_version": "1.2.0",
            "_view_name": "LayoutView",
            "align_content": null,
            "align_items": null,
            "align_self": null,
            "border": null,
            "bottom": null,
            "display": null,
            "flex": null,
            "flex_flow": null,
            "grid_area": null,
            "grid_auto_columns": null,
            "grid_auto_flow": null,
            "grid_auto_rows": null,
            "grid_column": null,
            "grid_gap": null,
            "grid_row": null,
            "grid_template_areas": null,
            "grid_template_columns": null,
            "grid_template_rows": null,
            "height": null,
            "justify_content": null,
            "justify_items": null,
            "left": null,
            "margin": null,
            "max_height": null,
            "max_width": null,
            "min_height": null,
            "min_width": null,
            "object_fit": null,
            "object_position": null,
            "order": null,
            "overflow": null,
            "overflow_x": null,
            "overflow_y": null,
            "padding": null,
            "right": null,
            "top": null,
            "visibility": null,
            "width": null
          }
        },
        "5266495a28a7421482f804928d521682": {
          "model_module": "@jupyter-widgets/controls",
          "model_name": "ProgressStyleModel",
          "model_module_version": "1.5.0",
          "state": {
            "_model_module": "@jupyter-widgets/controls",
            "_model_module_version": "1.5.0",
            "_model_name": "ProgressStyleModel",
            "_view_count": null,
            "_view_module": "@jupyter-widgets/base",
            "_view_module_version": "1.2.0",
            "_view_name": "StyleView",
            "bar_color": null,
            "description_width": ""
          }
        },
        "a31c940616d0486fb66b86ac211bdb14": {
          "model_module": "@jupyter-widgets/base",
          "model_name": "LayoutModel",
          "model_module_version": "1.2.0",
          "state": {
            "_model_module": "@jupyter-widgets/base",
            "_model_module_version": "1.2.0",
            "_model_name": "LayoutModel",
            "_view_count": null,
            "_view_module": "@jupyter-widgets/base",
            "_view_module_version": "1.2.0",
            "_view_name": "LayoutView",
            "align_content": null,
            "align_items": null,
            "align_self": null,
            "border": null,
            "bottom": null,
            "display": null,
            "flex": null,
            "flex_flow": null,
            "grid_area": null,
            "grid_auto_columns": null,
            "grid_auto_flow": null,
            "grid_auto_rows": null,
            "grid_column": null,
            "grid_gap": null,
            "grid_row": null,
            "grid_template_areas": null,
            "grid_template_columns": null,
            "grid_template_rows": null,
            "height": null,
            "justify_content": null,
            "justify_items": null,
            "left": null,
            "margin": null,
            "max_height": null,
            "max_width": null,
            "min_height": null,
            "min_width": null,
            "object_fit": null,
            "object_position": null,
            "order": null,
            "overflow": null,
            "overflow_x": null,
            "overflow_y": null,
            "padding": null,
            "right": null,
            "top": null,
            "visibility": null,
            "width": null
          }
        },
        "42e3acf943b849a594dd2eb3b10e65f2": {
          "model_module": "@jupyter-widgets/controls",
          "model_name": "DescriptionStyleModel",
          "model_module_version": "1.5.0",
          "state": {
            "_model_module": "@jupyter-widgets/controls",
            "_model_module_version": "1.5.0",
            "_model_name": "DescriptionStyleModel",
            "_view_count": null,
            "_view_module": "@jupyter-widgets/base",
            "_view_module_version": "1.2.0",
            "_view_name": "StyleView",
            "description_width": ""
          }
        },
        "e685992688f6481f9cbc1944770f5340": {
          "model_module": "@jupyter-widgets/controls",
          "model_name": "HBoxModel",
          "model_module_version": "1.5.0",
          "state": {
            "_dom_classes": [],
            "_model_module": "@jupyter-widgets/controls",
            "_model_module_version": "1.5.0",
            "_model_name": "HBoxModel",
            "_view_count": null,
            "_view_module": "@jupyter-widgets/controls",
            "_view_module_version": "1.5.0",
            "_view_name": "HBoxView",
            "box_style": "",
            "children": [
              "IPY_MODEL_06ceb6c57ead444fba68513980b42330",
              "IPY_MODEL_2f9d07c26b2243ce98babe43e9130988",
              "IPY_MODEL_7004e809283e427b8580379c7e978184"
            ],
            "layout": "IPY_MODEL_5b70fe09fa2041008d20860de0fc78c7"
          }
        },
        "06ceb6c57ead444fba68513980b42330": {
          "model_module": "@jupyter-widgets/controls",
          "model_name": "HTMLModel",
          "model_module_version": "1.5.0",
          "state": {
            "_dom_classes": [],
            "_model_module": "@jupyter-widgets/controls",
            "_model_module_version": "1.5.0",
            "_model_name": "HTMLModel",
            "_view_count": null,
            "_view_module": "@jupyter-widgets/controls",
            "_view_module_version": "1.5.0",
            "_view_name": "HTMLView",
            "description": "",
            "description_tooltip": null,
            "layout": "IPY_MODEL_5868606889c3403e94ef4efa9cf26782",
            "placeholder": "​",
            "style": "IPY_MODEL_c4d91fb59dbc46d18ba43b4d869edba7",
            "value": "Downloading: 100%"
          }
        },
        "2f9d07c26b2243ce98babe43e9130988": {
          "model_module": "@jupyter-widgets/controls",
          "model_name": "FloatProgressModel",
          "model_module_version": "1.5.0",
          "state": {
            "_dom_classes": [],
            "_model_module": "@jupyter-widgets/controls",
            "_model_module_version": "1.5.0",
            "_model_name": "FloatProgressModel",
            "_view_count": null,
            "_view_module": "@jupyter-widgets/controls",
            "_view_module_version": "1.5.0",
            "_view_name": "ProgressView",
            "bar_style": "success",
            "description": "",
            "description_tooltip": null,
            "layout": "IPY_MODEL_ff10a7b2b4724cfba279de93991d5c6e",
            "max": 689,
            "min": 0,
            "orientation": "horizontal",
            "style": "IPY_MODEL_b36dbbfadb0449fd89f9639094737132",
            "value": 689
          }
        },
        "7004e809283e427b8580379c7e978184": {
          "model_module": "@jupyter-widgets/controls",
          "model_name": "HTMLModel",
          "model_module_version": "1.5.0",
          "state": {
            "_dom_classes": [],
            "_model_module": "@jupyter-widgets/controls",
            "_model_module_version": "1.5.0",
            "_model_name": "HTMLModel",
            "_view_count": null,
            "_view_module": "@jupyter-widgets/controls",
            "_view_module_version": "1.5.0",
            "_view_name": "HTMLView",
            "description": "",
            "description_tooltip": null,
            "layout": "IPY_MODEL_32bdd28cdb4f4430997ee4a77c5b9c21",
            "placeholder": "​",
            "style": "IPY_MODEL_9b5c45925cf54fcc8e825630a357312d",
            "value": " 689/689 [00:00&lt;00:00, 65.1kB/s]"
          }
        },
        "5b70fe09fa2041008d20860de0fc78c7": {
          "model_module": "@jupyter-widgets/base",
          "model_name": "LayoutModel",
          "model_module_version": "1.2.0",
          "state": {
            "_model_module": "@jupyter-widgets/base",
            "_model_module_version": "1.2.0",
            "_model_name": "LayoutModel",
            "_view_count": null,
            "_view_module": "@jupyter-widgets/base",
            "_view_module_version": "1.2.0",
            "_view_name": "LayoutView",
            "align_content": null,
            "align_items": null,
            "align_self": null,
            "border": null,
            "bottom": null,
            "display": null,
            "flex": null,
            "flex_flow": null,
            "grid_area": null,
            "grid_auto_columns": null,
            "grid_auto_flow": null,
            "grid_auto_rows": null,
            "grid_column": null,
            "grid_gap": null,
            "grid_row": null,
            "grid_template_areas": null,
            "grid_template_columns": null,
            "grid_template_rows": null,
            "height": null,
            "justify_content": null,
            "justify_items": null,
            "left": null,
            "margin": null,
            "max_height": null,
            "max_width": null,
            "min_height": null,
            "min_width": null,
            "object_fit": null,
            "object_position": null,
            "order": null,
            "overflow": null,
            "overflow_x": null,
            "overflow_y": null,
            "padding": null,
            "right": null,
            "top": null,
            "visibility": null,
            "width": null
          }
        },
        "5868606889c3403e94ef4efa9cf26782": {
          "model_module": "@jupyter-widgets/base",
          "model_name": "LayoutModel",
          "model_module_version": "1.2.0",
          "state": {
            "_model_module": "@jupyter-widgets/base",
            "_model_module_version": "1.2.0",
            "_model_name": "LayoutModel",
            "_view_count": null,
            "_view_module": "@jupyter-widgets/base",
            "_view_module_version": "1.2.0",
            "_view_name": "LayoutView",
            "align_content": null,
            "align_items": null,
            "align_self": null,
            "border": null,
            "bottom": null,
            "display": null,
            "flex": null,
            "flex_flow": null,
            "grid_area": null,
            "grid_auto_columns": null,
            "grid_auto_flow": null,
            "grid_auto_rows": null,
            "grid_column": null,
            "grid_gap": null,
            "grid_row": null,
            "grid_template_areas": null,
            "grid_template_columns": null,
            "grid_template_rows": null,
            "height": null,
            "justify_content": null,
            "justify_items": null,
            "left": null,
            "margin": null,
            "max_height": null,
            "max_width": null,
            "min_height": null,
            "min_width": null,
            "object_fit": null,
            "object_position": null,
            "order": null,
            "overflow": null,
            "overflow_x": null,
            "overflow_y": null,
            "padding": null,
            "right": null,
            "top": null,
            "visibility": null,
            "width": null
          }
        },
        "c4d91fb59dbc46d18ba43b4d869edba7": {
          "model_module": "@jupyter-widgets/controls",
          "model_name": "DescriptionStyleModel",
          "model_module_version": "1.5.0",
          "state": {
            "_model_module": "@jupyter-widgets/controls",
            "_model_module_version": "1.5.0",
            "_model_name": "DescriptionStyleModel",
            "_view_count": null,
            "_view_module": "@jupyter-widgets/base",
            "_view_module_version": "1.2.0",
            "_view_name": "StyleView",
            "description_width": ""
          }
        },
        "ff10a7b2b4724cfba279de93991d5c6e": {
          "model_module": "@jupyter-widgets/base",
          "model_name": "LayoutModel",
          "model_module_version": "1.2.0",
          "state": {
            "_model_module": "@jupyter-widgets/base",
            "_model_module_version": "1.2.0",
            "_model_name": "LayoutModel",
            "_view_count": null,
            "_view_module": "@jupyter-widgets/base",
            "_view_module_version": "1.2.0",
            "_view_name": "LayoutView",
            "align_content": null,
            "align_items": null,
            "align_self": null,
            "border": null,
            "bottom": null,
            "display": null,
            "flex": null,
            "flex_flow": null,
            "grid_area": null,
            "grid_auto_columns": null,
            "grid_auto_flow": null,
            "grid_auto_rows": null,
            "grid_column": null,
            "grid_gap": null,
            "grid_row": null,
            "grid_template_areas": null,
            "grid_template_columns": null,
            "grid_template_rows": null,
            "height": null,
            "justify_content": null,
            "justify_items": null,
            "left": null,
            "margin": null,
            "max_height": null,
            "max_width": null,
            "min_height": null,
            "min_width": null,
            "object_fit": null,
            "object_position": null,
            "order": null,
            "overflow": null,
            "overflow_x": null,
            "overflow_y": null,
            "padding": null,
            "right": null,
            "top": null,
            "visibility": null,
            "width": null
          }
        },
        "b36dbbfadb0449fd89f9639094737132": {
          "model_module": "@jupyter-widgets/controls",
          "model_name": "ProgressStyleModel",
          "model_module_version": "1.5.0",
          "state": {
            "_model_module": "@jupyter-widgets/controls",
            "_model_module_version": "1.5.0",
            "_model_name": "ProgressStyleModel",
            "_view_count": null,
            "_view_module": "@jupyter-widgets/base",
            "_view_module_version": "1.2.0",
            "_view_name": "StyleView",
            "bar_color": null,
            "description_width": ""
          }
        },
        "32bdd28cdb4f4430997ee4a77c5b9c21": {
          "model_module": "@jupyter-widgets/base",
          "model_name": "LayoutModel",
          "model_module_version": "1.2.0",
          "state": {
            "_model_module": "@jupyter-widgets/base",
            "_model_module_version": "1.2.0",
            "_model_name": "LayoutModel",
            "_view_count": null,
            "_view_module": "@jupyter-widgets/base",
            "_view_module_version": "1.2.0",
            "_view_name": "LayoutView",
            "align_content": null,
            "align_items": null,
            "align_self": null,
            "border": null,
            "bottom": null,
            "display": null,
            "flex": null,
            "flex_flow": null,
            "grid_area": null,
            "grid_auto_columns": null,
            "grid_auto_flow": null,
            "grid_auto_rows": null,
            "grid_column": null,
            "grid_gap": null,
            "grid_row": null,
            "grid_template_areas": null,
            "grid_template_columns": null,
            "grid_template_rows": null,
            "height": null,
            "justify_content": null,
            "justify_items": null,
            "left": null,
            "margin": null,
            "max_height": null,
            "max_width": null,
            "min_height": null,
            "min_width": null,
            "object_fit": null,
            "object_position": null,
            "order": null,
            "overflow": null,
            "overflow_x": null,
            "overflow_y": null,
            "padding": null,
            "right": null,
            "top": null,
            "visibility": null,
            "width": null
          }
        },
        "9b5c45925cf54fcc8e825630a357312d": {
          "model_module": "@jupyter-widgets/controls",
          "model_name": "DescriptionStyleModel",
          "model_module_version": "1.5.0",
          "state": {
            "_model_module": "@jupyter-widgets/controls",
            "_model_module_version": "1.5.0",
            "_model_name": "DescriptionStyleModel",
            "_view_count": null,
            "_view_module": "@jupyter-widgets/base",
            "_view_module_version": "1.2.0",
            "_view_name": "StyleView",
            "description_width": ""
          }
        },
        "52b1eee44d5b45398b36ffa165805ac3": {
          "model_module": "@jupyter-widgets/controls",
          "model_name": "HBoxModel",
          "model_module_version": "1.5.0",
          "state": {
            "_dom_classes": [],
            "_model_module": "@jupyter-widgets/controls",
            "_model_module_version": "1.5.0",
            "_model_name": "HBoxModel",
            "_view_count": null,
            "_view_module": "@jupyter-widgets/controls",
            "_view_module_version": "1.5.0",
            "_view_name": "HBoxView",
            "box_style": "",
            "children": [
              "IPY_MODEL_e5107ae5d3f64b02b51681c7bb1751f2",
              "IPY_MODEL_52b3855af88c46e784fc6ab982b05eb0",
              "IPY_MODEL_f6c3ffb5496c485ba625ee6a5cc983c8"
            ],
            "layout": "IPY_MODEL_0622a08b7ecb430a80bbd6367c6caa62"
          }
        },
        "e5107ae5d3f64b02b51681c7bb1751f2": {
          "model_module": "@jupyter-widgets/controls",
          "model_name": "HTMLModel",
          "model_module_version": "1.5.0",
          "state": {
            "_dom_classes": [],
            "_model_module": "@jupyter-widgets/controls",
            "_model_module_version": "1.5.0",
            "_model_name": "HTMLModel",
            "_view_count": null,
            "_view_module": "@jupyter-widgets/controls",
            "_view_module_version": "1.5.0",
            "_view_name": "HTMLView",
            "description": "",
            "description_tooltip": null,
            "layout": "IPY_MODEL_903b48c6a37545648f50d7206e7c4247",
            "placeholder": "​",
            "style": "IPY_MODEL_884ff4c9e515448c99ec7eb1848ac470",
            "value": "Downloading: 100%"
          }
        },
        "52b3855af88c46e784fc6ab982b05eb0": {
          "model_module": "@jupyter-widgets/controls",
          "model_name": "FloatProgressModel",
          "model_module_version": "1.5.0",
          "state": {
            "_dom_classes": [],
            "_model_module": "@jupyter-widgets/controls",
            "_model_module_version": "1.5.0",
            "_model_name": "FloatProgressModel",
            "_view_count": null,
            "_view_module": "@jupyter-widgets/controls",
            "_view_module_version": "1.5.0",
            "_view_name": "ProgressView",
            "bar_style": "success",
            "description": "",
            "description_tooltip": null,
            "layout": "IPY_MODEL_caa2d714a197462e89c939a3a1f0d72f",
            "max": 1042301,
            "min": 0,
            "orientation": "horizontal",
            "style": "IPY_MODEL_c66a863e9db34b9e8d344bad08b958ae",
            "value": 1042301
          }
        },
        "f6c3ffb5496c485ba625ee6a5cc983c8": {
          "model_module": "@jupyter-widgets/controls",
          "model_name": "HTMLModel",
          "model_module_version": "1.5.0",
          "state": {
            "_dom_classes": [],
            "_model_module": "@jupyter-widgets/controls",
            "_model_module_version": "1.5.0",
            "_model_name": "HTMLModel",
            "_view_count": null,
            "_view_module": "@jupyter-widgets/controls",
            "_view_module_version": "1.5.0",
            "_view_name": "HTMLView",
            "description": "",
            "description_tooltip": null,
            "layout": "IPY_MODEL_c6dc89591f7c44ce9ae3a138bad080b9",
            "placeholder": "​",
            "style": "IPY_MODEL_bf2209601c3648a88b8044abb4736326",
            "value": " 0.99M/0.99M [00:00&lt;00:00, 6.06MB/s]"
          }
        },
        "0622a08b7ecb430a80bbd6367c6caa62": {
          "model_module": "@jupyter-widgets/base",
          "model_name": "LayoutModel",
          "model_module_version": "1.2.0",
          "state": {
            "_model_module": "@jupyter-widgets/base",
            "_model_module_version": "1.2.0",
            "_model_name": "LayoutModel",
            "_view_count": null,
            "_view_module": "@jupyter-widgets/base",
            "_view_module_version": "1.2.0",
            "_view_name": "LayoutView",
            "align_content": null,
            "align_items": null,
            "align_self": null,
            "border": null,
            "bottom": null,
            "display": null,
            "flex": null,
            "flex_flow": null,
            "grid_area": null,
            "grid_auto_columns": null,
            "grid_auto_flow": null,
            "grid_auto_rows": null,
            "grid_column": null,
            "grid_gap": null,
            "grid_row": null,
            "grid_template_areas": null,
            "grid_template_columns": null,
            "grid_template_rows": null,
            "height": null,
            "justify_content": null,
            "justify_items": null,
            "left": null,
            "margin": null,
            "max_height": null,
            "max_width": null,
            "min_height": null,
            "min_width": null,
            "object_fit": null,
            "object_position": null,
            "order": null,
            "overflow": null,
            "overflow_x": null,
            "overflow_y": null,
            "padding": null,
            "right": null,
            "top": null,
            "visibility": null,
            "width": null
          }
        },
        "903b48c6a37545648f50d7206e7c4247": {
          "model_module": "@jupyter-widgets/base",
          "model_name": "LayoutModel",
          "model_module_version": "1.2.0",
          "state": {
            "_model_module": "@jupyter-widgets/base",
            "_model_module_version": "1.2.0",
            "_model_name": "LayoutModel",
            "_view_count": null,
            "_view_module": "@jupyter-widgets/base",
            "_view_module_version": "1.2.0",
            "_view_name": "LayoutView",
            "align_content": null,
            "align_items": null,
            "align_self": null,
            "border": null,
            "bottom": null,
            "display": null,
            "flex": null,
            "flex_flow": null,
            "grid_area": null,
            "grid_auto_columns": null,
            "grid_auto_flow": null,
            "grid_auto_rows": null,
            "grid_column": null,
            "grid_gap": null,
            "grid_row": null,
            "grid_template_areas": null,
            "grid_template_columns": null,
            "grid_template_rows": null,
            "height": null,
            "justify_content": null,
            "justify_items": null,
            "left": null,
            "margin": null,
            "max_height": null,
            "max_width": null,
            "min_height": null,
            "min_width": null,
            "object_fit": null,
            "object_position": null,
            "order": null,
            "overflow": null,
            "overflow_x": null,
            "overflow_y": null,
            "padding": null,
            "right": null,
            "top": null,
            "visibility": null,
            "width": null
          }
        },
        "884ff4c9e515448c99ec7eb1848ac470": {
          "model_module": "@jupyter-widgets/controls",
          "model_name": "DescriptionStyleModel",
          "model_module_version": "1.5.0",
          "state": {
            "_model_module": "@jupyter-widgets/controls",
            "_model_module_version": "1.5.0",
            "_model_name": "DescriptionStyleModel",
            "_view_count": null,
            "_view_module": "@jupyter-widgets/base",
            "_view_module_version": "1.2.0",
            "_view_name": "StyleView",
            "description_width": ""
          }
        },
        "caa2d714a197462e89c939a3a1f0d72f": {
          "model_module": "@jupyter-widgets/base",
          "model_name": "LayoutModel",
          "model_module_version": "1.2.0",
          "state": {
            "_model_module": "@jupyter-widgets/base",
            "_model_module_version": "1.2.0",
            "_model_name": "LayoutModel",
            "_view_count": null,
            "_view_module": "@jupyter-widgets/base",
            "_view_module_version": "1.2.0",
            "_view_name": "LayoutView",
            "align_content": null,
            "align_items": null,
            "align_self": null,
            "border": null,
            "bottom": null,
            "display": null,
            "flex": null,
            "flex_flow": null,
            "grid_area": null,
            "grid_auto_columns": null,
            "grid_auto_flow": null,
            "grid_auto_rows": null,
            "grid_column": null,
            "grid_gap": null,
            "grid_row": null,
            "grid_template_areas": null,
            "grid_template_columns": null,
            "grid_template_rows": null,
            "height": null,
            "justify_content": null,
            "justify_items": null,
            "left": null,
            "margin": null,
            "max_height": null,
            "max_width": null,
            "min_height": null,
            "min_width": null,
            "object_fit": null,
            "object_position": null,
            "order": null,
            "overflow": null,
            "overflow_x": null,
            "overflow_y": null,
            "padding": null,
            "right": null,
            "top": null,
            "visibility": null,
            "width": null
          }
        },
        "c66a863e9db34b9e8d344bad08b958ae": {
          "model_module": "@jupyter-widgets/controls",
          "model_name": "ProgressStyleModel",
          "model_module_version": "1.5.0",
          "state": {
            "_model_module": "@jupyter-widgets/controls",
            "_model_module_version": "1.5.0",
            "_model_name": "ProgressStyleModel",
            "_view_count": null,
            "_view_module": "@jupyter-widgets/base",
            "_view_module_version": "1.2.0",
            "_view_name": "StyleView",
            "bar_color": null,
            "description_width": ""
          }
        },
        "c6dc89591f7c44ce9ae3a138bad080b9": {
          "model_module": "@jupyter-widgets/base",
          "model_name": "LayoutModel",
          "model_module_version": "1.2.0",
          "state": {
            "_model_module": "@jupyter-widgets/base",
            "_model_module_version": "1.2.0",
            "_model_name": "LayoutModel",
            "_view_count": null,
            "_view_module": "@jupyter-widgets/base",
            "_view_module_version": "1.2.0",
            "_view_name": "LayoutView",
            "align_content": null,
            "align_items": null,
            "align_self": null,
            "border": null,
            "bottom": null,
            "display": null,
            "flex": null,
            "flex_flow": null,
            "grid_area": null,
            "grid_auto_columns": null,
            "grid_auto_flow": null,
            "grid_auto_rows": null,
            "grid_column": null,
            "grid_gap": null,
            "grid_row": null,
            "grid_template_areas": null,
            "grid_template_columns": null,
            "grid_template_rows": null,
            "height": null,
            "justify_content": null,
            "justify_items": null,
            "left": null,
            "margin": null,
            "max_height": null,
            "max_width": null,
            "min_height": null,
            "min_width": null,
            "object_fit": null,
            "object_position": null,
            "order": null,
            "overflow": null,
            "overflow_x": null,
            "overflow_y": null,
            "padding": null,
            "right": null,
            "top": null,
            "visibility": null,
            "width": null
          }
        },
        "bf2209601c3648a88b8044abb4736326": {
          "model_module": "@jupyter-widgets/controls",
          "model_name": "DescriptionStyleModel",
          "model_module_version": "1.5.0",
          "state": {
            "_model_module": "@jupyter-widgets/controls",
            "_model_module_version": "1.5.0",
            "_model_name": "DescriptionStyleModel",
            "_view_count": null,
            "_view_module": "@jupyter-widgets/base",
            "_view_module_version": "1.2.0",
            "_view_name": "StyleView",
            "description_width": ""
          }
        },
        "92fd43596882490e9a223a94ede90ec7": {
          "model_module": "@jupyter-widgets/controls",
          "model_name": "HBoxModel",
          "model_module_version": "1.5.0",
          "state": {
            "_dom_classes": [],
            "_model_module": "@jupyter-widgets/controls",
            "_model_module_version": "1.5.0",
            "_model_name": "HBoxModel",
            "_view_count": null,
            "_view_module": "@jupyter-widgets/controls",
            "_view_module_version": "1.5.0",
            "_view_name": "HBoxView",
            "box_style": "",
            "children": [
              "IPY_MODEL_51d98231ec4e40c4875b98e899dbacbe",
              "IPY_MODEL_a3dd11433ec7491d956548d959875baf",
              "IPY_MODEL_88cee9181bd64a78af27ebc05a1d9354"
            ],
            "layout": "IPY_MODEL_96233cb7c5ea414a9bcfe5d4528435b5"
          }
        },
        "51d98231ec4e40c4875b98e899dbacbe": {
          "model_module": "@jupyter-widgets/controls",
          "model_name": "HTMLModel",
          "model_module_version": "1.5.0",
          "state": {
            "_dom_classes": [],
            "_model_module": "@jupyter-widgets/controls",
            "_model_module_version": "1.5.0",
            "_model_name": "HTMLModel",
            "_view_count": null,
            "_view_module": "@jupyter-widgets/controls",
            "_view_module_version": "1.5.0",
            "_view_name": "HTMLView",
            "description": "",
            "description_tooltip": null,
            "layout": "IPY_MODEL_cf049633e798444592febe9eb6a1ef88",
            "placeholder": "​",
            "style": "IPY_MODEL_d67f6b5f0c4f4b2f8086b861f7a463fd",
            "value": "Downloading: 100%"
          }
        },
        "a3dd11433ec7491d956548d959875baf": {
          "model_module": "@jupyter-widgets/controls",
          "model_name": "FloatProgressModel",
          "model_module_version": "1.5.0",
          "state": {
            "_dom_classes": [],
            "_model_module": "@jupyter-widgets/controls",
            "_model_module_version": "1.5.0",
            "_model_name": "FloatProgressModel",
            "_view_count": null,
            "_view_module": "@jupyter-widgets/controls",
            "_view_module_version": "1.5.0",
            "_view_name": "ProgressView",
            "bar_style": "success",
            "description": "",
            "description_tooltip": null,
            "layout": "IPY_MODEL_17f2cb05a0bc49f4b25e7f1045eea2de",
            "max": 456318,
            "min": 0,
            "orientation": "horizontal",
            "style": "IPY_MODEL_0126c401532f4c2887d6a75fc9ff0678",
            "value": 456318
          }
        },
        "88cee9181bd64a78af27ebc05a1d9354": {
          "model_module": "@jupyter-widgets/controls",
          "model_name": "HTMLModel",
          "model_module_version": "1.5.0",
          "state": {
            "_dom_classes": [],
            "_model_module": "@jupyter-widgets/controls",
            "_model_module_version": "1.5.0",
            "_model_name": "HTMLModel",
            "_view_count": null,
            "_view_module": "@jupyter-widgets/controls",
            "_view_module_version": "1.5.0",
            "_view_name": "HTMLView",
            "description": "",
            "description_tooltip": null,
            "layout": "IPY_MODEL_acb132a2a41942f6a302165a72b79646",
            "placeholder": "​",
            "style": "IPY_MODEL_45a54fccc94f4581930c08e69718b8d5",
            "value": " 446k/446k [00:00&lt;00:00, 7.46MB/s]"
          }
        },
        "96233cb7c5ea414a9bcfe5d4528435b5": {
          "model_module": "@jupyter-widgets/base",
          "model_name": "LayoutModel",
          "model_module_version": "1.2.0",
          "state": {
            "_model_module": "@jupyter-widgets/base",
            "_model_module_version": "1.2.0",
            "_model_name": "LayoutModel",
            "_view_count": null,
            "_view_module": "@jupyter-widgets/base",
            "_view_module_version": "1.2.0",
            "_view_name": "LayoutView",
            "align_content": null,
            "align_items": null,
            "align_self": null,
            "border": null,
            "bottom": null,
            "display": null,
            "flex": null,
            "flex_flow": null,
            "grid_area": null,
            "grid_auto_columns": null,
            "grid_auto_flow": null,
            "grid_auto_rows": null,
            "grid_column": null,
            "grid_gap": null,
            "grid_row": null,
            "grid_template_areas": null,
            "grid_template_columns": null,
            "grid_template_rows": null,
            "height": null,
            "justify_content": null,
            "justify_items": null,
            "left": null,
            "margin": null,
            "max_height": null,
            "max_width": null,
            "min_height": null,
            "min_width": null,
            "object_fit": null,
            "object_position": null,
            "order": null,
            "overflow": null,
            "overflow_x": null,
            "overflow_y": null,
            "padding": null,
            "right": null,
            "top": null,
            "visibility": null,
            "width": null
          }
        },
        "cf049633e798444592febe9eb6a1ef88": {
          "model_module": "@jupyter-widgets/base",
          "model_name": "LayoutModel",
          "model_module_version": "1.2.0",
          "state": {
            "_model_module": "@jupyter-widgets/base",
            "_model_module_version": "1.2.0",
            "_model_name": "LayoutModel",
            "_view_count": null,
            "_view_module": "@jupyter-widgets/base",
            "_view_module_version": "1.2.0",
            "_view_name": "LayoutView",
            "align_content": null,
            "align_items": null,
            "align_self": null,
            "border": null,
            "bottom": null,
            "display": null,
            "flex": null,
            "flex_flow": null,
            "grid_area": null,
            "grid_auto_columns": null,
            "grid_auto_flow": null,
            "grid_auto_rows": null,
            "grid_column": null,
            "grid_gap": null,
            "grid_row": null,
            "grid_template_areas": null,
            "grid_template_columns": null,
            "grid_template_rows": null,
            "height": null,
            "justify_content": null,
            "justify_items": null,
            "left": null,
            "margin": null,
            "max_height": null,
            "max_width": null,
            "min_height": null,
            "min_width": null,
            "object_fit": null,
            "object_position": null,
            "order": null,
            "overflow": null,
            "overflow_x": null,
            "overflow_y": null,
            "padding": null,
            "right": null,
            "top": null,
            "visibility": null,
            "width": null
          }
        },
        "d67f6b5f0c4f4b2f8086b861f7a463fd": {
          "model_module": "@jupyter-widgets/controls",
          "model_name": "DescriptionStyleModel",
          "model_module_version": "1.5.0",
          "state": {
            "_model_module": "@jupyter-widgets/controls",
            "_model_module_version": "1.5.0",
            "_model_name": "DescriptionStyleModel",
            "_view_count": null,
            "_view_module": "@jupyter-widgets/base",
            "_view_module_version": "1.2.0",
            "_view_name": "StyleView",
            "description_width": ""
          }
        },
        "17f2cb05a0bc49f4b25e7f1045eea2de": {
          "model_module": "@jupyter-widgets/base",
          "model_name": "LayoutModel",
          "model_module_version": "1.2.0",
          "state": {
            "_model_module": "@jupyter-widgets/base",
            "_model_module_version": "1.2.0",
            "_model_name": "LayoutModel",
            "_view_count": null,
            "_view_module": "@jupyter-widgets/base",
            "_view_module_version": "1.2.0",
            "_view_name": "LayoutView",
            "align_content": null,
            "align_items": null,
            "align_self": null,
            "border": null,
            "bottom": null,
            "display": null,
            "flex": null,
            "flex_flow": null,
            "grid_area": null,
            "grid_auto_columns": null,
            "grid_auto_flow": null,
            "grid_auto_rows": null,
            "grid_column": null,
            "grid_gap": null,
            "grid_row": null,
            "grid_template_areas": null,
            "grid_template_columns": null,
            "grid_template_rows": null,
            "height": null,
            "justify_content": null,
            "justify_items": null,
            "left": null,
            "margin": null,
            "max_height": null,
            "max_width": null,
            "min_height": null,
            "min_width": null,
            "object_fit": null,
            "object_position": null,
            "order": null,
            "overflow": null,
            "overflow_x": null,
            "overflow_y": null,
            "padding": null,
            "right": null,
            "top": null,
            "visibility": null,
            "width": null
          }
        },
        "0126c401532f4c2887d6a75fc9ff0678": {
          "model_module": "@jupyter-widgets/controls",
          "model_name": "ProgressStyleModel",
          "model_module_version": "1.5.0",
          "state": {
            "_model_module": "@jupyter-widgets/controls",
            "_model_module_version": "1.5.0",
            "_model_name": "ProgressStyleModel",
            "_view_count": null,
            "_view_module": "@jupyter-widgets/base",
            "_view_module_version": "1.2.0",
            "_view_name": "StyleView",
            "bar_color": null,
            "description_width": ""
          }
        },
        "acb132a2a41942f6a302165a72b79646": {
          "model_module": "@jupyter-widgets/base",
          "model_name": "LayoutModel",
          "model_module_version": "1.2.0",
          "state": {
            "_model_module": "@jupyter-widgets/base",
            "_model_module_version": "1.2.0",
            "_model_name": "LayoutModel",
            "_view_count": null,
            "_view_module": "@jupyter-widgets/base",
            "_view_module_version": "1.2.0",
            "_view_name": "LayoutView",
            "align_content": null,
            "align_items": null,
            "align_self": null,
            "border": null,
            "bottom": null,
            "display": null,
            "flex": null,
            "flex_flow": null,
            "grid_area": null,
            "grid_auto_columns": null,
            "grid_auto_flow": null,
            "grid_auto_rows": null,
            "grid_column": null,
            "grid_gap": null,
            "grid_row": null,
            "grid_template_areas": null,
            "grid_template_columns": null,
            "grid_template_rows": null,
            "height": null,
            "justify_content": null,
            "justify_items": null,
            "left": null,
            "margin": null,
            "max_height": null,
            "max_width": null,
            "min_height": null,
            "min_width": null,
            "object_fit": null,
            "object_position": null,
            "order": null,
            "overflow": null,
            "overflow_x": null,
            "overflow_y": null,
            "padding": null,
            "right": null,
            "top": null,
            "visibility": null,
            "width": null
          }
        },
        "45a54fccc94f4581930c08e69718b8d5": {
          "model_module": "@jupyter-widgets/controls",
          "model_name": "DescriptionStyleModel",
          "model_module_version": "1.5.0",
          "state": {
            "_model_module": "@jupyter-widgets/controls",
            "_model_module_version": "1.5.0",
            "_model_name": "DescriptionStyleModel",
            "_view_count": null,
            "_view_module": "@jupyter-widgets/base",
            "_view_module_version": "1.2.0",
            "_view_name": "StyleView",
            "description_width": ""
          }
        },
        "48d1f8c52d81474d8833dfca619439ed": {
          "model_module": "@jupyter-widgets/controls",
          "model_name": "HBoxModel",
          "model_module_version": "1.5.0",
          "state": {
            "_dom_classes": [],
            "_model_module": "@jupyter-widgets/controls",
            "_model_module_version": "1.5.0",
            "_model_name": "HBoxModel",
            "_view_count": null,
            "_view_module": "@jupyter-widgets/controls",
            "_view_module_version": "1.5.0",
            "_view_name": "HBoxView",
            "box_style": "",
            "children": [
              "IPY_MODEL_b6fadcd90c2841eebd1293d0727ecdbc",
              "IPY_MODEL_f92f49202ed54c729af29d92a7999aa4",
              "IPY_MODEL_0fdbd2b43f7e4e8db3b5612908dde5cc"
            ],
            "layout": "IPY_MODEL_4c446a5a53294ea88d26f9c58475e400"
          }
        },
        "b6fadcd90c2841eebd1293d0727ecdbc": {
          "model_module": "@jupyter-widgets/controls",
          "model_name": "HTMLModel",
          "model_module_version": "1.5.0",
          "state": {
            "_dom_classes": [],
            "_model_module": "@jupyter-widgets/controls",
            "_model_module_version": "1.5.0",
            "_model_name": "HTMLModel",
            "_view_count": null,
            "_view_module": "@jupyter-widgets/controls",
            "_view_module_version": "1.5.0",
            "_view_name": "HTMLView",
            "description": "",
            "description_tooltip": null,
            "layout": "IPY_MODEL_74c1164721d245baa8ddeda9096c76bf",
            "placeholder": "​",
            "style": "IPY_MODEL_f048718a550845e6abb3159c3610f8cc",
            "value": "Downloading: 100%"
          }
        },
        "f92f49202ed54c729af29d92a7999aa4": {
          "model_module": "@jupyter-widgets/controls",
          "model_name": "FloatProgressModel",
          "model_module_version": "1.5.0",
          "state": {
            "_dom_classes": [],
            "_model_module": "@jupyter-widgets/controls",
            "_model_module_version": "1.5.0",
            "_model_name": "FloatProgressModel",
            "_view_count": null,
            "_view_module": "@jupyter-widgets/controls",
            "_view_module_version": "1.5.0",
            "_view_name": "ProgressView",
            "bar_style": "success",
            "description": "",
            "description_tooltip": null,
            "layout": "IPY_MODEL_59659266765d4355b76a16e709b293ef",
            "max": 1355256,
            "min": 0,
            "orientation": "horizontal",
            "style": "IPY_MODEL_7870018333b94bc08581df095b89e0df",
            "value": 1355256
          }
        },
        "0fdbd2b43f7e4e8db3b5612908dde5cc": {
          "model_module": "@jupyter-widgets/controls",
          "model_name": "HTMLModel",
          "model_module_version": "1.5.0",
          "state": {
            "_dom_classes": [],
            "_model_module": "@jupyter-widgets/controls",
            "_model_module_version": "1.5.0",
            "_model_name": "HTMLModel",
            "_view_count": null,
            "_view_module": "@jupyter-widgets/controls",
            "_view_module_version": "1.5.0",
            "_view_name": "HTMLView",
            "description": "",
            "description_tooltip": null,
            "layout": "IPY_MODEL_901bde994544474588b7950826377d9c",
            "placeholder": "​",
            "style": "IPY_MODEL_02a12dbe9c444d68910bd7822b6f1204",
            "value": " 1.29M/1.29M [00:00&lt;00:00, 14.2MB/s]"
          }
        },
        "4c446a5a53294ea88d26f9c58475e400": {
          "model_module": "@jupyter-widgets/base",
          "model_name": "LayoutModel",
          "model_module_version": "1.2.0",
          "state": {
            "_model_module": "@jupyter-widgets/base",
            "_model_module_version": "1.2.0",
            "_model_name": "LayoutModel",
            "_view_count": null,
            "_view_module": "@jupyter-widgets/base",
            "_view_module_version": "1.2.0",
            "_view_name": "LayoutView",
            "align_content": null,
            "align_items": null,
            "align_self": null,
            "border": null,
            "bottom": null,
            "display": null,
            "flex": null,
            "flex_flow": null,
            "grid_area": null,
            "grid_auto_columns": null,
            "grid_auto_flow": null,
            "grid_auto_rows": null,
            "grid_column": null,
            "grid_gap": null,
            "grid_row": null,
            "grid_template_areas": null,
            "grid_template_columns": null,
            "grid_template_rows": null,
            "height": null,
            "justify_content": null,
            "justify_items": null,
            "left": null,
            "margin": null,
            "max_height": null,
            "max_width": null,
            "min_height": null,
            "min_width": null,
            "object_fit": null,
            "object_position": null,
            "order": null,
            "overflow": null,
            "overflow_x": null,
            "overflow_y": null,
            "padding": null,
            "right": null,
            "top": null,
            "visibility": null,
            "width": null
          }
        },
        "74c1164721d245baa8ddeda9096c76bf": {
          "model_module": "@jupyter-widgets/base",
          "model_name": "LayoutModel",
          "model_module_version": "1.2.0",
          "state": {
            "_model_module": "@jupyter-widgets/base",
            "_model_module_version": "1.2.0",
            "_model_name": "LayoutModel",
            "_view_count": null,
            "_view_module": "@jupyter-widgets/base",
            "_view_module_version": "1.2.0",
            "_view_name": "LayoutView",
            "align_content": null,
            "align_items": null,
            "align_self": null,
            "border": null,
            "bottom": null,
            "display": null,
            "flex": null,
            "flex_flow": null,
            "grid_area": null,
            "grid_auto_columns": null,
            "grid_auto_flow": null,
            "grid_auto_rows": null,
            "grid_column": null,
            "grid_gap": null,
            "grid_row": null,
            "grid_template_areas": null,
            "grid_template_columns": null,
            "grid_template_rows": null,
            "height": null,
            "justify_content": null,
            "justify_items": null,
            "left": null,
            "margin": null,
            "max_height": null,
            "max_width": null,
            "min_height": null,
            "min_width": null,
            "object_fit": null,
            "object_position": null,
            "order": null,
            "overflow": null,
            "overflow_x": null,
            "overflow_y": null,
            "padding": null,
            "right": null,
            "top": null,
            "visibility": null,
            "width": null
          }
        },
        "f048718a550845e6abb3159c3610f8cc": {
          "model_module": "@jupyter-widgets/controls",
          "model_name": "DescriptionStyleModel",
          "model_module_version": "1.5.0",
          "state": {
            "_model_module": "@jupyter-widgets/controls",
            "_model_module_version": "1.5.0",
            "_model_name": "DescriptionStyleModel",
            "_view_count": null,
            "_view_module": "@jupyter-widgets/base",
            "_view_module_version": "1.2.0",
            "_view_name": "StyleView",
            "description_width": ""
          }
        },
        "59659266765d4355b76a16e709b293ef": {
          "model_module": "@jupyter-widgets/base",
          "model_name": "LayoutModel",
          "model_module_version": "1.2.0",
          "state": {
            "_model_module": "@jupyter-widgets/base",
            "_model_module_version": "1.2.0",
            "_model_name": "LayoutModel",
            "_view_count": null,
            "_view_module": "@jupyter-widgets/base",
            "_view_module_version": "1.2.0",
            "_view_name": "LayoutView",
            "align_content": null,
            "align_items": null,
            "align_self": null,
            "border": null,
            "bottom": null,
            "display": null,
            "flex": null,
            "flex_flow": null,
            "grid_area": null,
            "grid_auto_columns": null,
            "grid_auto_flow": null,
            "grid_auto_rows": null,
            "grid_column": null,
            "grid_gap": null,
            "grid_row": null,
            "grid_template_areas": null,
            "grid_template_columns": null,
            "grid_template_rows": null,
            "height": null,
            "justify_content": null,
            "justify_items": null,
            "left": null,
            "margin": null,
            "max_height": null,
            "max_width": null,
            "min_height": null,
            "min_width": null,
            "object_fit": null,
            "object_position": null,
            "order": null,
            "overflow": null,
            "overflow_x": null,
            "overflow_y": null,
            "padding": null,
            "right": null,
            "top": null,
            "visibility": null,
            "width": null
          }
        },
        "7870018333b94bc08581df095b89e0df": {
          "model_module": "@jupyter-widgets/controls",
          "model_name": "ProgressStyleModel",
          "model_module_version": "1.5.0",
          "state": {
            "_model_module": "@jupyter-widgets/controls",
            "_model_module_version": "1.5.0",
            "_model_name": "ProgressStyleModel",
            "_view_count": null,
            "_view_module": "@jupyter-widgets/base",
            "_view_module_version": "1.2.0",
            "_view_name": "StyleView",
            "bar_color": null,
            "description_width": ""
          }
        },
        "901bde994544474588b7950826377d9c": {
          "model_module": "@jupyter-widgets/base",
          "model_name": "LayoutModel",
          "model_module_version": "1.2.0",
          "state": {
            "_model_module": "@jupyter-widgets/base",
            "_model_module_version": "1.2.0",
            "_model_name": "LayoutModel",
            "_view_count": null,
            "_view_module": "@jupyter-widgets/base",
            "_view_module_version": "1.2.0",
            "_view_name": "LayoutView",
            "align_content": null,
            "align_items": null,
            "align_self": null,
            "border": null,
            "bottom": null,
            "display": null,
            "flex": null,
            "flex_flow": null,
            "grid_area": null,
            "grid_auto_columns": null,
            "grid_auto_flow": null,
            "grid_auto_rows": null,
            "grid_column": null,
            "grid_gap": null,
            "grid_row": null,
            "grid_template_areas": null,
            "grid_template_columns": null,
            "grid_template_rows": null,
            "height": null,
            "justify_content": null,
            "justify_items": null,
            "left": null,
            "margin": null,
            "max_height": null,
            "max_width": null,
            "min_height": null,
            "min_width": null,
            "object_fit": null,
            "object_position": null,
            "order": null,
            "overflow": null,
            "overflow_x": null,
            "overflow_y": null,
            "padding": null,
            "right": null,
            "top": null,
            "visibility": null,
            "width": null
          }
        },
        "02a12dbe9c444d68910bd7822b6f1204": {
          "model_module": "@jupyter-widgets/controls",
          "model_name": "DescriptionStyleModel",
          "model_module_version": "1.5.0",
          "state": {
            "_model_module": "@jupyter-widgets/controls",
            "_model_module_version": "1.5.0",
            "_model_name": "DescriptionStyleModel",
            "_view_count": null,
            "_view_module": "@jupyter-widgets/base",
            "_view_module_version": "1.2.0",
            "_view_name": "StyleView",
            "description_width": ""
          }
        },
        "f193a283aae14df39270af5329e171e2": {
          "model_module": "@jupyter-widgets/controls",
          "model_name": "HBoxModel",
          "model_module_version": "1.5.0",
          "state": {
            "_dom_classes": [],
            "_model_module": "@jupyter-widgets/controls",
            "_model_module_version": "1.5.0",
            "_model_name": "HBoxModel",
            "_view_count": null,
            "_view_module": "@jupyter-widgets/controls",
            "_view_module_version": "1.5.0",
            "_view_name": "HBoxView",
            "box_style": "",
            "children": [
              "IPY_MODEL_312fc2c1769745c4ab0b9f356ec7bfb0",
              "IPY_MODEL_04ea5971c8e14858b2b293ccc748837c",
              "IPY_MODEL_4dc9e2fcf2c6422393a6c530283dd524"
            ],
            "layout": "IPY_MODEL_cd2040e186bb4ca2aad3afa4a7df0c81"
          }
        },
        "312fc2c1769745c4ab0b9f356ec7bfb0": {
          "model_module": "@jupyter-widgets/controls",
          "model_name": "HTMLModel",
          "model_module_version": "1.5.0",
          "state": {
            "_dom_classes": [],
            "_model_module": "@jupyter-widgets/controls",
            "_model_module_version": "1.5.0",
            "_model_name": "HTMLModel",
            "_view_count": null,
            "_view_module": "@jupyter-widgets/controls",
            "_view_module_version": "1.5.0",
            "_view_name": "HTMLView",
            "description": "",
            "description_tooltip": null,
            "layout": "IPY_MODEL_d7e73a85d13347cf8d7013c9f060c4d4",
            "placeholder": "​",
            "style": "IPY_MODEL_f67160e94ee74e9c8bdbf0d9fdd14fb1",
            "value": "Downloading: 100%"
          }
        },
        "04ea5971c8e14858b2b293ccc748837c": {
          "model_module": "@jupyter-widgets/controls",
          "model_name": "FloatProgressModel",
          "model_module_version": "1.5.0",
          "state": {
            "_dom_classes": [],
            "_model_module": "@jupyter-widgets/controls",
            "_model_module_version": "1.5.0",
            "_model_name": "FloatProgressModel",
            "_view_count": null,
            "_view_module": "@jupyter-widgets/controls",
            "_view_module_version": "1.5.0",
            "_view_name": "ProgressView",
            "bar_style": "success",
            "description": "",
            "description_tooltip": null,
            "layout": "IPY_MODEL_1d1daa80277542a6b2a3911a6cbb98a8",
            "max": 6431878936,
            "min": 0,
            "orientation": "horizontal",
            "style": "IPY_MODEL_c57b51fee4b9447096755efc29a979f4",
            "value": 6431878936
          }
        },
        "4dc9e2fcf2c6422393a6c530283dd524": {
          "model_module": "@jupyter-widgets/controls",
          "model_name": "HTMLModel",
          "model_module_version": "1.5.0",
          "state": {
            "_dom_classes": [],
            "_model_module": "@jupyter-widgets/controls",
            "_model_module_version": "1.5.0",
            "_model_name": "HTMLModel",
            "_view_count": null,
            "_view_module": "@jupyter-widgets/controls",
            "_view_module_version": "1.5.0",
            "_view_name": "HTMLView",
            "description": "",
            "description_tooltip": null,
            "layout": "IPY_MODEL_1862085e328848669d6521c6038de945",
            "placeholder": "​",
            "style": "IPY_MODEL_6f22b67f54f141fabd8d50c006fc3052",
            "value": " 5.99G/5.99G [03:19&lt;00:00, 16.9MB/s]"
          }
        },
        "cd2040e186bb4ca2aad3afa4a7df0c81": {
          "model_module": "@jupyter-widgets/base",
          "model_name": "LayoutModel",
          "model_module_version": "1.2.0",
          "state": {
            "_model_module": "@jupyter-widgets/base",
            "_model_module_version": "1.2.0",
            "_model_name": "LayoutModel",
            "_view_count": null,
            "_view_module": "@jupyter-widgets/base",
            "_view_module_version": "1.2.0",
            "_view_name": "LayoutView",
            "align_content": null,
            "align_items": null,
            "align_self": null,
            "border": null,
            "bottom": null,
            "display": null,
            "flex": null,
            "flex_flow": null,
            "grid_area": null,
            "grid_auto_columns": null,
            "grid_auto_flow": null,
            "grid_auto_rows": null,
            "grid_column": null,
            "grid_gap": null,
            "grid_row": null,
            "grid_template_areas": null,
            "grid_template_columns": null,
            "grid_template_rows": null,
            "height": null,
            "justify_content": null,
            "justify_items": null,
            "left": null,
            "margin": null,
            "max_height": null,
            "max_width": null,
            "min_height": null,
            "min_width": null,
            "object_fit": null,
            "object_position": null,
            "order": null,
            "overflow": null,
            "overflow_x": null,
            "overflow_y": null,
            "padding": null,
            "right": null,
            "top": null,
            "visibility": null,
            "width": null
          }
        },
        "d7e73a85d13347cf8d7013c9f060c4d4": {
          "model_module": "@jupyter-widgets/base",
          "model_name": "LayoutModel",
          "model_module_version": "1.2.0",
          "state": {
            "_model_module": "@jupyter-widgets/base",
            "_model_module_version": "1.2.0",
            "_model_name": "LayoutModel",
            "_view_count": null,
            "_view_module": "@jupyter-widgets/base",
            "_view_module_version": "1.2.0",
            "_view_name": "LayoutView",
            "align_content": null,
            "align_items": null,
            "align_self": null,
            "border": null,
            "bottom": null,
            "display": null,
            "flex": null,
            "flex_flow": null,
            "grid_area": null,
            "grid_auto_columns": null,
            "grid_auto_flow": null,
            "grid_auto_rows": null,
            "grid_column": null,
            "grid_gap": null,
            "grid_row": null,
            "grid_template_areas": null,
            "grid_template_columns": null,
            "grid_template_rows": null,
            "height": null,
            "justify_content": null,
            "justify_items": null,
            "left": null,
            "margin": null,
            "max_height": null,
            "max_width": null,
            "min_height": null,
            "min_width": null,
            "object_fit": null,
            "object_position": null,
            "order": null,
            "overflow": null,
            "overflow_x": null,
            "overflow_y": null,
            "padding": null,
            "right": null,
            "top": null,
            "visibility": null,
            "width": null
          }
        },
        "f67160e94ee74e9c8bdbf0d9fdd14fb1": {
          "model_module": "@jupyter-widgets/controls",
          "model_name": "DescriptionStyleModel",
          "model_module_version": "1.5.0",
          "state": {
            "_model_module": "@jupyter-widgets/controls",
            "_model_module_version": "1.5.0",
            "_model_name": "DescriptionStyleModel",
            "_view_count": null,
            "_view_module": "@jupyter-widgets/base",
            "_view_module_version": "1.2.0",
            "_view_name": "StyleView",
            "description_width": ""
          }
        },
        "1d1daa80277542a6b2a3911a6cbb98a8": {
          "model_module": "@jupyter-widgets/base",
          "model_name": "LayoutModel",
          "model_module_version": "1.2.0",
          "state": {
            "_model_module": "@jupyter-widgets/base",
            "_model_module_version": "1.2.0",
            "_model_name": "LayoutModel",
            "_view_count": null,
            "_view_module": "@jupyter-widgets/base",
            "_view_module_version": "1.2.0",
            "_view_name": "LayoutView",
            "align_content": null,
            "align_items": null,
            "align_self": null,
            "border": null,
            "bottom": null,
            "display": null,
            "flex": null,
            "flex_flow": null,
            "grid_area": null,
            "grid_auto_columns": null,
            "grid_auto_flow": null,
            "grid_auto_rows": null,
            "grid_column": null,
            "grid_gap": null,
            "grid_row": null,
            "grid_template_areas": null,
            "grid_template_columns": null,
            "grid_template_rows": null,
            "height": null,
            "justify_content": null,
            "justify_items": null,
            "left": null,
            "margin": null,
            "max_height": null,
            "max_width": null,
            "min_height": null,
            "min_width": null,
            "object_fit": null,
            "object_position": null,
            "order": null,
            "overflow": null,
            "overflow_x": null,
            "overflow_y": null,
            "padding": null,
            "right": null,
            "top": null,
            "visibility": null,
            "width": null
          }
        },
        "c57b51fee4b9447096755efc29a979f4": {
          "model_module": "@jupyter-widgets/controls",
          "model_name": "ProgressStyleModel",
          "model_module_version": "1.5.0",
          "state": {
            "_model_module": "@jupyter-widgets/controls",
            "_model_module_version": "1.5.0",
            "_model_name": "ProgressStyleModel",
            "_view_count": null,
            "_view_module": "@jupyter-widgets/base",
            "_view_module_version": "1.2.0",
            "_view_name": "StyleView",
            "bar_color": null,
            "description_width": ""
          }
        },
        "1862085e328848669d6521c6038de945": {
          "model_module": "@jupyter-widgets/base",
          "model_name": "LayoutModel",
          "model_module_version": "1.2.0",
          "state": {
            "_model_module": "@jupyter-widgets/base",
            "_model_module_version": "1.2.0",
            "_model_name": "LayoutModel",
            "_view_count": null,
            "_view_module": "@jupyter-widgets/base",
            "_view_module_version": "1.2.0",
            "_view_name": "LayoutView",
            "align_content": null,
            "align_items": null,
            "align_self": null,
            "border": null,
            "bottom": null,
            "display": null,
            "flex": null,
            "flex_flow": null,
            "grid_area": null,
            "grid_auto_columns": null,
            "grid_auto_flow": null,
            "grid_auto_rows": null,
            "grid_column": null,
            "grid_gap": null,
            "grid_row": null,
            "grid_template_areas": null,
            "grid_template_columns": null,
            "grid_template_rows": null,
            "height": null,
            "justify_content": null,
            "justify_items": null,
            "left": null,
            "margin": null,
            "max_height": null,
            "max_width": null,
            "min_height": null,
            "min_width": null,
            "object_fit": null,
            "object_position": null,
            "order": null,
            "overflow": null,
            "overflow_x": null,
            "overflow_y": null,
            "padding": null,
            "right": null,
            "top": null,
            "visibility": null,
            "width": null
          }
        },
        "6f22b67f54f141fabd8d50c006fc3052": {
          "model_module": "@jupyter-widgets/controls",
          "model_name": "DescriptionStyleModel",
          "model_module_version": "1.5.0",
          "state": {
            "_model_module": "@jupyter-widgets/controls",
            "_model_module_version": "1.5.0",
            "_model_name": "DescriptionStyleModel",
            "_view_count": null,
            "_view_module": "@jupyter-widgets/base",
            "_view_module_version": "1.2.0",
            "_view_name": "StyleView",
            "description_width": ""
          }
        }
      }
    }
  },
  "nbformat": 4,
  "nbformat_minor": 0
}